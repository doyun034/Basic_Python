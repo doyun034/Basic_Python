{
 "cells": [
  {
   "cell_type": "code",
   "execution_count": 31,
   "id": "dd81a40f-1ec5-4d90-8dcc-b40bc61d1637",
   "metadata": {},
   "outputs": [],
   "source": [
    "menu = {\n",
    "        \"한국음식\": 10000,\n",
    "        \"중국음식\": 12000,\n",
    "        \"일본음식\": 11000\n",
    "    \n",
    "}#메뉴 변수 지정값 선언"
   ]
  },
  {
   "cell_type": "code",
   "execution_count": 33,
   "id": "5be004e1-fb4d-4d42-9349-b070eabbb331",
   "metadata": {},
   "outputs": [
    {
     "name": "stdin",
     "output_type": "stream",
     "text": [
      "주문하실 음식 종류(한국음식, 중국음식, 일본음식):  한국음식\n",
      "주문하실 음식 수량:  4\n"
     ]
    }
   ],
   "source": [
    "food_type = input(\"주문하실 음식 종류(한국음식, 중국음식, 일본음식): \") # food_type 변수 선언\n",
    "quantity = int(input(\"주문하실 음식 수량: \")) # quantity 변수 선언"
   ]
  },
  {
   "cell_type": "code",
   "execution_count": 34,
   "id": "3777aeec-c55c-4fdf-9b30-3416aee16a8f",
   "metadata": {},
   "outputs": [],
   "source": [
    "price = menu[food_type] * quantity # price 변수 서식 입력"
   ]
  },
  {
   "cell_type": "code",
   "execution_count": 35,
   "id": "fb6d17c0-911e-4151-9848-7034a427d33e",
   "metadata": {},
   "outputs": [],
   "source": [
    "if food_type == \"한국음식\": # 조건문 실행\n",
    "    discount_rate = 0.1 # 변수값 0.1 할당\n",
    "elif food_type == \"중국음식\": # 조건문 실행\n",
    "    discount_rate = 0.2 # 변수값 0.2 할당\n",
    "elif food_type == \"일본음식\": # 조건문 실행\n",
    "    discount_rate = 0.15 # 변수값 0.15 할당\n",
    "else: # 조건문 실행\n",
    "    discount_rate = 0 # 변수값 0 할당\n",
    "\n",
    "discount_amount = price * discount_rate #discount_amount 변수 서식 입력\n",
    "discounted_price = price - discount_amount # discounted_price 변수 서식 입력"
   ]
  },
  {
   "cell_type": "code",
   "execution_count": 36,
   "id": "f8a6c83f-b24a-45f4-bd4c-a251f68843b1",
   "metadata": {},
   "outputs": [
    {
     "name": "stdout",
     "output_type": "stream",
     "text": [
      "====== 주문 내역 ======\n",
      "음식 종류: 한국음식\n",
      "수량: 4\n",
      "총 가격 40000원\n",
      "할인 금액:  4000.000000원\n",
      "할인 후 총 가격:  36000.000000원\n"
     ]
    }
   ],
   "source": [
    "print(\"====== 주문 내역 ======\") #프린트문 철력\n",
    "print(f\"음식 종류: {food_type}\") #프린트문 철력\n",
    "print(f\"수량: {quantity}\") #프린트문 철력\n",
    "print(f\"총 가격 {price}원\") #프린트문 철력\n",
    "print(f\"할인 금액: {discount_amount: 0f}원\") #프린트문 철력\n",
    "print(f\"할인 후 총 가격: {discounted_price: 0f}원\") #프린트문 철력"
   ]
  },
  {
   "cell_type": "code",
   "execution_count": null,
   "id": "c2d12fce-c847-4914-91de-df877de51fd2",
   "metadata": {},
   "outputs": [],
   "source": []
  }
 ],
 "metadata": {
  "kernelspec": {
   "display_name": "Python 3 (ipykernel)",
   "language": "python",
   "name": "python3"
  },
  "language_info": {
   "codemirror_mode": {
    "name": "ipython",
    "version": 3
   },
   "file_extension": ".py",
   "mimetype": "text/x-python",
   "name": "python",
   "nbconvert_exporter": "python",
   "pygments_lexer": "ipython3",
   "version": "3.11.7"
  }
 },
 "nbformat": 4,
 "nbformat_minor": 5
}
