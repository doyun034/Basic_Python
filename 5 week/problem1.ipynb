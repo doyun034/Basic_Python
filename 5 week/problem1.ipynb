{
 "cells": [
  {
   "cell_type": "code",
   "execution_count": 1,
   "id": "ccf63291-5687-440f-94d3-5bc9b054ccad",
   "metadata": {},
   "outputs": [
    {
     "name": "stdin",
     "output_type": "stream",
     "text": [
      "한글 단어 입력(계절, 식물, 달력, 동물 중 선택) 식물\n"
     ]
    }
   ],
   "source": [
    "word=input('한글 단어 입력(계절, 식물, 달력, 동물 중 선택)') #word 변수 선언"
   ]
  },
  {
   "cell_type": "code",
   "execution_count": 3,
   "id": "8489c1f7-5056-43e2-aeac-508f12b33814",
   "metadata": {},
   "outputs": [
    {
     "name": "stdout",
     "output_type": "stream",
     "text": [
      "\"식물에 대한 영어 단어는 \"Plant\" 입니다\n"
     ]
    }
   ],
   "source": [
    "if word == '계절': # if절 입력\n",
    "    print(f'\"{word}\"에 대한 영어단어는 \"Seanson\"입니다.') #프린트문 출력\n",
    "elif word == '식물': #elif절 입력\n",
    "    print(f'\"{word}에 대한 영어 단어는 \"Plant\" 입니다') #프린트문 출력\n",
    "elif word == '달력': #elif절 입력\n",
    "    print(f'\"{word}에 대한 영어 단어는 \"Calendar\" 입니다') #프린트문 출력\n",
    "elif word == '동물': #elif절 입력\n",
    "    print(f'\"{word}에 대한 영어 단어는 \"Animal\" 입니다') #프린트문 출력\n",
    "else: #else절 입력\n",
    "    '해당 언어는 아직 준비되지 않았습니다.'"
   ]
  },
  {
   "cell_type": "code",
   "execution_count": null,
   "id": "ef0f4339-8029-477d-8753-48e16d67ee09",
   "metadata": {},
   "outputs": [],
   "source": []
  }
 ],
 "metadata": {
  "kernelspec": {
   "display_name": "Python 3 (ipykernel)",
   "language": "python",
   "name": "python3"
  },
  "language_info": {
   "codemirror_mode": {
    "name": "ipython",
    "version": 3
   },
   "file_extension": ".py",
   "mimetype": "text/x-python",
   "name": "python",
   "nbconvert_exporter": "python",
   "pygments_lexer": "ipython3",
   "version": "3.11.7"
  }
 },
 "nbformat": 4,
 "nbformat_minor": 5
}
