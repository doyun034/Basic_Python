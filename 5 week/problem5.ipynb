{
 "cells": [
  {
   "cell_type": "code",
   "execution_count": 1,
   "id": "17bfb822-0dd9-4438-8897-9e9db88a56b6",
   "metadata": {},
   "outputs": [],
   "source": [
    "menu = {\n",
    "        \"한국음식\": 10000,\n",
    "        \"중국음식\": 12000,\n",
    "        \"일본음식\": 11000,\n",
    "        \"이탈리안음식\": 180000,\n",
    "        \"태국음식\": 17000,\n",
    "        \"인도음식\": 22000\n",
    "    \n",
    "}#메뉴 변수 지정값 선언"
   ]
  },
  {
   "cell_type": "code",
   "execution_count": 4,
   "id": "d1fc2073-39e0-45e7-9fa8-4113c791f532",
   "metadata": {},
   "outputs": [
    {
     "name": "stdin",
     "output_type": "stream",
     "text": [
      "주문하실 음식 종류:  한국음식\n",
      "주문하실 음식 수량:  6\n"
     ]
    }
   ],
   "source": [
    "food_type = input(\"주문하실 음식 종류: \") # food_type 변수 선언\n",
    "quantity = int(input(\"주문하실 음식 수량: \")) # quantity 변수 선언"
   ]
  },
  {
   "cell_type": "code",
   "execution_count": 5,
   "id": "db1e810e-ef6c-40db-915b-79c1d70e1067",
   "metadata": {},
   "outputs": [
    {
     "name": "stdout",
     "output_type": "stream",
     "text": [
      "====== 주문 내역 ======\n",
      "음식 종류: 한국음식\n",
      "수량: 6\n",
      "총 가격 60000원\n",
      "할인 금액:  7200.000000원\n",
      "할인 후 총 가격:  52800.000000원\n"
     ]
    }
   ],
   "source": [
    "if food_type not in list(menu.keys()): # 조건문 설정\n",
    "    print(\"판매하지 않는 음식입니다.\") # 프린트문 출력\n",
    "else:# 조건문 설정\n",
    "    price = menu[food_type] * quantity # price 변수 선언\n",
    "    if food_type == \"한국음식\": # 조건문 설정\n",
    "        discount_rate = 0.1 # 변수값 0.1 할당\n",
    "    elif food_type == \"중국음식\": # 조건문 설정\n",
    "        discount_rate = 0.2 # 변수값 0.1 할당\n",
    "    elif food_type == \"일본음식\": # 조건문 설정\n",
    "        discount_rate = 0.15 # 변수값 0.1 할당\n",
    "    elif food_type == \"이탈리안음식\": # 조건문 설정\n",
    "        discount_rate = 0.15 # 변수값 0.1 할당\n",
    "    elif food_type == \"태국음식\": # 조건문 설정\n",
    "        discount_rate = 0.10 # 변수값 0.1 할당\n",
    "    elif food_type == \"인도음식\": # 조건문 설정\n",
    "        discount_rate = 0.20 # 변수값 0.1 할당\n",
    "    else: # 조건문 설정 \n",
    "        discount_rate = 0 # 변수값 0.1 할당\n",
    "\n",
    "    if quantity > 4: #discount_amount 조건문 설정\n",
    "        discount_amount = price * discount_rate*(1+0.2) # 조건문 조건 설정\n",
    "    else: # 조건문 설정\n",
    "        discount_amount = price * discount_rate # 조건문 조건 설정\n",
    "        \n",
    "discounted_price = price - discount_amount # discounted_price 변수 서식 입력\n",
    "\n",
    "print(\"====== 주문 내역 ======\") #프린트문 출력\n",
    "print(f\"음식 종류: {food_type}\") #프린트문 출력\n",
    "print(f\"수량: {quantity}\") #프린트문 출력\n",
    "print(f\"총 가격 {price}원\") #프린트문 출력\n",
    "print(f\"할인 금액: {discount_amount: 0f}원\") #프린트문 출력\n",
    "print(f\"할인 후 총 가격: {discounted_price: 0f}원\") #프린트문 출력"
   ]
  },
  {
   "cell_type": "code",
   "execution_count": null,
   "id": "684db983-f700-40d6-875e-2bc62ae18d4d",
   "metadata": {},
   "outputs": [],
   "source": []
  },
  {
   "cell_type": "code",
   "execution_count": null,
   "id": "61671030-8626-494d-92a8-5f6e13422720",
   "metadata": {},
   "outputs": [],
   "source": []
  },
  {
   "cell_type": "code",
   "execution_count": null,
   "id": "51dda050-f8b5-4285-b495-690aeee5b161",
   "metadata": {},
   "outputs": [],
   "source": []
  },
  {
   "cell_type": "code",
   "execution_count": null,
   "id": "36240837-ec46-4063-a8dc-51fd2320fa16",
   "metadata": {},
   "outputs": [],
   "source": []
  }
 ],
 "metadata": {
  "kernelspec": {
   "display_name": "Python 3 (ipykernel)",
   "language": "python",
   "name": "python3"
  },
  "language_info": {
   "codemirror_mode": {
    "name": "ipython",
    "version": 3
   },
   "file_extension": ".py",
   "mimetype": "text/x-python",
   "name": "python",
   "nbconvert_exporter": "python",
   "pygments_lexer": "ipython3",
   "version": "3.11.7"
  }
 },
 "nbformat": 4,
 "nbformat_minor": 5
}
