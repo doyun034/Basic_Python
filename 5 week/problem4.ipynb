{
 "cells": [
  {
   "cell_type": "code",
   "execution_count": 15,
   "id": "1e0667cf-95ac-45de-accd-cb0005ffb087",
   "metadata": {},
   "outputs": [],
   "source": [
    "menu = {\n",
    "        \"한국음식\": 10000,\n",
    "        \"중국음식\": 12000,\n",
    "        \"일본음식\": 11000,\n",
    "        \"이탈리안음식\": 180000,\n",
    "        \"태국음식\": 17000,\n",
    "        \"인도음식\": 22000\n",
    "    \n",
    "}#메뉴 변수 지정값 선언"
   ]
  },
  {
   "cell_type": "code",
   "execution_count": 16,
   "id": "b3df945e-d34f-40f4-a9f1-a76e47e1ece1",
   "metadata": {},
   "outputs": [
    {
     "name": "stdin",
     "output_type": "stream",
     "text": [
      "주문하실 음식 종류:  한국음식\n",
      "주문하실 음식 수량:  2\n"
     ]
    }
   ],
   "source": [
    "food_type = input(\"주문하실 음식 종류: \") # food_type 변수 선언\n",
    "quantity = int(input(\"주문하실 음식 수량: \")) # quantity 변수 선언"
   ]
  },
  {
   "cell_type": "code",
   "execution_count": 17,
   "id": "10a07653-8185-49d7-bed6-7dac4b527533",
   "metadata": {},
   "outputs": [
    {
     "name": "stdout",
     "output_type": "stream",
     "text": [
      "====== 주문 내역 ======\n",
      "음식 종류: 한국음식\n",
      "수량: 2\n",
      "총 가격 20000원\n",
      "할인 금액:  2000.000000원\n",
      "할인 후 총 가격:  18000.000000원\n"
     ]
    }
   ],
   "source": [
    "if food_type not in list(menu.keys()): # 조건문 설정\n",
    "    print(\"판매하지 않는 음식입니다.\") # 프린트문 출력\n",
    "else:# 조건문 설정\n",
    "    price = menu[food_type] * quantity # price 변수 선언\n",
    "    if food_type == \"한국음식\": # 조건문 설정\n",
    "        discount_rate = 0.1 # 변수값 0.1 할당\n",
    "    elif food_type == \"중국음식\": # 조건문 설정\n",
    "        discount_rate = 0.2 # 변수값 0.1 할당\n",
    "    elif food_type == \"일본음식\": # 조건문 설정\n",
    "        discount_rate = 0.15 # 변수값 0.1 할당\n",
    "    elif food_type == \"이탈리안음식\": # 조건문 설정\n",
    "        discount_rate = 0.15 # 변수값 0.1 할당\n",
    "    elif food_type == \"태국음식\": # 조건문 설정\n",
    "        discount_rate = 0.10 # 변수값 0.1 할당\n",
    "    elif food_type == \"인도음식\": # 조건문 설정\n",
    "        discount_rate = 0.20 # 변수값 0.1 할당\n",
    "    else: # 조건문 설정 \n",
    "        discount_rate = 0 # 변수값 0.1 할당\n",
    "\n",
    "discount_amount = price * discount_rate #discount_amount 변수 서식 입력\n",
    "discounted_price = price - discount_amount # discounted_price 변수 서식 입력\n",
    "\n",
    "print(\"====== 주문 내역 ======\") #프린트문 출력\n",
    "print(f\"음식 종류: {food_type}\") #프린트문 출력\n",
    "print(f\"수량: {quantity}\") #프린트문 출력\n",
    "print(f\"총 가격 {price}원\") #프린트문 출력\n",
    "print(f\"할인 금액: {discount_amount: 0f}원\") #프린트문 출력\n",
    "print(f\"할인 후 총 가격: {discounted_price: 0f}원\") #프린트문 출력"
   ]
  },
  {
   "cell_type": "code",
   "execution_count": null,
   "id": "72cc1a12-7a2f-41fc-ae82-7558187a0a2a",
   "metadata": {},
   "outputs": [],
   "source": []
  },
  {
   "cell_type": "code",
   "execution_count": null,
   "id": "7d8e94d0-ba3f-49b5-9eb4-0b1561c183c4",
   "metadata": {},
   "outputs": [],
   "source": []
  },
  {
   "cell_type": "code",
   "execution_count": null,
   "id": "60430380-9d52-415a-bb84-941e3dd93bdc",
   "metadata": {},
   "outputs": [],
   "source": []
  }
 ],
 "metadata": {
  "kernelspec": {
   "display_name": "Python 3 (ipykernel)",
   "language": "python",
   "name": "python3"
  },
  "language_info": {
   "codemirror_mode": {
    "name": "ipython",
    "version": 3
   },
   "file_extension": ".py",
   "mimetype": "text/x-python",
   "name": "python",
   "nbconvert_exporter": "python",
   "pygments_lexer": "ipython3",
   "version": "3.11.7"
  }
 },
 "nbformat": 4,
 "nbformat_minor": 5
}
