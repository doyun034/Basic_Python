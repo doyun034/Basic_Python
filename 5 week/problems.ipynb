{
 "cells": [
  {
   "cell_type": "code",
   "execution_count": 1,
   "id": "ccf63291-5687-440f-94d3-5bc9b054ccad",
   "metadata": {},
   "outputs": [
    {
     "name": "stdin",
     "output_type": "stream",
     "text": [
      "한글 단어 입력(계절, 식물, 달력, 동물 중 선택) 식물\n"
     ]
    }
   ],
   "source": [
    "# 문제 1\n",
    "word=input('한글 단어 입력(계절, 식물, 달력, 동물 중 선택)') #word 변수 선언"
   ]
  },
  {
   "cell_type": "code",
   "execution_count": 3,
   "id": "8489c1f7-5056-43e2-aeac-508f12b33814",
   "metadata": {},
   "outputs": [
    {
     "name": "stdout",
     "output_type": "stream",
     "text": [
      "\"식물에 대한 영어 단어는 \"Plant\" 입니다\n"
     ]
    }
   ],
   "source": [
    "if word == '계절': # if절 입력\n",
    "    print(f'\"{word}\"에 대한 영어단어는 \"Seanson\"입니다.') #프린트문 출력\n",
    "elif word == '식물': #elif절 입력\n",
    "    print(f'\"{word}에 대한 영어 단어는 \"Plant\" 입니다') #프린트문 출력\n",
    "elif word == '달력': #elif절 입력\n",
    "    print(f'\"{word}에 대한 영어 단어는 \"Calendar\" 입니다') #프린트문 출력\n",
    "elif word == '동물': #elif절 입력\n",
    "    print(f'\"{word}에 대한 영어 단어는 \"Animal\" 입니다') #프린트문 출력\n",
    "else: #else절 입력\n",
    "    '해당 언어는 아직 준비되지 않았습니다.'"
   ]
  },
  {
   "cell_type": "code",
   "execution_count": null,
   "id": "ef0f4339-8029-477d-8753-48e16d67ee09",
   "metadata": {},
   "outputs": [],
   "source": [
    "# 문제 2\n",
    "import random # 랜덤 라이브러리 추가"
   ]
  },
  {
   "cell_type": "code",
   "execution_count": null,
   "id": "ee073bd5-b753-4e7d-85b7-409ea920571e",
   "metadata": {},
   "outputs": [],
   "source": [
    "f_kind = ['한식', '양식', '일식', '중식', '태국음식'] # f_kind 배열 추가\n",
    "\n",
    "if random.choice(f_kind) == \"한식\": # 조건문 추가\n",
    "    print(\"오늘 추천식: 한식\") # 프린트문 출력\n",
    "elif random.choice(f_kind) == \"양식\":# 조건문 추가\n",
    "    print(\"오늘 추천식: 양식\") # 프린트문 출력\n",
    "elif random.choice(f_kind) == \"일식\":# 조건문 추가\n",
    "    print(\"오늘 추천식: 일식\") # 프린트문 출력\n",
    "elif random.choice(f_kind) == \"중식\":# 조건문 추가\n",
    "    print(\"오늘 추천식: 중식\") # 프린트문 출력\n",
    "else: # 조건문 추가\n",
    "    print(\"없습니다.\") # 프린트문 출력"
   ]
  },
  {
   "cell_type": "code",
   "execution_count": null,
   "id": "a6576557-4d03-4732-933e-07b1d48c2091",
   "metadata": {},
   "outputs": [],
   "source": [
    "# 문제 3\n",
    "menu = {\n",
    "        \"한국음식\": 10000,\n",
    "        \"중국음식\": 12000,\n",
    "        \"일본음식\": 11000\n",
    "    \n",
    "}#메뉴 변수 지정값 선언"
   ]
  },
  {
   "cell_type": "code",
   "execution_count": null,
   "id": "bfe9e889-7c93-4aa3-989a-372505ad7d78",
   "metadata": {},
   "outputs": [],
   "source": [
    "food_type = input(\"주문하실 음식 종류(한국음식, 중국음식, 일본음식): \") # food_type 변수 선언\n",
    "quantity = int(input(\"주문하실 음식 수량: \")) # quantity 변수 선언"
   ]
  },
  {
   "cell_type": "code",
   "execution_count": null,
   "id": "8bbcf8f7-4bb6-440b-a25e-a06806f847e8",
   "metadata": {},
   "outputs": [],
   "source": [
    "price = menu[food_type] * quantity # price 변수 서식 입력"
   ]
  },
  {
   "cell_type": "code",
   "execution_count": null,
   "id": "2e8d9ae1-0af5-4503-ad47-a7124f264722",
   "metadata": {},
   "outputs": [],
   "source": [
    "if food_type == \"한국음식\": # 조건문 실행\n",
    "    discount_rate = 0.1 # 변수값 0.1 할당\n",
    "elif food_type == \"중국음식\": # 조건문 실행\n",
    "    discount_rate = 0.2 # 변수값 0.2 할당\n",
    "elif food_type == \"일본음식\": # 조건문 실행\n",
    "    discount_rate = 0.15 # 변수값 0.15 할당\n",
    "else: # 조건문 실행\n",
    "    discount_rate = 0 # 변수값 0 할당\n",
    "\n",
    "discount_amount = price * discount_rate #discount_amount 변수 서식 입력\n",
    "discounted_price = price - discount_amount # discounted_price 변수 서식 입력"
   ]
  },
  {
   "cell_type": "code",
   "execution_count": null,
   "id": "e38bbf7b-f11b-4446-a2c6-5aa6c1614578",
   "metadata": {},
   "outputs": [],
   "source": [
    "print(\"====== 주문 내역 ======\") #프린트문 철력\n",
    "print(f\"음식 종류: {food_type}\") #프린트문 철력\n",
    "print(f\"수량: {quantity}\") #프린트문 철력\n",
    "print(f\"총 가격 {price}원\") #프린트문 철력\n",
    "print(f\"할인 금액: {discount_amount: 0f}원\") #프린트문 철력\n",
    "print(f\"할인 후 총 가격: {discounted_price: 0f}원\") #프린트문 철력"
   ]
  },
  {
   "cell_type": "code",
   "execution_count": null,
   "id": "99e9857b-c1f9-4864-9b21-d06f1b933220",
   "metadata": {},
   "outputs": [],
   "source": [
    "# 문제 4\n",
    "menu = {\n",
    "        \"한국음식\": 10000,\n",
    "        \"중국음식\": 12000,\n",
    "        \"일본음식\": 11000,\n",
    "        \"이탈리안음식\": 180000,\n",
    "        \"태국음식\": 17000,\n",
    "        \"인도음식\": 22000\n",
    "    \n",
    "}#메뉴 변수 지정값 선언"
   ]
  },
  {
   "cell_type": "code",
   "execution_count": null,
   "id": "00c0253c-8bc9-4f45-898c-a40f73774a22",
   "metadata": {},
   "outputs": [],
   "source": [
    "food_type = input(\"주문하실 음식 종류: \") # food_type 변수 선언\n",
    "quantity = int(input(\"주문하실 음식 수량: \")) # quantity 변수 선언"
   ]
  },
  {
   "cell_type": "code",
   "execution_count": null,
   "id": "a79c94ea-bb47-49c0-aa42-89f51f8afc1a",
   "metadata": {},
   "outputs": [],
   "source": [
    "if food_type not in list(menu.keys()): # 조건문 설정\n",
    "    print(\"판매하지 않는 음식입니다.\") # 프린트문 출력\n",
    "else:# 조건문 설정\n",
    "    price = menu[food_type] * quantity # price 변수 선언\n",
    "    if food_type == \"한국음식\": # 조건문 설정\n",
    "        discount_rate = 0.1 # 변수값 0.1 할당\n",
    "    elif food_type == \"중국음식\": # 조건문 설정\n",
    "        discount_rate = 0.2 # 변수값 0.1 할당\n",
    "    elif food_type == \"일본음식\": # 조건문 설정\n",
    "        discount_rate = 0.15 # 변수값 0.1 할당\n",
    "    elif food_type == \"이탈리안음식\": # 조건문 설정\n",
    "        discount_rate = 0.15 # 변수값 0.1 할당\n",
    "    elif food_type == \"태국음식\": # 조건문 설정\n",
    "        discount_rate = 0.10 # 변수값 0.1 할당\n",
    "    elif food_type == \"인도음식\": # 조건문 설정\n",
    "        discount_rate = 0.20 # 변수값 0.1 할당\n",
    "    else: # 조건문 설정 \n",
    "        discount_rate = 0 # 변수값 0.1 할당\n",
    "\n",
    "discount_amount = price * discount_rate #discount_amount 변수 서식 입력\n",
    "discounted_price = price - discount_amount # discounted_price 변수 서식 입력\n",
    "\n",
    "print(\"====== 주문 내역 ======\") #프린트문 출력\n",
    "print(f\"음식 종류: {food_type}\") #프린트문 출력\n",
    "print(f\"수량: {quantity}\") #프린트문 출력\n",
    "print(f\"총 가격 {price}원\") #프린트문 출력\n",
    "print(f\"할인 금액: {discount_amount: 0f}원\") #프린트문 출력\n",
    "print(f\"할인 후 총 가격: {discounted_price: 0f}원\") #프린트문 출력"
   ]
  },
  {
   "cell_type": "code",
   "execution_count": null,
   "id": "d1ac1e48-606e-445d-8d40-7439b1f47975",
   "metadata": {},
   "outputs": [],
   "source": [
    "# 문제 5\n",
    "menu = {\n",
    "        \"한국음식\": 10000,\n",
    "        \"중국음식\": 12000,\n",
    "        \"일본음식\": 11000,\n",
    "        \"이탈리안음식\": 180000,\n",
    "        \"태국음식\": 17000,\n",
    "        \"인도음식\": 22000\n",
    "    \n",
    "}#메뉴 변수 지정값 선언"
   ]
  },
  {
   "cell_type": "code",
   "execution_count": null,
   "id": "1cada257-a02b-4ea8-b1d4-8ab1ce37238d",
   "metadata": {},
   "outputs": [],
   "source": [
    "food_type = input(\"주문하실 음식 종류: \") # food_type 변수 선언\n",
    "quantity = int(input(\"주문하실 음식 수량: \")) # quantity 변수 선언"
   ]
  },
  {
   "cell_type": "code",
   "execution_count": null,
   "id": "55e682db-6774-4f9b-b8d7-927efaf1c0aa",
   "metadata": {},
   "outputs": [],
   "source": [
    "if food_type not in list(menu.keys()): # 조건문 설정\n",
    "    print(\"판매하지 않는 음식입니다.\") # 프린트문 출력\n",
    "else:# 조건문 설정\n",
    "    price = menu[food_type] * quantity # price 변수 선언\n",
    "    if food_type == \"한국음식\": # 조건문 설정\n",
    "        discount_rate = 0.1 # 변수값 0.1 할당\n",
    "    elif food_type == \"중국음식\": # 조건문 설정\n",
    "        discount_rate = 0.2 # 변수값 0.1 할당\n",
    "    elif food_type == \"일본음식\": # 조건문 설정\n",
    "        discount_rate = 0.15 # 변수값 0.1 할당\n",
    "    elif food_type == \"이탈리안음식\": # 조건문 설정\n",
    "        discount_rate = 0.15 # 변수값 0.1 할당\n",
    "    elif food_type == \"태국음식\": # 조건문 설정\n",
    "        discount_rate = 0.10 # 변수값 0.1 할당\n",
    "    elif food_type == \"인도음식\": # 조건문 설정\n",
    "        discount_rate = 0.20 # 변수값 0.1 할당\n",
    "    else: # 조건문 설정 \n",
    "        discount_rate = 0 # 변수값 0.1 할당\n",
    "\n",
    "    if quantity > 4: #discount_amount 조건문 설정\n",
    "        discount_amount = price * discount_rate*(1+0.2) # 조건문 조건 설정\n",
    "    else: # 조건문 설정\n",
    "        discount_amount = price * discount_rate # 조건문 조건 설정\n",
    "        \n",
    "discounted_price = price - discount_amount # discounted_price 변수 서식 입력\n",
    "\n",
    "print(\"====== 주문 내역 ======\") #프린트문 출력\n",
    "print(f\"음식 종류: {food_type}\") #프린트문 출력\n",
    "print(f\"수량: {quantity}\") #프린트문 출력\n",
    "print(f\"총 가격 {price}원\") #프린트문 출력\n",
    "print(f\"할인 금액: {discount_amount: 0f}원\") #프린트문 출력\n",
    "print(f\"할인 후 총 가격: {discounted_price: 0f}원\") #프린트문 출력"
   ]
  },
  {
   "cell_type": "code",
   "execution_count": null,
   "id": "31a3da75-e8a6-43b8-b4dc-7b9f127be9e5",
   "metadata": {},
   "outputs": [],
   "source": [
    "# 문제 6\n",
    "import datetime # datatime 라이브러리 주입"
   ]
  },
  {
   "cell_type": "code",
   "execution_count": null,
   "id": "ccfa50ba-1043-42cb-829a-0a9d32b58c74",
   "metadata": {},
   "outputs": [],
   "source": [
    "now = datetime.datetime.now() # now 변수 설정"
   ]
  },
  {
   "cell_type": "code",
   "execution_count": null,
   "id": "1f5e080a-6341-4252-9b9e-6404068fadaa",
   "metadata": {},
   "outputs": [],
   "source": [
    "if now.month >= 3 and now.month <=5: # 숫자 3 부터 5까지 조건문 설정\n",
    "    print(f'이번 달: {now.month}월, 계절, 봄') # 봄 출력\n",
    "elif now.month>=6 and now.month<=8: # 숫자 6 부터 8까지 조건문 설정\n",
    "    print(f'이번달:{now.month}월, 계절: 여름') # 여름 출력\n",
    "elif now.month>=9 and now.month<=11: # 숫자 9 부터 11까지 조건문 설정\n",
    "    print(f'이번달:{now.month}월, 계절: 가을') # 가을 출력\n",
    "elif now.month==12 or (now.month)>=1 and now.month<=2: # 숫자 12 or 1 그리고 2까지 조건문 설정\n",
    "    print(f'이번달:{now.month}월, 계절: 겨울') # 겨울 출력"
   ]
  }
 ],
 "metadata": {
  "kernelspec": {
   "display_name": "Python 3 (ipykernel)",
   "language": "python",
   "name": "python3"
  },
  "language_info": {
   "codemirror_mode": {
    "name": "ipython",
    "version": 3
   },
   "file_extension": ".py",
   "mimetype": "text/x-python",
   "name": "python",
   "nbconvert_exporter": "python",
   "pygments_lexer": "ipython3",
   "version": "3.11.7"
  }
 },
 "nbformat": 4,
 "nbformat_minor": 5
}
