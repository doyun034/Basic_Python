{
 "cells": [
  {
   "cell_type": "code",
   "execution_count": 5,
   "id": "a5c8f71c-78ea-4724-ac0a-d4a60f5a0034",
   "metadata": {},
   "outputs": [],
   "source": [
    "import datetime # datatime 라이브러리 주입"
   ]
  },
  {
   "cell_type": "code",
   "execution_count": 6,
   "id": "9c6921de-8141-40b4-bf72-f9427053c1ac",
   "metadata": {},
   "outputs": [],
   "source": [
    "now = datetime.datetime.now() # now 변수 설정"
   ]
  },
  {
   "cell_type": "code",
   "execution_count": 7,
   "id": "02547169-5c3e-48bc-a091-00ca387190c7",
   "metadata": {},
   "outputs": [
    {
     "name": "stdout",
     "output_type": "stream",
     "text": [
      "이번달:6월, 계절: 여름\n"
     ]
    }
   ],
   "source": [
    "if now.month >= 3 and now.month <=5: # 숫자 3 부터 5까지 조건문 설정\n",
    "    print(f'이번 달: {now.month}월, 계절, 봄') # 봄 출력\n",
    "elif now.month>=6 and now.month<=8: # 숫자 6 부터 8까지 조건문 설정\n",
    "    print(f'이번달:{now.month}월, 계절: 여름') # 여름 출력\n",
    "elif now.month>=9 and now.month<=11: # 숫자 9 부터 11까지 조건문 설정\n",
    "    print(f'이번달:{now.month}월, 계절: 가을') # 가을 출력\n",
    "elif now.month==12 or (now.month)>=1 and now.month<=2: # 숫자 12 or 1 그리고 2까지 조건문 설정\n",
    "    print(f'이번달:{now.month}월, 계절: 겨울') # 겨울 출력"
   ]
  },
  {
   "cell_type": "code",
   "execution_count": null,
   "id": "4080d395-4c22-4109-afe1-fe8f522b03b2",
   "metadata": {},
   "outputs": [],
   "source": []
  }
 ],
 "metadata": {
  "kernelspec": {
   "display_name": "Python 3 (ipykernel)",
   "language": "python",
   "name": "python3"
  },
  "language_info": {
   "codemirror_mode": {
    "name": "ipython",
    "version": 3
   },
   "file_extension": ".py",
   "mimetype": "text/x-python",
   "name": "python",
   "nbconvert_exporter": "python",
   "pygments_lexer": "ipython3",
   "version": "3.11.7"
  }
 },
 "nbformat": 4,
 "nbformat_minor": 5
}
