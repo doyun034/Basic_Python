{
 "cells": [
  {
   "cell_type": "code",
   "execution_count": 6,
   "id": "348a5221-4840-43c8-a0a8-8a68faf0748a",
   "metadata": {},
   "outputs": [],
   "source": [
    "import random # 랜덤 라이브러리 추가"
   ]
  },
  {
   "cell_type": "code",
   "execution_count": 7,
   "id": "e2625f26-8c63-40b4-82a7-c72ad1b73ffb",
   "metadata": {},
   "outputs": [
    {
     "name": "stdout",
     "output_type": "stream",
     "text": [
      "오늘 추천식: 양식\n"
     ]
    }
   ],
   "source": [
    "f_kind = ['한식', '양식', '일식', '중식', '태국음식'] # f_kind 배열 추가\n",
    "\n",
    "if random.choice(f_kind) == \"한식\": # 조건문 추가\n",
    "    print(\"오늘 추천식: 한식\") # 프린트문 출력\n",
    "elif random.choice(f_kind) == \"양식\":# 조건문 추가\n",
    "    print(\"오늘 추천식: 양식\") # 프린트문 출력\n",
    "elif random.choice(f_kind) == \"일식\":# 조건문 추가\n",
    "    print(\"오늘 추천식: 일식\") # 프린트문 출력\n",
    "elif random.choice(f_kind) == \"중식\":# 조건문 추가\n",
    "    print(\"오늘 추천식: 중식\") # 프린트문 출력\n",
    "else: # 조건문 추가\n",
    "    print(\"없습니다.\") # 프린트문 출력"
   ]
  },
  {
   "cell_type": "code",
   "execution_count": null,
   "id": "a5da0c2a-3d41-4728-bd5e-0b5857d6fe8e",
   "metadata": {},
   "outputs": [],
   "source": []
  }
 ],
 "metadata": {
  "kernelspec": {
   "display_name": "Python 3 (ipykernel)",
   "language": "python",
   "name": "python3"
  },
  "language_info": {
   "codemirror_mode": {
    "name": "ipython",
    "version": 3
   },
   "file_extension": ".py",
   "mimetype": "text/x-python",
   "name": "python",
   "nbconvert_exporter": "python",
   "pygments_lexer": "ipython3",
   "version": "3.11.7"
  }
 },
 "nbformat": 4,
 "nbformat_minor": 5
}
