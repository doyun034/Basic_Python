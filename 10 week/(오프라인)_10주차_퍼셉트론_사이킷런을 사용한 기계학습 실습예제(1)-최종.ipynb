{
 "cells": [
  {
   "cell_type": "code",
   "execution_count": 41,
   "id": "75903e0d",
   "metadata": {},
   "outputs": [
    {
     "data": {
      "text/plain": [
       "'\\n**scikit-learn의 perceptron 실습**\\n\\n1.코드 흐름\\n(1) (데이터 측면) 데이터 불러오기.\\n\\n(2) (데이터 측면) 불러온 데이터를 훈련데이터와 테스트 데이터로 구분.\\n\\n(3) (모델 측면) sklearn 라이브러리의 퍼셉트론 모델 불러오기.\\n\\n(4) (학습 과정) 모델 학습.\\n\\n(5) (성능 평가) 테스트 데이터를 이용한 모델의 성능 평가 및 시각화.\\n'"
      ]
     },
     "execution_count": 41,
     "metadata": {},
     "output_type": "execute_result"
    }
   ],
   "source": [
    "'''\n",
    "**scikit-learn의 perceptron 실습**\n",
    "\n",
    "1.코드 흐름\n",
    "(1) (데이터 측면) 데이터 불러오기.\n",
    "\n",
    "(2) (데이터 측면) 불러온 데이터를 훈련데이터와 테스트 데이터로 구분.\n",
    "\n",
    "(3) (모델 측면) sklearn 라이브러리의 퍼셉트론 모델 불러오기.\n",
    "\n",
    "(4) (학습 과정) 모델 학습.\n",
    "\n",
    "(5) (성능 평가) 테스트 데이터를 이용한 모델의 성능 평가 및 시각화.\n",
    "'''\n",
    "# 코드 흐름 매우 중요"
   ]
  },
  {
   "cell_type": "code",
   "execution_count": 42,
   "id": "a2bdaf64",
   "metadata": {},
   "outputs": [
    {
     "name": "stdout",
     "output_type": "stream",
     "text": [
      "Requirement already satisfied: scikit-learn in c:\\users\\ehdbs\\anaconda3\\lib\\site-packages (1.2.2)\n",
      "Requirement already satisfied: numpy>=1.17.3 in c:\\users\\ehdbs\\anaconda3\\lib\\site-packages (from scikit-learn) (1.26.4)\n",
      "Requirement already satisfied: scipy>=1.3.2 in c:\\users\\ehdbs\\anaconda3\\lib\\site-packages (from scikit-learn) (1.11.4)\n",
      "Requirement already satisfied: joblib>=1.1.1 in c:\\users\\ehdbs\\anaconda3\\lib\\site-packages (from scikit-learn) (1.2.0)\n",
      "Requirement already satisfied: threadpoolctl>=2.0.0 in c:\\users\\ehdbs\\anaconda3\\lib\\site-packages (from scikit-learn) (2.2.0)\n"
     ]
    }
   ],
   "source": [
    "# 필요 라이브러리 설치 (Anaconda Prompt를 실행후 설치)\n",
    "!pip install scikit-learn "
   ]
  },
  {
   "cell_type": "code",
   "execution_count": 43,
   "id": "02acec79",
   "metadata": {},
   "outputs": [
    {
     "name": "stdout",
     "output_type": "stream",
     "text": [
      "Requirement already satisfied: matplotlib in c:\\users\\ehdbs\\anaconda3\\lib\\site-packages (3.8.0)\n",
      "Requirement already satisfied: contourpy>=1.0.1 in c:\\users\\ehdbs\\anaconda3\\lib\\site-packages (from matplotlib) (1.2.0)\n",
      "Requirement already satisfied: cycler>=0.10 in c:\\users\\ehdbs\\anaconda3\\lib\\site-packages (from matplotlib) (0.11.0)\n",
      "Requirement already satisfied: fonttools>=4.22.0 in c:\\users\\ehdbs\\anaconda3\\lib\\site-packages (from matplotlib) (4.25.0)\n",
      "Requirement already satisfied: kiwisolver>=1.0.1 in c:\\users\\ehdbs\\anaconda3\\lib\\site-packages (from matplotlib) (1.4.4)\n",
      "Requirement already satisfied: numpy<2,>=1.21 in c:\\users\\ehdbs\\anaconda3\\lib\\site-packages (from matplotlib) (1.26.4)\n",
      "Requirement already satisfied: packaging>=20.0 in c:\\users\\ehdbs\\anaconda3\\lib\\site-packages (from matplotlib) (23.1)\n",
      "Requirement already satisfied: pillow>=6.2.0 in c:\\users\\ehdbs\\anaconda3\\lib\\site-packages (from matplotlib) (10.2.0)\n",
      "Requirement already satisfied: pyparsing>=2.3.1 in c:\\users\\ehdbs\\anaconda3\\lib\\site-packages (from matplotlib) (3.0.9)\n",
      "Requirement already satisfied: python-dateutil>=2.7 in c:\\users\\ehdbs\\anaconda3\\lib\\site-packages (from matplotlib) (2.8.2)\n",
      "Requirement already satisfied: six>=1.5 in c:\\users\\ehdbs\\anaconda3\\lib\\site-packages (from python-dateutil>=2.7->matplotlib) (1.16.0)\n"
     ]
    }
   ],
   "source": [
    "#시각화도구 matplotlib 설치(Anaconda Prompt를 실행후 설치)\n",
    "!pip install matplotlib"
   ]
  },
  {
   "cell_type": "code",
   "execution_count": 44,
   "id": "99ae6c56",
   "metadata": {},
   "outputs": [
    {
     "data": {
      "text/plain": [
       "'\\n**데이터 설명**\\n\\nscikit-learn에서 제공하는 필기체 숫자 데이터를 활용.\\n학습기에 따른 정답예측율 확인\\n\\n1. 학습기 작성(SVM이라는 알고리즘)\\nfrom sklearn import svm\\n\\n2. 학습기 작성(로지스틱 회귀 알고리즘)\\nfrom sklearn.linear_model import LogisticRegression\\nclf = LogisticRegression()\\n\\n3. 학습기 작성( # 퍼셉트론 알고리즘)\\nfrom sklearn.linear_model import Perceptron\\nclf = Perceptron(tol=1e-3, random_state=0)  \\nclf.fit(X_train, y_train)\\n\\n'"
      ]
     },
     "execution_count": 44,
     "metadata": {},
     "output_type": "execute_result"
    }
   ],
   "source": [
    "'''\n",
    "**데이터 설명**\n",
    "\n",
    "scikit-learn에서 제공하는 필기체 숫자 데이터를 활용.\n",
    "학습기에 따른 정답예측율 확인\n",
    "\n",
    "1. 학습기 작성(SVM이라는 알고리즘)\n",
    "from sklearn import svm\n",
    "\n",
    "2. 학습기 작성(로지스틱 회귀 알고리즘)\n",
    "from sklearn.linear_model import LogisticRegression\n",
    "clf = LogisticRegression()\n",
    "\n",
    "3. 학습기 작성( # 퍼셉트론 알고리즘)\n",
    "from sklearn.linear_model import Perceptron\n",
    "clf = Perceptron(tol=1e-3, random_state=0)  \n",
    "clf.fit(X_train, y_train)\n",
    "\n",
    "'''"
   ]
  },
  {
   "cell_type": "code",
   "execution_count": 45,
   "id": "8aa0792a",
   "metadata": {},
   "outputs": [],
   "source": [
    "#1. 데이터 세트 읽기"
   ]
  },
  {
   "cell_type": "code",
   "execution_count": 46,
   "id": "adbb1180",
   "metadata": {
    "scrolled": true
   },
   "outputs": [
    {
     "data": {
      "image/png": "[encoded data removed]",
      "text/plain": [
       "<Figure size 480x480 with 1 Axes>"
      ]
     },
     "metadata": {},
     "output_type": "display_data"
    }
   ],
   "source": [
    "# scikit-learn 라이브러리 가져오기\n",
    "from sklearn import datasets\n",
    "\n",
    "# 데이터 세트 읽어오기\n",
    "digits = datasets.load_digits()\n",
    "\n",
    "#matplotlib 라이브러리 가져오기(데이터 시각화)\n",
    "import matplotlib.pyplot as plt\n",
    "\n",
    "# 무슨 데이터인지 확인하기\n",
    "plt.matshow(digits.images[0], cmap=\"Greys\")\n",
    "plt.show()\n"
   ]
  },
  {
   "cell_type": "code",
   "execution_count": 47,
   "id": "fad56e06",
   "metadata": {},
   "outputs": [],
   "source": [
    "# 2. 훈련 학습데이터와 테스트 데이터 준비"
   ]
  },
  {
   "cell_type": "code",
   "execution_count": 48,
   "id": "8bff04c4",
   "metadata": {},
   "outputs": [],
   "source": [
    "# 화상 데이터를 배열로 한 것(numpy.ndarray형)\n",
    "X = digits.data\n",
    "\n",
    "# 이미지 데이터에 대한 숫자(numpy.ndarray형) (라벨)\n",
    "y = digits.target\n",
    "\n",
    "# 훈련 데이터와 테스트 데이터로 나눔 \n",
    "# 훈련 데이터 : 짝수 행\n",
    "X_train, y_train = X[0::2], y[0::2]\n",
    "\n",
    "# 테스트 데이터: 홀수 행\n",
    "X_test, y_test = X[1::2], y[1::2]"
   ]
  },
  {
   "cell_type": "code",
   "execution_count": 49,
   "id": "b7b848ba",
   "metadata": {},
   "outputs": [],
   "source": [
    "#3. 학습\n",
    "# SVM이라는 알고리즘 활용 모델 학습"
   ]
  },
  {
   "cell_type": "code",
   "execution_count": 50,
   "id": "394cfb6c",
   "metadata": {},
   "outputs": [
    {
     "data": {
      "text/html": [
       "<style>#sk-container-id-3 {color: black;background-color: white;}#sk-container-id-3 pre{padding: 0;}#sk-container-id-3 div.sk-toggleable {background-color: white;}#sk-container-id-3 label.sk-toggleable__label {cursor: pointer;display: block;width: 100%;margin-bottom: 0;padding: 0.3em;box-sizing: border-box;text-align: center;}#sk-container-id-3 label.sk-toggleable__label-arrow:before {content: \"▸\";float: left;margin-right: 0.25em;color: #696969;}#sk-container-id-3 label.sk-toggleable__label-arrow:hover:before {color: black;}#sk-container-id-3 div.sk-estimator:hover label.sk-toggleable__label-arrow:before {color: black;}#sk-container-id-3 div.sk-toggleable__content {max-height: 0;max-width: 0;overflow: hidden;text-align: left;background-color: #f0f8ff;}#sk-container-id-3 div.sk-toggleable__content pre {margin: 0.2em;color: black;border-radius: 0.25em;background-color: #f0f8ff;}#sk-container-id-3 input.sk-toggleable__control:checked~div.sk-toggleable__content {max-height: 200px;max-width: 100%;overflow: auto;}#sk-container-id-3 input.sk-toggleable__control:checked~label.sk-toggleable__label-arrow:before {content: \"▾\";}#sk-container-id-3 div.sk-estimator input.sk-toggleable__control:checked~label.sk-toggleable__label {background-color: #d4ebff;}#sk-container-id-3 div.sk-label input.sk-toggleable__control:checked~label.sk-toggleable__label {background-color: #d4ebff;}#sk-container-id-3 input.sk-hidden--visually {border: 0;clip: rect(1px 1px 1px 1px);clip: rect(1px, 1px, 1px, 1px);height: 1px;margin: -1px;overflow: hidden;padding: 0;position: absolute;width: 1px;}#sk-container-id-3 div.sk-estimator {font-family: monospace;background-color: #f0f8ff;border: 1px dotted black;border-radius: 0.25em;box-sizing: border-box;margin-bottom: 0.5em;}#sk-container-id-3 div.sk-estimator:hover {background-color: #d4ebff;}#sk-container-id-3 div.sk-parallel-item::after {content: \"\";width: 100%;border-bottom: 1px solid gray;flex-grow: 1;}#sk-container-id-3 div.sk-label:hover label.sk-toggleable__label {background-color: #d4ebff;}#sk-container-id-3 div.sk-serial::before {content: \"\";position: absolute;border-left: 1px solid gray;box-sizing: border-box;top: 0;bottom: 0;left: 50%;z-index: 0;}#sk-container-id-3 div.sk-serial {display: flex;flex-direction: column;align-items: center;background-color: white;padding-right: 0.2em;padding-left: 0.2em;position: relative;}#sk-container-id-3 div.sk-item {position: relative;z-index: 1;}#sk-container-id-3 div.sk-parallel {display: flex;align-items: stretch;justify-content: center;background-color: white;position: relative;}#sk-container-id-3 div.sk-item::before, #sk-container-id-3 div.sk-parallel-item::before {content: \"\";position: absolute;border-left: 1px solid gray;box-sizing: border-box;top: 0;bottom: 0;left: 50%;z-index: -1;}#sk-container-id-3 div.sk-parallel-item {display: flex;flex-direction: column;z-index: 1;position: relative;background-color: white;}#sk-container-id-3 div.sk-parallel-item:first-child::after {align-self: flex-end;width: 50%;}#sk-container-id-3 div.sk-parallel-item:last-child::after {align-self: flex-start;width: 50%;}#sk-container-id-3 div.sk-parallel-item:only-child::after {width: 0;}#sk-container-id-3 div.sk-dashed-wrapped {border: 1px dashed gray;margin: 0 0.4em 0.5em 0.4em;box-sizing: border-box;padding-bottom: 0.4em;background-color: white;}#sk-container-id-3 div.sk-label label {font-family: monospace;font-weight: bold;display: inline-block;line-height: 1.2em;}#sk-container-id-3 div.sk-label-container {text-align: center;}#sk-container-id-3 div.sk-container {/* jupyter's `normalize.less` sets `[hidden] { display: none; }` but bootstrap.min.css set `[hidden] { display: none !important; }` so we also need the `!important` here to be able to override the default hidden behavior on the sphinx rendered scikit-learn.org. See: https://github.com/scikit-learn/scikit-learn/issues/21755 */display: inline-block !important;position: relative;}#sk-container-id-3 div.sk-text-repr-fallback {display: none;}</style><div id=\"sk-container-id-3\" class=\"sk-top-container\"><div class=\"sk-text-repr-fallback\"><pre>SVC(gamma=0.001)</pre><b>In a Jupyter environment, please rerun this cell to show the HTML representation or trust the notebook. <br />On GitHub, the HTML representation is unable to render, please try loading this page with nbviewer.org.</b></div><div class=\"sk-container\" hidden><div class=\"sk-item\"><div class=\"sk-estimator sk-toggleable\"><input class=\"sk-toggleable__control sk-hidden--visually\" id=\"sk-estimator-id-3\" type=\"checkbox\" checked><label for=\"sk-estimator-id-3\" class=\"sk-toggleable__label sk-toggleable__label-arrow\">SVC</label><div class=\"sk-toggleable__content\"><pre>SVC(gamma=0.001)</pre></div></div></div></div></div>"
      ],
      "text/plain": [
       "SVC(gamma=0.001)"
      ]
     },
     "execution_count": 50,
     "metadata": {},
     "output_type": "execute_result"
    }
   ],
   "source": [
    "# 학습기 작성. SVM이라는 알고리즘을 선택\n",
    "from sklearn import svm\n",
    "clf = svm.SVC(gamma=0.001)\n",
    "\n",
    "# 훈련 데이터와 라벨로 학습\n",
    "clf.fit(X_train, y_train)"
   ]
  },
  {
   "cell_type": "code",
   "execution_count": 51,
   "id": "492e0171",
   "metadata": {},
   "outputs": [],
   "source": [
    "#4. 모델 평가, 학습 결과를 테스트 데이터를 사용하여 평가"
   ]
  },
  {
   "cell_type": "code",
   "execution_count": 52,
   "id": "1dcf2486",
   "metadata": {
    "scrolled": true
   },
   "outputs": [
    {
     "name": "stdout",
     "output_type": "stream",
     "text": [
      "정답률: 0.9866369710467706\n",
      "classification report\n",
      "              precision    recall  f1-score   support\n",
      "\n",
      "           0       1.00      0.99      0.99        88\n",
      "           1       0.98      1.00      0.99        89\n",
      "           2       1.00      1.00      1.00        91\n",
      "           3       1.00      0.98      0.99        93\n",
      "           4       0.99      1.00      0.99        88\n",
      "           5       0.98      0.97      0.97        91\n",
      "           6       0.99      1.00      0.99        90\n",
      "           7       0.99      1.00      0.99        91\n",
      "           8       0.97      0.97      0.97        86\n",
      "           9       0.98      0.97      0.97        91\n",
      "\n",
      "    accuracy                           0.99       898\n",
      "   macro avg       0.99      0.99      0.99       898\n",
      "weighted avg       0.99      0.99      0.99       898\n",
      "\n"
     ]
    }
   ],
   "source": [
    "# 테스트 데이터로 시험한 정답률을 반환하다\n",
    "accuracy = clf.score(X_test, y_test)\n",
    "print(f\"정답률: {accuracy}\")\n",
    "\n",
    "# 학습된 모델을 사용하여 테스트 데이터를 분류한 결과를 반환한다.\n",
    "predicted = clf.predict(X_test)\n",
    "\n",
    "import sklearn.metrics as metrics\n",
    "\n",
    "# 자세한 리포트\n",
    "# precision(정밀도): 선택한 정답/선택한 집합\n",
    "# recall(재현율) : 선택한 정답 / 전체 정답\n",
    "# F-score(F값) : 정밀도와 재현율은 트레이드오프의 관계에 있기 때문에\n",
    "\n",
    "print(\"classification report\")\n",
    "print(metrics.classification_report(y_test, predicted))"
   ]
  },
  {
   "cell_type": "code",
   "execution_count": 53,
   "id": "a7109afb",
   "metadata": {},
   "outputs": [],
   "source": [
    "#로지스틱 회귀로 변환\n",
    "#학습기 작성의 2행을 아래와 같이 변경하면 기계학습 알고리즘을 로지스틱 회귀로 변환"
   ]
  },
  {
   "cell_type": "code",
   "execution_count": 54,
   "id": "3a946479",
   "metadata": {},
   "outputs": [
    {
     "data": {
      "image/png": "[encoded data removed]",
      "text/plain": [
       "<Figure size 480x480 with 1 Axes>"
      ]
     },
     "metadata": {},
     "output_type": "display_data"
    },
    {
     "name": "stdout",
     "output_type": "stream",
     "text": [
      "정답률: 0.9521158129175946\n",
      "classification report\n",
      "              precision    recall  f1-score   support\n",
      "\n",
      "           0       1.00      0.98      0.99        88\n",
      "           1       0.87      0.96      0.91        89\n",
      "           2       0.97      0.99      0.98        91\n",
      "           3       0.99      0.95      0.97        93\n",
      "           4       0.92      0.99      0.95        88\n",
      "           5       0.97      0.96      0.96        91\n",
      "           6       0.97      0.99      0.98        90\n",
      "           7       0.97      0.97      0.97        91\n",
      "           8       0.94      0.88      0.91        86\n",
      "           9       0.95      0.87      0.91        91\n",
      "\n",
      "    accuracy                           0.95       898\n",
      "   macro avg       0.95      0.95      0.95       898\n",
      "weighted avg       0.95      0.95      0.95       898\n",
      "\n"
     ]
    }
   ],
   "source": [
    "# scikit-learn 라이브러리 가져오기\n",
    "from sklearn import datasets\n",
    "\n",
    "# 데이터 세트 읽어오기\n",
    "digits = datasets.load_digits()\n",
    "\n",
    "# 무슨 데이터인지 확인하기\n",
    "import matplotlib.pyplot as plt\n",
    "plt.matshow(digits.images[0], cmap=\"Greys\")\n",
    "plt.show()\n",
    "\n",
    "# 화상 데이터를 배열로 한 것(numpy.ndarray형)\n",
    "X = digits.data\n",
    "\n",
    "# 이미지 데이터에 대한 숫자(numpy.ndarray형) (라벨)\n",
    "y = digits.target\n",
    "\n",
    "# 훈련 데이터와 테스트 데이터로 나누다\n",
    "# 훈련 데이터 : 짝수 행\n",
    "X_train, y_train = X[0::2], y[0::2]\n",
    "# 테스트 데이터: 홀수 행\n",
    "X_test, y_test = X[1::2], y[1::2]\n",
    "\n",
    "# 학습기 작성. 로지스틱 회귀라는 알고리즘을 선택\n",
    "from sklearn.linear_model import LogisticRegression\n",
    "clf = LogisticRegression(solver='saga', max_iter=1000)\n",
    "\n",
    "\n",
    "# 훈련 데이터와 라벨로 학습\n",
    "clf.fit(X_train, y_train)\n",
    "\n",
    "# 테스트 데이터로 시험한 정답률을 반환하다\n",
    "accuracy = clf.score(X_test, y_test)\n",
    "print(f\"정답률: {accuracy}\")\n",
    "\n",
    "# 학습된 모델을 사용하여 테스트 데이터를 분류한 결과를 반환한다.\n",
    "predicted = clf.predict(X_test)\n",
    "\n",
    "import sklearn.metrics as metrics\n",
    "\n",
    "# 자세한 리포트\n",
    "# precision(정밀도): 선택한 정답/선택한 집합\n",
    "# recall(재현율) : 선택한 정답 / 전체 정답\n",
    "# F-score(F값) : 적합률과 재현율은 트레이드오프의 관계에 있기 때문에\n",
    "print(\"classification report\")\n",
    "print(metrics.classification_report(y_test, predicted))"
   ]
  },
  {
   "cell_type": "code",
   "execution_count": 55,
   "id": "9ee91ed5",
   "metadata": {},
   "outputs": [
    {
     "data": {
      "image/png": "[encoded data removed]",
      "text/plain": [
       "<Figure size 480x480 with 1 Axes>"
      ]
     },
     "metadata": {},
     "output_type": "display_data"
    },
    {
     "name": "stdout",
     "output_type": "stream",
     "text": [
      "정답률: 0.9420935412026726\n",
      "classification report\n",
      "              precision    recall  f1-score   support\n",
      "\n",
      "           0       0.97      0.98      0.97        88\n",
      "           1       0.94      0.84      0.89        89\n",
      "           2       0.96      1.00      0.98        91\n",
      "           3       0.99      0.91      0.95        93\n",
      "           4       0.88      0.99      0.93        88\n",
      "           5       0.94      0.97      0.95        91\n",
      "           6       0.96      1.00      0.98        90\n",
      "           7       0.96      0.97      0.96        91\n",
      "           8       0.91      0.84      0.87        86\n",
      "           9       0.93      0.92      0.93        91\n",
      "\n",
      "    accuracy                           0.94       898\n",
      "   macro avg       0.94      0.94      0.94       898\n",
      "weighted avg       0.94      0.94      0.94       898\n",
      "\n"
     ]
    }
   ],
   "source": [
    "# 퍼셉트론 퍼셉트론 모델 학습\n",
    "\n",
    "from sklearn.linear_model import Perceptron # 퍼셉트론 모델 불러오기\n",
    "# scikit-learn 라이브러리 가져오기\n",
    "from sklearn import datasets\n",
    "\n",
    "# 데이터 세트 읽어오기\n",
    "digits = datasets.load_digits()\n",
    "\n",
    "# 무슨 데이터인지 확인하기\n",
    "import matplotlib.pyplot as plt\n",
    "plt.matshow(digits.images[0], cmap=\"Greys\")\n",
    "plt.show()\n",
    "\n",
    "# 화상 데이터를 배열로 한 것(numpy.ndarray형)\n",
    "X = digits.data\n",
    "\n",
    "# 이미지 데이터에 대한 숫자(numpy.ndarray형) (라벨)\n",
    "y = digits.target\n",
    "\n",
    "# 훈련 데이터와 테스트 데이터로 나누다\n",
    "# 훈련 데이터 : 짝수 행\n",
    "X_train, y_train = X[0::2], y[0::2]\n",
    "# 테스트 데이터: 홀수 행\n",
    "X_test, y_test = X[1::2], y[1::2]\n",
    "\n",
    "# 학습기 작성. 퍼셉트론 알고리즘을 선택\n",
    "clf = Perceptron(tol=1e-3, random_state=0)  # 퍼셉트론 모델을 사용할 개체(clf)를 생성\n",
    "clf.fit(X_train, y_train) # 퍼셉트론 모델 학습\n",
    "\n",
    "\n",
    "# 훈련 데이터와 라벨로 학습\n",
    "clf.fit(X_train, y_train)\n",
    "\n",
    "# 테스트 데이터로 시험한 정답률을 반환하다\n",
    "accuracy = clf.score(X_test, y_test)\n",
    "print(f\"정답률: {accuracy}\")\n",
    "\n",
    "# 학습된 모델을 사용하여 테스트 데이터를 분류한 결과를 반환한다.\n",
    "predicted = clf.predict(X_test)\n",
    "\n",
    "import sklearn.metrics as metrics\n",
    "\n",
    "# 자세한 리포트\n",
    "# precision(정밀도): 선택한 정답/선택한 집합\n",
    "# recall(재현율) : 선택한 정답 / 전체 정답\n",
    "# F-score(F값) : 적합률과 재현율은 트레이드오프의 관계에 있기 때문에\n",
    "print(\"classification report\")\n",
    "print(metrics.classification_report(y_test, predicted))\n",
    "\n"
   ]
  },
  {
   "cell_type": "code",
   "execution_count": null,
   "id": "9379ab53",
   "metadata": {},
   "outputs": [],
   "source": []
  }
 ],
 "metadata": {
  "kernelspec": {
   "display_name": "Python 3 (ipykernel)",
   "language": "python",
   "name": "python3"
  },
  "language_info": {
   "codemirror_mode": {
    "name": "ipython",
    "version": 3
   },
   "file_extension": ".py",
   "mimetype": "text/x-python",
   "name": "python",
   "nbconvert_exporter": "python",
   "pygments_lexer": "ipython3",
   "version": "3.11.7"
  }
 },
 "nbformat": 4,
 "nbformat_minor": 5
}
