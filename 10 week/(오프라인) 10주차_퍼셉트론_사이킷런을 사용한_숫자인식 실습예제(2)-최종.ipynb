{
 "cells": [
  {
   "cell_type": "markdown",
   "id": "a75bc9b6",
   "metadata": {},
   "source": [
    "'''\n",
    "**scikit-learn의 perceptron 실습**\n",
    "\n",
    "1.코드 흐름\n",
    "(1) (데이터 측면) 데이터 불러오기.\n",
    "\n",
    "(2) (데이터 측면) 불러온 데이터를 훈련데이터와 테스트 데이터로 구분.\n",
    "\n",
    "(3) (모델 측면) sklearn 라이브러리의 퍼셉트론 모델 불러오기.\n",
    "\n",
    "(4) (학습 과정) 모델 학습.\n",
    "\n",
    "(5) (성능 평가) 테스트 데이터를 이용한 모델의 성능 평가 및 시각화.\n",
    "'''"
   ]
  },
  {
   "cell_type": "markdown",
   "id": "03922ccc",
   "metadata": {},
   "source": [
    "'''\n",
    "**데이터 설명**\n",
    "\n",
    "scikit-learn에서 제공하는 필기체 숫자 데이터를 활용. 해당 데이터는 0부터 9까지 \n",
    "총 10개의 숫자의 필기체 이미지를 수집한 것으로 총 1797개의 이미지로 구성되어 있으며,\n",
    "개별 이미지는 8X8=64개의 특성으로 표시됨. 개별 특성은 픽셀을 의미하며 0-16까지의 \n",
    "정수값이 부여됨.\n",
    "\n",
    "퍼셉트론은 학습을 통해 0 - 9의 숫자에 대한 필기체 이미지를 인식하여 주어진 이미지의\n",
    "소속 클래스(숫자)를 예측하는 **분류** 작업을 수행.\n",
    "'''"
   ]
  },
  {
   "cell_type": "code",
   "execution_count": 9,
   "id": "04f19d79",
   "metadata": {},
   "outputs": [
    {
     "data": {
      "text/plain": [
       "'\\n**모델의 학습과 예측**\\n\\ntrain_test_split을 이용하여 훈련용 데이터와 테스트용 데이터를 확보한 후 fit() 명령으로 \\n모델을 학습하고, predict() 명령으로 예측 작업을 수행.\\n'"
      ]
     },
     "execution_count": 9,
     "metadata": {},
     "output_type": "execute_result"
    }
   ],
   "source": [
    "'''\n",
    "**모델의 학습과 예측**\n",
    "\n",
    "train_test_split을 이용하여 훈련용 데이터와 테스트용 데이터를 확보한 후 fit() 명령으로 \n",
    "모델을 학습하고, predict() 명령으로 예측 작업을 수행.\n",
    "'''"
   ]
  },
  {
   "cell_type": "markdown",
   "id": "e368f8c4",
   "metadata": {},
   "source": [
    "'''\n",
    "**분류 성능 평가와 시각화**\n",
    "\n",
    "1.\"classification_report\"\n",
    "\n",
    "sklearn.metrics 패키지에서 제공하는 기능으로 precision, recall, f1-score 등 다양한 \n",
    "측도를 이용하여 클래스 별로 분류 성능을 확인할 수 있게 해줌(개별 측도의 자세한 내용은 로지스틱 회귀의 관련 내용 참고).\n",
    "\n",
    "2.Confusion matrix\n",
    "\n",
    "학습 모델의 분류 성능을 시각적으로 확인할 수 있게 해줌. 특히 목표 클래스(예를 들어 숫자 3에 해당하는 테스트 인스턴스에 대하여 모델이 정확하게 예측한 이미지의 수, 잘못 예측한 이미지들의 경우 클래스(숫자) 별로 잘못 예측한 이미지의 숫자를 표시하여 모델의 분류 성능을 한 눈에 파악할 수 있게 해 줌. 아래 코드셀을 실행하면 숫자 1의 경우 총 42개의 이미지 중 41개를 정확하게 예측하였으며, 1개는 4로 예측하였음을 알 수 있음.\n",
    "'''"
   ]
  },
  {
   "cell_type": "code",
   "execution_count": 10,
   "id": "75c67b19",
   "metadata": {},
   "outputs": [
    {
     "name": "stdout",
     "output_type": "stream",
     "text": [
      "Requirement already satisfied: scikit-learn in c:\\users\\ehdbs\\anaconda3\\lib\\site-packages (1.2.2)\n",
      "Requirement already satisfied: numpy>=1.17.3 in c:\\users\\ehdbs\\anaconda3\\lib\\site-packages (from scikit-learn) (1.26.4)\n",
      "Requirement already satisfied: scipy>=1.3.2 in c:\\users\\ehdbs\\anaconda3\\lib\\site-packages (from scikit-learn) (1.11.4)\n",
      "Requirement already satisfied: joblib>=1.1.1 in c:\\users\\ehdbs\\anaconda3\\lib\\site-packages (from scikit-learn) (1.2.0)\n",
      "Requirement already satisfied: threadpoolctl>=2.0.0 in c:\\users\\ehdbs\\anaconda3\\lib\\site-packages (from scikit-learn) (2.2.0)\n"
     ]
    }
   ],
   "source": [
    "#scikit-learn 설치(anaconda prompt에서 설치)\n",
    "!pip install scikit-learn"
   ]
  },
  {
   "cell_type": "code",
   "execution_count": 11,
   "id": "3af9bf8d",
   "metadata": {
    "scrolled": true
   },
   "outputs": [
    {
     "data": {
      "image/png": "[encoded data removed]",
      "text/plain": [
       "<Figure size 640x480 with 10 Axes>"
      ]
     },
     "metadata": {},
     "output_type": "display_data"
    }
   ],
   "source": [
    "from sklearn.datasets import load_digits      # 학습 데이터 불러오기\n",
    "from sklearn.linear_model import Perceptron   # 퍼셉트론 모델 불러오기\n",
    "from matplotlib import pyplot as plt          # 데이터 시각화용 라이브러리\n",
    "\n",
    "# 학습 데이터를 로딩한 후, X(특징벡터), y(클래스 레이블)로 구분\n",
    "X, y = load_digits(return_X_y=True)\n",
    "\n",
    "rows = 2; cols = 5 # 시각화를 위한 행과 열의 개수 설정\n",
    "fig = plt.figure() # 시각화를 위한 Figure 객체 생성\n",
    "for i in range(10): # 0부터 9까지의 숫자를 이미지로 시각화\n",
    "  ax = fig.add_subplot(rows, cols, i+1) # 서브플롯 추가\n",
    "  ax.imshow(X[i].reshape(8,8)) # 이미지 데이터 형태로 변환하여 출력\n",
    "  ax.set_title(str(i)) # 서브플롯 제목 설정\n",
    "plt.show() # 시각화 출력"
   ]
  },
  {
   "cell_type": "code",
   "execution_count": 12,
   "id": "c645c233",
   "metadata": {},
   "outputs": [],
   "source": [
    "from sklearn.model_selection import train_test_split# 데이터 분할을 위한 라이브러리\n",
    "\n",
    "X, y = load_digits(return_X_y=True) # X(특징벡터), y(클래스 레이블)의 훈련데이터로 구분\n",
    "X_train, X_test, y_train, y_test = train_test_split(X, y, test_size = 0.25, random_state = 1) # 테스트 데이터 비율을 25%로 설정, 랜덤 시드 고정\n"
   ]
  },
  {
   "cell_type": "code",
   "execution_count": 13,
   "id": "72c4d3d9",
   "metadata": {},
   "outputs": [
    {
     "data": {
      "text/html": [
       "<style>#sk-container-id-2 {color: black;background-color: white;}#sk-container-id-2 pre{padding: 0;}#sk-container-id-2 div.sk-toggleable {background-color: white;}#sk-container-id-2 label.sk-toggleable__label {cursor: pointer;display: block;width: 100%;margin-bottom: 0;padding: 0.3em;box-sizing: border-box;text-align: center;}#sk-container-id-2 label.sk-toggleable__label-arrow:before {content: \"▸\";float: left;margin-right: 0.25em;color: #696969;}#sk-container-id-2 label.sk-toggleable__label-arrow:hover:before {color: black;}#sk-container-id-2 div.sk-estimator:hover label.sk-toggleable__label-arrow:before {color: black;}#sk-container-id-2 div.sk-toggleable__content {max-height: 0;max-width: 0;overflow: hidden;text-align: left;background-color: #f0f8ff;}#sk-container-id-2 div.sk-toggleable__content pre {margin: 0.2em;color: black;border-radius: 0.25em;background-color: #f0f8ff;}#sk-container-id-2 input.sk-toggleable__control:checked~div.sk-toggleable__content {max-height: 200px;max-width: 100%;overflow: auto;}#sk-container-id-2 input.sk-toggleable__control:checked~label.sk-toggleable__label-arrow:before {content: \"▾\";}#sk-container-id-2 div.sk-estimator input.sk-toggleable__control:checked~label.sk-toggleable__label {background-color: #d4ebff;}#sk-container-id-2 div.sk-label input.sk-toggleable__control:checked~label.sk-toggleable__label {background-color: #d4ebff;}#sk-container-id-2 input.sk-hidden--visually {border: 0;clip: rect(1px 1px 1px 1px);clip: rect(1px, 1px, 1px, 1px);height: 1px;margin: -1px;overflow: hidden;padding: 0;position: absolute;width: 1px;}#sk-container-id-2 div.sk-estimator {font-family: monospace;background-color: #f0f8ff;border: 1px dotted black;border-radius: 0.25em;box-sizing: border-box;margin-bottom: 0.5em;}#sk-container-id-2 div.sk-estimator:hover {background-color: #d4ebff;}#sk-container-id-2 div.sk-parallel-item::after {content: \"\";width: 100%;border-bottom: 1px solid gray;flex-grow: 1;}#sk-container-id-2 div.sk-label:hover label.sk-toggleable__label {background-color: #d4ebff;}#sk-container-id-2 div.sk-serial::before {content: \"\";position: absolute;border-left: 1px solid gray;box-sizing: border-box;top: 0;bottom: 0;left: 50%;z-index: 0;}#sk-container-id-2 div.sk-serial {display: flex;flex-direction: column;align-items: center;background-color: white;padding-right: 0.2em;padding-left: 0.2em;position: relative;}#sk-container-id-2 div.sk-item {position: relative;z-index: 1;}#sk-container-id-2 div.sk-parallel {display: flex;align-items: stretch;justify-content: center;background-color: white;position: relative;}#sk-container-id-2 div.sk-item::before, #sk-container-id-2 div.sk-parallel-item::before {content: \"\";position: absolute;border-left: 1px solid gray;box-sizing: border-box;top: 0;bottom: 0;left: 50%;z-index: -1;}#sk-container-id-2 div.sk-parallel-item {display: flex;flex-direction: column;z-index: 1;position: relative;background-color: white;}#sk-container-id-2 div.sk-parallel-item:first-child::after {align-self: flex-end;width: 50%;}#sk-container-id-2 div.sk-parallel-item:last-child::after {align-self: flex-start;width: 50%;}#sk-container-id-2 div.sk-parallel-item:only-child::after {width: 0;}#sk-container-id-2 div.sk-dashed-wrapped {border: 1px dashed gray;margin: 0 0.4em 0.5em 0.4em;box-sizing: border-box;padding-bottom: 0.4em;background-color: white;}#sk-container-id-2 div.sk-label label {font-family: monospace;font-weight: bold;display: inline-block;line-height: 1.2em;}#sk-container-id-2 div.sk-label-container {text-align: center;}#sk-container-id-2 div.sk-container {/* jupyter's `normalize.less` sets `[hidden] { display: none; }` but bootstrap.min.css set `[hidden] { display: none !important; }` so we also need the `!important` here to be able to override the default hidden behavior on the sphinx rendered scikit-learn.org. See: https://github.com/scikit-learn/scikit-learn/issues/21755 */display: inline-block !important;position: relative;}#sk-container-id-2 div.sk-text-repr-fallback {display: none;}</style><div id=\"sk-container-id-2\" class=\"sk-top-container\"><div class=\"sk-text-repr-fallback\"><pre>Perceptron()</pre><b>In a Jupyter environment, please rerun this cell to show the HTML representation or trust the notebook. <br />On GitHub, the HTML representation is unable to render, please try loading this page with nbviewer.org.</b></div><div class=\"sk-container\" hidden><div class=\"sk-item\"><div class=\"sk-estimator sk-toggleable\"><input class=\"sk-toggleable__control sk-hidden--visually\" id=\"sk-estimator-id-2\" type=\"checkbox\" checked><label for=\"sk-estimator-id-2\" class=\"sk-toggleable__label sk-toggleable__label-arrow\">Perceptron</label><div class=\"sk-toggleable__content\"><pre>Perceptron()</pre></div></div></div></div></div>"
      ],
      "text/plain": [
       "Perceptron()"
      ]
     },
     "execution_count": 13,
     "metadata": {},
     "output_type": "execute_result"
    }
   ],
   "source": [
    "# 퍼셉트론 모델을 사용할 개체(clf)를 생성\n",
    "\n",
    "clf = Perceptron(tol=1e-3, random_state=0)  \n",
    "clf.fit(X_train, y_train)                  # 퍼셉트론 모델 학습\n"
   ]
  },
  {
   "cell_type": "code",
   "execution_count": 14,
   "id": "1ad766e1",
   "metadata": {},
   "outputs": [],
   "source": [
    "# 테스트 데이터에 대하여 결과 예측\n",
    "\n",
    "y_pred = clf.predict(X_test)  "
   ]
  },
  {
   "cell_type": "code",
   "execution_count": 15,
   "id": "2018338d",
   "metadata": {},
   "outputs": [
    {
     "name": "stdout",
     "output_type": "stream",
     "text": [
      "              precision    recall  f1-score   support\n",
      "\n",
      "     digit 0       1.00      1.00      1.00        53\n",
      "     digit 1       0.98      0.98      0.98        42\n",
      "     digit 2       0.91      0.98      0.94        41\n",
      "     digit 3       0.98      0.96      0.97        52\n",
      "     digit 4       0.98      1.00      0.99        47\n",
      "     digit 5       0.91      1.00      0.95        39\n",
      "     digit 6       1.00      1.00      1.00        43\n",
      "     digit 7       1.00      0.98      0.99        48\n",
      "     digit 8       1.00      0.81      0.90        37\n",
      "     digit 9       0.94      0.96      0.95        48\n",
      "\n",
      "    accuracy                           0.97       450\n",
      "   macro avg       0.97      0.97      0.97       450\n",
      "weighted avg       0.97      0.97      0.97       450\n",
      "\n"
     ]
    }
   ],
   "source": [
    "from sklearn.metrics import classification_report # 분류 모델 성능 평가를 위한 라이브러리\n",
    "\n",
    "target_names = ['digit 0', 'digit 1', 'digit 2', 'digit 3', 'digit 4', # 각 클래스에 대한 이름 정의\n",
    "                'digit 5', 'digit 6', 'digit 7', 'digit 8', 'digit 9']\n",
    "print(classification_report(y_test, y_pred, target_names=target_names)) # 분류 결과 보고서 출력\n",
    "\n",
    "# 참값(y_test)과 예측값(y_pred)을 대상으로 classification_report를 생성함에 주의"
   ]
  },
  {
   "cell_type": "code",
   "execution_count": 16,
   "id": "2e8221d2",
   "metadata": {},
   "outputs": [
    {
     "data": {
      "image/png": "[encoded data removed]",
      "text/plain": [
       "<Figure size 640x480 with 2 Axes>"
      ]
     },
     "metadata": {},
     "output_type": "display_data"
    }
   ],
   "source": [
    "from sklearn.metrics import confusion_matrix, ConfusionMatrixDisplay # 혼동 행렬 및 시각화를 위한 라이브러리\n",
    "\n",
    "cm = confusion_matrix(y_test, y_pred, labels=clf.classes_) # 테스트 데이터와 예측 결과를 바탕으로 혼동 행렬 계산\n",
    "disp = ConfusionMatrixDisplay(confusion_matrix=cm, # 혼동 행렬 디스플레이 객체 생성\n",
    "                              display_labels=clf.classes_)\n",
    "disp.plot() # 혼동 행렬 시각화\n",
    "plt.show() # 시각화 결과 출력\n"
   ]
  },
  {
   "cell_type": "code",
   "execution_count": null,
   "id": "f96eecf0",
   "metadata": {},
   "outputs": [],
   "source": []
  },
  {
   "cell_type": "code",
   "execution_count": null,
   "id": "5ea21256",
   "metadata": {},
   "outputs": [],
   "source": []
  }
 ],
 "metadata": {
  "kernelspec": {
   "display_name": "Python 3 (ipykernel)",
   "language": "python",
   "name": "python3"
  },
  "language_info": {
   "codemirror_mode": {
    "name": "ipython",
    "version": 3
   },
   "file_extension": ".py",
   "mimetype": "text/x-python",
   "name": "python",
   "nbconvert_exporter": "python",
   "pygments_lexer": "ipython3",
   "version": "3.11.7"
  }
 },
 "nbformat": 4,
 "nbformat_minor": 5
}
