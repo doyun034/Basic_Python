{
 "cells": [
  {
   "cell_type": "code",
   "execution_count": 1,
   "id": "a44673db-849c-4cc9-a7aa-f27099b71eb5",
   "metadata": {},
   "outputs": [
    {
     "name": "stdout",
     "output_type": "stream",
     "text": [
      "Hello World\n"
     ]
    }
   ],
   "source": [
    "a = 10\n",
    "if a>=5:\n",
    "    print(\"Hello World\")"
   ]
  },
  {
   "cell_type": "code",
   "execution_count": 4,
   "id": "982251b9-737d-4ae9-a0dc-ca348c5ab0de",
   "metadata": {},
   "outputs": [
    {
     "name": "stdout",
     "output_type": "stream",
     "text": [
      "adult\n",
      "남자이다\n"
     ]
    }
   ],
   "source": [
    "age = 32\n",
    "if age > 19:\n",
    "    print('adult')\n",
    "\n",
    "sex = \"남자\"\n",
    "if sex == \"남자\":\n",
    "    print(\"남자이다\")\n",
    "\n",
    "sex = \"남자\"\n",
    "if sex != \"남자\":\n",
    "    print(\"남자이다\")"
   ]
  },
  {
   "cell_type": "code",
   "execution_count": 6,
   "id": "74adae97-607a-4d63-91aa-395bf0118b85",
   "metadata": {},
   "outputs": [
    {
     "name": "stdin",
     "output_type": "stream",
     "text": [
      "오늘의 날씨는 어떤가요?(비/맑음):  ql\n"
     ]
    },
    {
     "name": "stdout",
     "output_type": "stream",
     "text": [
      "우산 X\n"
     ]
    }
   ],
   "source": [
    "def check_weather_and_pack_umbrella(weather):\n",
    "    if weather == \"비\":\n",
    "        print(\"우산\")\n",
    "    else:\n",
    "        print(\"우산 X\")\n",
    "\n",
    "weather_today = input(\"오늘의 날씨는 어떤가요?(비/맑음): \")\n",
    "\n",
    "check_weather_and_pack_umbrella(weather_today)"
   ]
  },
  {
   "cell_type": "code",
   "execution_count": 19,
   "id": "3fa9f285-908c-4533-92d8-227ffbb0739f",
   "metadata": {},
   "outputs": [
    {
     "name": "stdin",
     "output_type": "stream",
     "text": [
      " 3\n",
      " +\n",
      " 4\n"
     ]
    },
    {
     "name": "stdout",
     "output_type": "stream",
     "text": [
      "7\n"
     ]
    }
   ],
   "source": [
    "def calculate(num1, num2, operator):\n",
    "    if operator =='+':\n",
    "        return num1 + num2\n",
    "    elif operator == '-':\n",
    "        return num1 - num2\n",
    "    elif operator == '*':\n",
    "        return num1 * num2\n",
    "    elif operator == '/':\n",
    "        return num1 / num2\n",
    "    else:\n",
    "        return \"유효하지 않은 연산자\"\n",
    "\n",
    "num1 = int(input())\n",
    "operator = input()\n",
    "num2 = int(input())\n",
    "\n",
    "result = calculate(num1, num2, operator)\n",
    "print(result)"
   ]
  },
  {
   "cell_type": "code",
   "execution_count": 23,
   "id": "86cb8f79-9d30-4cfa-ac00-a1c14ecfcdc5",
   "metadata": {},
   "outputs": [
    {
     "name": "stdout",
     "output_type": "stream",
     "text": [
      "당신은 성인이 아닙니다\n",
      "당신은 미성년자입니다\n",
      "내년에는 19 살 입니다.\n"
     ]
    }
   ],
   "source": [
    "age = 18\n",
    "if age < 20:\n",
    "    print('당신은 성인이 아닙니다')\n",
    "print(\"당신은 미성년자입니다\") # 조건문에 상관 없이 항상 출력\n",
    "print(\"내년에는\", age+1,\"살 입니다.\") # 조건문에 상관 없이 항상 출력\n",
    "\n",
    "# if ~ elif ~ else 문 / 5주차 17페이지 "
   ]
  },
  {
   "cell_type": "code",
   "execution_count": 29,
   "id": "f289bada-09d0-447d-ba16-5f1e05bfe215",
   "metadata": {},
   "outputs": [
    {
     "name": "stdin",
     "output_type": "stream",
     "text": [
      "평균 입력 60\n",
      "학년 입력 1\n"
     ]
    },
    {
     "name": "stdout",
     "output_type": "stream",
     "text": [
      "fail\n"
     ]
    }
   ],
   "source": [
    "# 매우 중요 개념 (시험 출제 가능성)\n",
    "avg = int(input(\"평균 입력\"))\n",
    "year = int(input(\"학년 입력\"))\n",
    "\n",
    "if avg >= 80:\n",
    "    if year <= 2:\n",
    "        print(\"Pass\")\n",
    "    elif avg>= 80:\n",
    "        print(\"Pass\")\n",
    "    else:\n",
    "        print('fail')\n",
    "else:\n",
    "    print('fail')"
   ]
  },
  {
   "cell_type": "code",
   "execution_count": 32,
   "id": "e2dd00df-f10a-431b-9668-31eb867a31a5",
   "metadata": {},
   "outputs": [
    {
     "name": "stdout",
     "output_type": "stream",
     "text": [
      "['사과', '배', '귤']\n",
      "['바나나', '배', '귤']\n",
      "['바나나', '배', '오렌지']\n"
     ]
    }
   ],
   "source": [
    "fruits = [\"사과\", \"배\", \"귤\"]\n",
    "print(fruits)\n",
    "\n",
    "if fruits[0] == \"사과\":\n",
    "   fruits[0] = \"바나나\"\n",
    "   print(fruits)\n",
    "if fruits[2] == \"귤\":\n",
    "   fruits[2] = \"오렌지\"\n",
    "print(fruits)"
   ]
  },
  {
   "cell_type": "code",
   "execution_count": 33,
   "id": "6d91af85-8325-4604-9540-1506cc1f7e56",
   "metadata": {},
   "outputs": [
    {
     "name": "stdout",
     "output_type": "stream",
     "text": [
      "사과가 선택\n",
      "바나나가 선택\n",
      "banana가 선택\n"
     ]
    }
   ],
   "source": [
    "fruits = {'a': \"apple\", 'b':\"banana\"}\n",
    "if fruits['a'] == \"apple\":\n",
    "    print(\"사과가 선택\")\n",
    "if fruits['b'] == \"banana\":\n",
    "    print(\"바나나가 선택\")\n",
    "if fruits['b'] == \"banana\":\n",
    "    print(f\"{fruits['b']}가 선택\")"
   ]
  },
  {
   "cell_type": "code",
   "execution_count": null,
   "id": "536e3891-b4aa-4fd7-b171-2d298d1a1e9b",
   "metadata": {},
   "outputs": [],
   "source": []
  }
 ],
 "metadata": {
  "kernelspec": {
   "display_name": "Python 3 (ipykernel)",
   "language": "python",
   "name": "python3"
  },
  "language_info": {
   "codemirror_mode": {
    "name": "ipython",
    "version": 3
   },
   "file_extension": ".py",
   "mimetype": "text/x-python",
   "name": "python",
   "nbconvert_exporter": "python",
   "pygments_lexer": "ipython3",
   "version": "3.11.7"
  }
 },
 "nbformat": 4,
 "nbformat_minor": 5
}
