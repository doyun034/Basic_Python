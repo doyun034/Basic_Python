{
 "cells": [
  {
   "cell_type": "code",
   "execution_count": 1,
   "id": "2edcb983-1d2f-4c51-86b6-74e507a04ece",
   "metadata": {},
   "outputs": [
    {
     "name": "stdin",
     "output_type": "stream",
     "text": [
      "투입한 돈:  5000\n",
      "물건 값:  3400\n"
     ]
    },
    {
     "name": "stdout",
     "output_type": "stream",
     "text": [
      "거스름돈: 1600\n",
      "1000원 동전 개수: 1\n",
      "500원 동전 개수: 12\n",
      "100원 동전 개수: 1\n"
     ]
    }
   ],
   "source": [
    "money = int(input(\"투입한 돈: \")) # 투입한 돈 입력\n",
    "cost = int(input(\"물건 값: \")) # 물건값 입력\n",
    "\n",
    "change = money - cost # 잔돈 을 money - cost로 지정\n",
    "\n",
    "won1000 = change//1000 # 기호 사용\n",
    "won500 = (change%1000)//500 # %, //기호 사용\n",
    "won100 = (change%500)//100 # %. //기호 사용\n",
    "\n",
    "print(\"거스름돈: %d\" % change) # 거스름돈 출력\n",
    "print(\"1000원 동전 개수: %d\" % won1000) # 동전 갯수 출력\n",
    "print(\"500원 동전 개수: %d\" % won500) # 동전 갯수 출력\n",
    "print(\"100원 동전 개수: %d\" % won100) # 동전 갯수 출력"
   ]
  },
  {
   "cell_type": "code",
   "execution_count": null,
   "id": "8ea779e8-45da-47c2-9430-7a928d04ef9d",
   "metadata": {},
   "outputs": [],
   "source": []
  }
 ],
 "metadata": {
  "kernelspec": {
   "display_name": "Python 3 (ipykernel)",
   "language": "python",
   "name": "python3"
  },
  "language_info": {
   "codemirror_mode": {
    "name": "ipython",
    "version": 3
   },
   "file_extension": ".py",
   "mimetype": "text/x-python",
   "name": "python",
   "nbconvert_exporter": "python",
   "pygments_lexer": "ipython3",
   "version": "3.11.7"
  }
 },
 "nbformat": 4,
 "nbformat_minor": 5
}
