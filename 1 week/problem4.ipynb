{
 "cells": [
  {
   "cell_type": "code",
   "execution_count": 1,
   "id": "fef425da-0e7b-43e8-9cf0-e18163618ef5",
   "metadata": {},
   "outputs": [
    {
     "name": "stdin",
     "output_type": "stream",
     "text": [
      "초단위 시간을 입력하시오 3700\n"
     ]
    },
    {
     "name": "stdout",
     "output_type": "stream",
     "text": [
      "3700초는1시간1분40초입니다.\n"
     ]
    }
   ],
   "source": [
    "sec=int(input(\"초단위 시간을 입력하시오\"))  # sec 변수 선언\n",
    "hour = sec //3600  # hour 변수를 sec // 3600으로 지정\n",
    "min = (sec%3600)//60 # min 변수를 (sec%3600)//60으로 지정 \n",
    "re = sec % 60 # re 변수를 sec % 60으로 지정\n",
    "print(f\"{sec}초는{hour}시간{min}분{re}초입니다.\") # print문으로 출력"
   ]
  },
  {
   "cell_type": "code",
   "execution_count": null,
   "id": "540fd273-52a0-482b-a729-7bdf66ac07a7",
   "metadata": {},
   "outputs": [],
   "source": []
  }
 ],
 "metadata": {
  "kernelspec": {
   "display_name": "Python 3 (ipykernel)",
   "language": "python",
   "name": "python3"
  },
  "language_info": {
   "codemirror_mode": {
    "name": "ipython",
    "version": 3
   },
   "file_extension": ".py",
   "mimetype": "text/x-python",
   "name": "python",
   "nbconvert_exporter": "python",
   "pygments_lexer": "ipython3",
   "version": "3.11.7"
  }
 },
 "nbformat": 4,
 "nbformat_minor": 5
}
