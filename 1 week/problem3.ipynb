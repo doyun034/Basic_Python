{
 "cells": [
  {
   "cell_type": "code",
   "execution_count": 2,
   "id": "0c8d5e15-602d-4415-b43f-2f9c37f4ff6f",
   "metadata": {},
   "outputs": [
    {
     "name": "stdin",
     "output_type": "stream",
     "text": [
      "첫번째 수:  90\n",
      "두번째 수:  60\n"
     ]
    },
    {
     "name": "stdout",
     "output_type": "stream",
     "text": [
      "90 + 60 = 150\n",
      "90 - 60 = 30\n",
      "90 * 60 = 5400\n",
      "90 / 60 = 1.5\n",
      "90 // 60 = 1\n",
      "90 % 60 = 30\n"
     ]
    }
   ],
   "source": [
    "n1=int(input(\"첫번째 수: \")) #n1 int형 선언과 input 선언\n",
    "n2=int(input(\"두번째 수: \")) #n2 int형 선언과 input 선언 \n",
    "\n",
    "sum=n1+n2   # 사칙연산 '+' 선언\n",
    "diff=n1-n2  # 사칙연산 '-' 선언\n",
    "mul=n1*n2   # 사칙연산 '*' 선언\n",
    "div=n1/n2   # 사칙연산 '/' 선언\n",
    "qu=n1//n2   # 사칙연산 '//' 선언\n",
    "re=n1%n2    # 사칙연산 '%' 선언\n",
    "\n",
    "print(f\"{n1} + {n2} = {sum}\")  # + 값 출력\n",
    "print(f\"{n1} - {n2} = {diff}\") # - 값 출력\n",
    "print(f\"{n1} * {n2} = {mul}\")  # * 값 출력\n",
    "print(f\"{n1} / {n2} = {div}\")  # / 값 출력\n",
    "print(f\"{n1} // {n2} = {qu}\")  # // 값 출력\n",
    "print(f\"{n1} % {n2} = {re}\")   # % 출력"
   ]
  },
  {
   "cell_type": "code",
   "execution_count": null,
   "id": "1fe18b8b-8b8d-4e80-810e-8f841ff79d9c",
   "metadata": {},
   "outputs": [],
   "source": []
  }
 ],
 "metadata": {
  "kernelspec": {
   "display_name": "Python 3 (ipykernel)",
   "language": "python",
   "name": "python3"
  },
  "language_info": {
   "codemirror_mode": {
    "name": "ipython",
    "version": 3
   },
   "file_extension": ".py",
   "mimetype": "text/x-python",
   "name": "python",
   "nbconvert_exporter": "python",
   "pygments_lexer": "ipython3",
   "version": "3.11.7"
  }
 },
 "nbformat": 4,
 "nbformat_minor": 5
}
