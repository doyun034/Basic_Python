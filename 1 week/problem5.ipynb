{
 "cells": [
  {
   "cell_type": "code",
   "execution_count": 2,
   "id": "6165db3b-2f5f-438d-b90b-d36b5078d0fc",
   "metadata": {},
   "outputs": [
    {
     "name": "stdin",
     "output_type": "stream",
     "text": [
      "아메리카노:  10\n",
      "라떼:  20\n",
      "쥬스:  15\n"
     ]
    },
    {
     "name": "stdout",
     "output_type": "stream",
     "text": [
      "총 매출은222500원입니다.\n"
     ]
    }
   ],
   "source": [
    "Americano = 4000  # 아메리카노 변수를 4000으로 지정\n",
    "Latte = 5000  # 라떼 변수를 5000으로 지정\n",
    "Juice = 5500  # 쥬스 변수를 5500으로 지정\n",
    "\n",
    "Ame_num = int(input(\"아메리카노: \")) # input 기능\n",
    "Latte_num = int(input(\"라떼: \")) # input 기능\n",
    "Juice_num = int(input(\"쥬스: \")) # input 기능\n",
    "\n",
    "sale=Americano*Ame_num #총 매출 계산 아메리카노 갯수 * 가격\n",
    "sale+=Latte*Latte_num #이미 계산된 가격 포함해서 라떼 갯수 * 가격\n",
    "sale+=Juice*Juice_num # 이미 계산된 가격 포함해서 쥬스 * 가격\n",
    "\n",
    "print(f\"총 매출은{sale}원입니다.\") # 총 매출 출력"
   ]
  },
  {
   "cell_type": "code",
   "execution_count": null,
   "id": "b972abd1-80bf-4dfe-8b53-c7e81312ef1d",
   "metadata": {},
   "outputs": [],
   "source": []
  }
 ],
 "metadata": {
  "kernelspec": {
   "display_name": "Python 3 (ipykernel)",
   "language": "python",
   "name": "python3"
  },
  "language_info": {
   "codemirror_mode": {
    "name": "ipython",
    "version": 3
   },
   "file_extension": ".py",
   "mimetype": "text/x-python",
   "name": "python",
   "nbconvert_exporter": "python",
   "pygments_lexer": "ipython3",
   "version": "3.11.7"
  }
 },
 "nbformat": 4,
 "nbformat_minor": 5
}
