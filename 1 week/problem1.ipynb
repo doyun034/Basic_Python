{
 "cells": [
  {
   "cell_type": "code",
   "execution_count": 2,
   "id": "537b78d7-0bf9-4c94-8c53-43c5d163c5f3",
   "metadata": {},
   "outputs": [
    {
     "name": "stdout",
     "output_type": "stream",
     "text": [
      "91\n"
     ]
    }
   ],
   "source": [
    "# 문제 1\n",
    "x=3  # 변수 x 선언\n",
    "y=x**3+4*x**2+6*x+10 #y변수 선언과 동시에 연산자 대입\n",
    "print(y) # y값 출력"
   ]
  },
  {
   "cell_type": "code",
   "execution_count": null,
   "id": "79ad6957-f997-4786-840f-0938257ede3f",
   "metadata": {},
   "outputs": [],
   "source": []
  }
 ],
 "metadata": {
  "kernelspec": {
   "display_name": "Python 3 (ipykernel)",
   "language": "python",
   "name": "python3"
  },
  "language_info": {
   "codemirror_mode": {
    "name": "ipython",
    "version": 3
   },
   "file_extension": ".py",
   "mimetype": "text/x-python",
   "name": "python",
   "nbconvert_exporter": "python",
   "pygments_lexer": "ipython3",
   "version": "3.11.7"
  }
 },
 "nbformat": 4,
 "nbformat_minor": 5
}
