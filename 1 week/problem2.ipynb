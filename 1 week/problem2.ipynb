{
 "cells": [
  {
   "cell_type": "code",
   "execution_count": 1,
   "id": "42c391f0-715c-4353-92cd-b7a9206d489c",
   "metadata": {},
   "outputs": [
    {
     "name": "stdin",
     "output_type": "stream",
     "text": [
      "이름을 입력하세요 백장미\n"
     ]
    },
    {
     "name": "stdout",
     "output_type": "stream",
     "text": [
      "백장미님, 안녕하세요?\n",
      "Hi! How are you?\n"
     ]
    }
   ],
   "source": [
    "x=input(\"이름을 입력하세요\") # x 변수를 input 기능 추가\n",
    "print(f\"{x}님, 안녕하세요?\") # 입력한 x 값 출력\n",
    "print(\"Hi! How are you?\") # 프린트문 출력"
   ]
  },
  {
   "cell_type": "code",
   "execution_count": null,
   "id": "49f79c94-28c1-46a7-9c44-219a41d765c6",
   "metadata": {},
   "outputs": [],
   "source": []
  }
 ],
 "metadata": {
  "kernelspec": {
   "display_name": "Python 3 (ipykernel)",
   "language": "python",
   "name": "python3"
  },
  "language_info": {
   "codemirror_mode": {
    "name": "ipython",
    "version": 3
   },
   "file_extension": ".py",
   "mimetype": "text/x-python",
   "name": "python",
   "nbconvert_exporter": "python",
   "pygments_lexer": "ipython3",
   "version": "3.11.7"
  }
 },
 "nbformat": 4,
 "nbformat_minor": 5
}
