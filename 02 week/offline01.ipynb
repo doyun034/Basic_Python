{
 "cells": [
  {
   "cell_type": "code",
   "execution_count": 2,
   "id": "f436db20-0b3d-48f7-9d92-c7153ba9d753",
   "metadata": {},
   "outputs": [
    {
     "name": "stdout",
     "output_type": "stream",
     "text": [
      "10 20\n"
     ]
    }
   ],
   "source": [
    "a, b = 10, 20\n",
    "print(a,b)"
   ]
  },
  {
   "cell_type": "code",
   "execution_count": 3,
   "id": "abf2ebee-8c37-433f-9d41-86221d4b0dff",
   "metadata": {},
   "outputs": [
    {
     "name": "stdout",
     "output_type": "stream",
     "text": [
      "20 10\n"
     ]
    }
   ],
   "source": [
    "a,b=10,20\n",
    "a,b=b,a\n",
    "print(a,b)"
   ]
  },
  {
   "cell_type": "code",
   "execution_count": 4,
   "id": "2c65b056-fdea-49fb-bbff-e00199455c4b",
   "metadata": {},
   "outputs": [
    {
     "name": "stdout",
     "output_type": "stream",
     "text": [
      "16 40\n"
     ]
    }
   ],
   "source": [
    "sec=1000\n",
    "min = sec//60\n",
    "remainder=sec%60\n",
    "print(min, remainder)"
   ]
  },
  {
   "cell_type": "code",
   "execution_count": 5,
   "id": "d04b8c6d-f273-4679-8a93-5182bb8a7112",
   "metadata": {},
   "outputs": [
    {
     "name": "stdout",
     "output_type": "stream",
     "text": [
      "22\n",
      "20\n",
      "40\n",
      "0\n"
     ]
    }
   ],
   "source": [
    "a = 20\n",
    "a += 2\n",
    "print(a)\n",
    "\n",
    "a -= 2\n",
    "print(a)\n",
    "\n",
    "a *= 2\n",
    "print(a)\n",
    "\n",
    "a %= 2\n",
    "print(a)"
   ]
  },
  {
   "cell_type": "code",
   "execution_count": 6,
   "id": "746fc397-df6b-4bf7-9b4c-0a2f432e417a",
   "metadata": {},
   "outputs": [
    {
     "name": "stdout",
     "output_type": "stream",
     "text": [
      "True\n",
      "False\n",
      "True\n",
      "False\n"
     ]
    }
   ],
   "source": [
    "a=3\n",
    "b=3\n",
    "print(a==b)\n",
    "print(a!=b)\n",
    "print(a>=b)\n",
    "print(\"Hello\"==\"Hello \")"
   ]
  },
  {
   "cell_type": "code",
   "execution_count": 7,
   "id": "33f56fcc-6a11-4d64-924c-0d0cbfdc0680",
   "metadata": {},
   "outputs": [
    {
     "name": "stdout",
     "output_type": "stream",
     "text": [
      "helloPython\n"
     ]
    }
   ],
   "source": [
    "a = \"Python\"\n",
    "b = \"hello\"\n",
    "print(b + a)"
   ]
  },
  {
   "cell_type": "code",
   "execution_count": 8,
   "id": "44124325-ca5d-4aae-8eb7-f4649a51f4c5",
   "metadata": {},
   "outputs": [
    {
     "name": "stdin",
     "output_type": "stream",
     "text": [
      " 나요\n"
     ]
    },
    {
     "name": "stdout",
     "output_type": "stream",
     "text": [
      "나요\n"
     ]
    },
    {
     "name": "stdin",
     "output_type": "stream",
     "text": [
      "좋아하는 사람이 누구요? 나요\n"
     ]
    },
    {
     "name": "stdout",
     "output_type": "stream",
     "text": [
      "나요\n"
     ]
    }
   ],
   "source": [
    "a = input()\n",
    "print(a)\n",
    "a=input('좋아하는 사람이 누구요?')\n",
    "print(a)"
   ]
  },
  {
   "cell_type": "code",
   "execution_count": null,
   "id": "a9967577-fabc-4787-bb42-9bedcb57a87e",
   "metadata": {},
   "outputs": [],
   "source": []
  },
  {
   "cell_type": "code",
   "execution_count": null,
   "id": "f828c3b2-4b85-4f64-b77a-8659f22c0526",
   "metadata": {},
   "outputs": [],
   "source": []
  }
 ],
 "metadata": {
  "kernelspec": {
   "display_name": "Python 3 (ipykernel)",
   "language": "python",
   "name": "python3"
  },
  "language_info": {
   "codemirror_mode": {
    "name": "ipython",
    "version": 3
   },
   "file_extension": ".py",
   "mimetype": "text/x-python",
   "name": "python",
   "nbconvert_exporter": "python",
   "pygments_lexer": "ipython3",
   "version": "3.11.7"
  }
 },
 "nbformat": 4,
 "nbformat_minor": 5
}
