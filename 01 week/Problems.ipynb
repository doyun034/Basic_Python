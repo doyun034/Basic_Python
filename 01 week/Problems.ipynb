{
 "cells": [
  {
   "cell_type": "code",
   "execution_count": 2,
   "id": "537b78d7-0bf9-4c94-8c53-43c5d163c5f3",
   "metadata": {},
   "outputs": [
    {
     "name": "stdout",
     "output_type": "stream",
     "text": [
      "91\n"
     ]
    }
   ],
   "source": [
    "# 문제 1\n",
    "x=3  # 변수 x 선언\n",
    "y=x**3+4*x**2+6*x+10 #y변수 선언과 동시에 연산자 대입\n",
    "print(y) # y값 출력"
   ]
  },
  {
   "cell_type": "code",
   "execution_count": null,
   "id": "79ad6957-f997-4786-840f-0938257ede3f",
   "metadata": {},
   "outputs": [],
   "source": [
    "# 문제 2\n",
    "x=input(\"이름을 입력하세요\") # x 변수를 input 기능 추가\n",
    "print(f\"{x}님, 안녕하세요?\") # 입력한 x 값 출력\n",
    "print(\"Hi! How are you?\") # 프린트문 출력"
   ]
  },
  {
   "cell_type": "code",
   "execution_count": null,
   "id": "1e8891da-79e1-4f97-90a9-a5849f3685bb",
   "metadata": {},
   "outputs": [],
   "source": [
    "# 문제 3\n",
    "n1=int(input(\"첫번째 수: \")) #n1 int형 선언과 input 선언\n",
    "n2=int(input(\"두번째 수: \")) #n2 int형 선언과 input 선언 \n",
    "\n",
    "sum=n1+n2   # 사칙연산 '+' 선언\n",
    "diff=n1-n2  # 사칙연산 '-' 선언\n",
    "mul=n1*n2   # 사칙연산 '*' 선언\n",
    "div=n1/n2   # 사칙연산 '/' 선언\n",
    "qu=n1//n2   # 사칙연산 '//' 선언\n",
    "re=n1%n2    # 사칙연산 '%' 선언\n",
    "\n",
    "print(f\"{n1} + {n2} = {sum}\")  # + 값 출력\n",
    "print(f\"{n1} - {n2} = {diff}\") # - 값 출력\n",
    "print(f\"{n1} * {n2} = {mul}\")  # * 값 출력\n",
    "print(f\"{n1} / {n2} = {div}\")  # / 값 출력\n",
    "print(f\"{n1} // {n2} = {qu}\")  # // 값 출력\n",
    "print(f\"{n1} % {n2} = {re}\")   # % 출력"
   ]
  },
  {
   "cell_type": "code",
   "execution_count": null,
   "id": "0be56e31-4fe9-4f3d-85b1-682d20170c54",
   "metadata": {},
   "outputs": [],
   "source": [
    "# 문제 4\n",
    "sec=int(input(\"초단위 시간을 입력하시오\"))  # sec 변수 선언\n",
    "hour = sec //3600  # hour 변수를 sec // 3600으로 지정\n",
    "min = (sec%3600)//60 # min 변수를 (sec%3600)//60으로 지정 \n",
    "re = sec % 60 # re 변수를 sec % 60으로 지정\n",
    "print(f\"{sec}초는{hour}시간{min}분{re}초입니다.\") # print문으로 출력"
   ]
  },
  {
   "cell_type": "code",
   "execution_count": null,
   "id": "03e66d88-78fc-4af6-b859-d9b942aa0f7e",
   "metadata": {},
   "outputs": [],
   "source": [
    "# 문제 5\n",
    "Americano = 4000  # 아메리카노 변수를 4000으로 지정\n",
    "Latte = 5000  # 라떼 변수를 5000으로 지정\n",
    "Juice = 5500  # 쥬스 변수를 5500으로 지정\n",
    "\n",
    "Ame_num = int(input(\"아메리카노: \")) # input 기능\n",
    "Latte_num = int(input(\"라떼: \")) # input 기능\n",
    "Juice_num = int(input(\"쥬스: \")) # input 기능\n",
    "\n",
    "sale=Americano*Ame_num #총 매출 계산 아메리카노 갯수 * 가격\n",
    "sale+=Latte*Latte_num #이미 계산된 가격 포함해서 라떼 갯수 * 가격\n",
    "sale+=Juice*Juice_num # 이미 계산된 가격 포함해서 쥬스 * 가격\n",
    "\n",
    "print(f\"총 매출은{sale}원입니다.\") # 총 매출 출력"
   ]
  },
  {
   "cell_type": "code",
   "execution_count": null,
   "id": "4f44315c-deac-4cbc-b0b5-7d3cc26ea975",
   "metadata": {},
   "outputs": [],
   "source": [
    "# 문제 6\n",
    "money = int(input(\"투입한 돈: \")) # 투입한 돈 입력\n",
    "cost = int(input(\"물건 값: \")) # 물건값 입력\n",
    "\n",
    "change = money - cost # 잔돈 을 money - cost로 지정\n",
    "\n",
    "won1000 = change//1000 # 기호 사용\n",
    "won500 = (change%1000)//500 # %, //기호 사용\n",
    "won100 = (change%500)//100 # %. //기호 사용\n",
    "\n",
    "print(\"거스름돈: %d\" % change) # 거스름돈 출력\n",
    "print(\"1000원 동전 개수: %d\" % won1000) # 동전 갯수 출력\n",
    "print(\"500원 동전 개수: %d\" % won500) # 동전 갯수 출력\n",
    "print(\"100원 동전 개수: %d\" % won100) # 동전 갯수 출력"
   ]
  }
 ],
 "metadata": {
  "kernelspec": {
   "display_name": "Python 3 (ipykernel)",
   "language": "python",
   "name": "python3"
  },
  "language_info": {
   "codemirror_mode": {
    "name": "ipython",
    "version": 3
   },
   "file_extension": ".py",
   "mimetype": "text/x-python",
   "name": "python",
   "nbconvert_exporter": "python",
   "pygments_lexer": "ipython3",
   "version": "3.11.7"
  }
 },
 "nbformat": 4,
 "nbformat_minor": 5
}
