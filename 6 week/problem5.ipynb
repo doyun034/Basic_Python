{
 "cells": [
  {
   "cell_type": "code",
   "execution_count": 2,
   "id": "f3c5ce07-f51d-4442-8923-2b283ab949dd",
   "metadata": {},
   "outputs": [
    {
     "name": "stdin",
     "output_type": "stream",
     "text": [
      "학생수 입력: 3\n"
     ]
    },
    {
     "name": "stdout",
     "output_type": "stream",
     "text": [
      "*1번째 학생 정보 입력**\n"
     ]
    },
    {
     "name": "stdin",
     "output_type": "stream",
     "text": [
      "학생 이름 입력: 홍길동\n",
      "홍길동점수 입력 90\n"
     ]
    },
    {
     "name": "stdout",
     "output_type": "stream",
     "text": [
      "*2번째 학생 정보 입력**\n"
     ]
    },
    {
     "name": "stdin",
     "output_type": "stream",
     "text": [
      "학생 이름 입력: 김길동\n",
      "김길동점수 입력 80\n"
     ]
    },
    {
     "name": "stdout",
     "output_type": "stream",
     "text": [
      "*3번째 학생 정보 입력**\n"
     ]
    },
    {
     "name": "stdin",
     "output_type": "stream",
     "text": [
      "학생 이름 입력: 이길동\n",
      "이길동점수 입력 75\n"
     ]
    },
    {
     "name": "stdout",
     "output_type": "stream",
     "text": [
      "[['홍길동', 90], ['김길동', 80], ['이길동', 75]]\n",
      "학생들 점수 평균:81.666667\n"
     ]
    }
   ],
   "source": [
    "students = [] # student 배열 선언\n",
    "hap = 0 # hap 변수 0으로 초기화\n",
    "\n",
    "n = int(input('학생수 입력:')) #n 변수 선언\n",
    "for i in range(1, n+1): # 학생 정보 저장\n",
    "    print(f'*{i}번째 학생 정보 입력**') # 프린트문 출력\n",
    "    name = input('학생 이름 입력:') # name 변수 선언\n",
    "    score = int(input(f'{name}점수 입력')) # score 변수 선언\n",
    "    students.append([name, score]) # name, score 변수값 출력\n",
    "    hap+=score # hap 서식 입력\n",
    "    avg=hap/n # avg 서식 입력\n",
    "\n",
    "print(students) # 프린트문 출력\n",
    "print(f'학생들 점수 평균:{avg:2f}') # 프린트문 출력"
   ]
  },
  {
   "cell_type": "code",
   "execution_count": null,
   "id": "42249566-1011-49b0-9f35-c12be463e407",
   "metadata": {},
   "outputs": [],
   "source": []
  }
 ],
 "metadata": {
  "kernelspec": {
   "display_name": "Python 3 (ipykernel)",
   "language": "python",
   "name": "python3"
  },
  "language_info": {
   "codemirror_mode": {
    "name": "ipython",
    "version": 3
   },
   "file_extension": ".py",
   "mimetype": "text/x-python",
   "name": "python",
   "nbconvert_exporter": "python",
   "pygments_lexer": "ipython3",
   "version": "3.11.7"
  }
 },
 "nbformat": 4,
 "nbformat_minor": 5
}
