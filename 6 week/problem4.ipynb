{
 "cells": [
  {
   "cell_type": "code",
   "execution_count": 1,
   "id": "628396a1-2011-4209-b875-7b93cca377db",
   "metadata": {},
   "outputs": [
    {
     "name": "stdout",
     "output_type": "stream",
     "text": [
      "<1~30중에서 컴퓨터가 생각한 숫자 맞추기>\n"
     ]
    },
    {
     "name": "stdin",
     "output_type": "stream",
     "text": [
      "숫자 입력(종료 0): 15\n"
     ]
    },
    {
     "name": "stdout",
     "output_type": "stream",
     "text": [
      "더 낮은 숫자 입력\n"
     ]
    },
    {
     "name": "stdin",
     "output_type": "stream",
     "text": [
      "숫자 입력(종료 0): 10\n"
     ]
    },
    {
     "name": "stdout",
     "output_type": "stream",
     "text": [
      "더 큰 숫자 입력\n"
     ]
    },
    {
     "name": "stdin",
     "output_type": "stream",
     "text": [
      "숫자 입력(종료 0): 13\n"
     ]
    },
    {
     "name": "stdout",
     "output_type": "stream",
     "text": [
      "정답!\n"
     ]
    }
   ],
   "source": [
    "import random # random 라이브러리 선언\n",
    "com = random.randint(1,30) # 변수 com 선언\n",
    "print('<1~30중에서 컴퓨터가 생각한 숫자 맞추기>') # 프린트문 선언\n",
    "\n",
    "while True: # while 반복문이 true일 때 작동\n",
    "    user = int(input('숫자 입력(종료 0):')) # user 변수 숫자 입력\n",
    "    if user == 0: # if문 설정 \n",
    "        break # break 선언\n",
    "    elif user == com: # elif문 설정\n",
    "        print('정답!') # 프린트문 출력\n",
    "        break # break 선언\n",
    "    elif user > com: # elif문 설정\n",
    "        print('더 낮은 숫자 입력') # 프린트문 출력\n",
    "    else: # else 선언\n",
    "        print('더 큰 숫자 입력') # 프린트문 출력"
   ]
  },
  {
   "cell_type": "code",
   "execution_count": null,
   "id": "c6660772-2584-4b01-9396-665cfbbe22c3",
   "metadata": {},
   "outputs": [],
   "source": []
  }
 ],
 "metadata": {
  "kernelspec": {
   "display_name": "Python 3 (ipykernel)",
   "language": "python",
   "name": "python3"
  },
  "language_info": {
   "codemirror_mode": {
    "name": "ipython",
    "version": 3
   },
   "file_extension": ".py",
   "mimetype": "text/x-python",
   "name": "python",
   "nbconvert_exporter": "python",
   "pygments_lexer": "ipython3",
   "version": "3.11.7"
  }
 },
 "nbformat": 4,
 "nbformat_minor": 5
}
