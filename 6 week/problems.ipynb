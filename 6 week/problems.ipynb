{
 "cells": [
  {
   "cell_type": "code",
   "execution_count": 3,
   "id": "345edf5a-d846-4dbe-9118-38327c1c00d7",
   "metadata": {},
   "outputs": [
    {
     "name": "stdout",
     "output_type": "stream",
     "text": [
      "역순으로 된 문자열:nohtyP\n"
     ]
    }
   ],
   "source": [
    "# 문제 1\n",
    "word = \"Python\" # 변수 Word 선언\n",
    "reversed_word =\"\" # 변수 reversed_word 선언\n",
    "\n",
    "for char in word: # 반복문 설정\n",
    "    reversed_word = char + reversed_word # reversed_word 대입\n",
    "\n",
    "print(f\"역순으로 된 문자열:{reversed_word}\") # 프린트문 출력"
   ]
  },
  {
   "cell_type": "code",
   "execution_count": null,
   "id": "82551616-b35d-460c-a74a-2220fbee9df0",
   "metadata": {},
   "outputs": [],
   "source": [
    "# 문제 2\n",
    "dan = int(input('단 입력:')) # dan 변수 설정\n",
    "i=1 # i 변수 1로 초기화\n",
    "while i <= 9: # while 반복문 설정\n",
    "    print(f\"{dan} x {i} = {dan*i}\") # 프린트문 출력\n",
    "    i+=1 # i가 1씩 증가"
   ]
  },
  {
   "cell_type": "code",
   "execution_count": null,
   "id": "aef836a3-3f50-4427-9124-9ce25bb0fe3a",
   "metadata": {},
   "outputs": [],
   "source": [
    "# 문제 3\n",
    "start = int(input('시작단 입력:')) # start 변수 선언\n",
    "end = int(input('종료단 입력:')) # end 변수 선언\n",
    "\n",
    "for dan in range(start,end+1): # for문 설정\n",
    "    i=1 # 변수 i 1로 초기화\n",
    "    while i <= 9: # while문 9번 작동 설정\n",
    "        print(f\"{dan}x{i} = {dan*i}\") # 프린트문 출력\n",
    "        i+=1 # i가 1씩 증가"
   ]
  },
  {
   "cell_type": "code",
   "execution_count": null,
   "id": "dde9ca45-6adc-40ea-973a-57b6b8a7b8c4",
   "metadata": {},
   "outputs": [],
   "source": [
    "#문제 4\n",
    "import random # random 라이브러리 선언\n",
    "com = random.randint(1,30) # 변수 com 선언\n",
    "print('<1~30중에서 컴퓨터가 생각한 숫자 맞추기>') # 프린트문 선언\n",
    "\n",
    "while True: # while 반복문이 true일 때 작동\n",
    "    user = int(input('숫자 입력(종료 0):')) # user 변수 숫자 입력\n",
    "    if user == 0: # if문 설정 \n",
    "        break # break 선언\n",
    "    elif user == com: # elif문 설정\n",
    "        print('정답!') # 프린트문 출력\n",
    "        break # break 선언\n",
    "    elif user > com: # elif문 설정\n",
    "        print('더 낮은 숫자 입력') # 프린트문 출력\n",
    "    else: # else 선언\n",
    "        print('더 큰 숫자 입력') # 프린트문 출력"
   ]
  },
  {
   "cell_type": "code",
   "execution_count": null,
   "id": "8f04509b-13c9-43ee-b3e4-c4b7792690b0",
   "metadata": {},
   "outputs": [],
   "source": [
    "# 문제 5\n",
    "students = [] # student 배열 선언\n",
    "hap = 0 # hap 변수 0으로 초기화\n",
    "\n",
    "n = int(input('학생수 입력:')) #n 변수 선언\n",
    "for i in range(1, n+1): # 학생 정보 저장\n",
    "    print(f'*{i}번째 학생 정보 입력**') # 프린트문 출력\n",
    "    name = input('학생 이름 입력:') # name 변수 선언\n",
    "    score = int(input(f'{name}점수 입력')) # score 변수 선언\n",
    "    students.append([name, score]) # name, score 변수값 출력\n",
    "    hap+=score # hap 서식 입력\n",
    "    avg=hap/n # avg 서식 입력\n",
    "\n",
    "print(students) # 프린트문 출력\n",
    "print(f'학생들 점수 평균:{avg:2f}') # 프린트문 출력"
   ]
  },
  {
   "cell_type": "code",
   "execution_count": null,
   "id": "1cce29a1-c0f6-482c-8944-891f31aebf8e",
   "metadata": {},
   "outputs": [],
   "source": []
  },
  {
   "cell_type": "code",
   "execution_count": null,
   "id": "8031367d-4e9f-4e7e-919f-f0ec7d49738c",
   "metadata": {},
   "outputs": [],
   "source": []
  }
 ],
 "metadata": {
  "kernelspec": {
   "display_name": "Python 3 (ipykernel)",
   "language": "python",
   "name": "python3"
  },
  "language_info": {
   "codemirror_mode": {
    "name": "ipython",
    "version": 3
   },
   "file_extension": ".py",
   "mimetype": "text/x-python",
   "name": "python",
   "nbconvert_exporter": "python",
   "pygments_lexer": "ipython3",
   "version": "3.11.7"
  }
 },
 "nbformat": 4,
 "nbformat_minor": 5
}
