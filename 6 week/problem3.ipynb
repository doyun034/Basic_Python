{
 "cells": [
  {
   "cell_type": "code",
   "execution_count": 1,
   "id": "496639c5-886b-4b61-95b8-e1b7218b8c76",
   "metadata": {},
   "outputs": [
    {
     "name": "stdin",
     "output_type": "stream",
     "text": [
      "시작단 입력: 3\n",
      "종료단 입력: 4\n"
     ]
    },
    {
     "name": "stdout",
     "output_type": "stream",
     "text": [
      "3x1 = 3\n",
      "3x2 = 6\n",
      "3x3 = 9\n",
      "3x4 = 12\n",
      "3x5 = 15\n",
      "3x6 = 18\n",
      "3x7 = 21\n",
      "3x8 = 24\n",
      "3x9 = 27\n",
      "4x1 = 4\n",
      "4x2 = 8\n",
      "4x3 = 12\n",
      "4x4 = 16\n",
      "4x5 = 20\n",
      "4x6 = 24\n",
      "4x7 = 28\n",
      "4x8 = 32\n",
      "4x9 = 36\n"
     ]
    }
   ],
   "source": [
    "start = int(input('시작단 입력:')) # start 변수 선언\n",
    "end = int(input('종료단 입력:')) # end 변수 선언\n",
    "\n",
    "for dan in range(start,end+1): # for문 설정\n",
    "    i=1 # 변수 i 1로 초기화\n",
    "    while i <= 9: # while문 9번 작동 설정\n",
    "        print(f\"{dan}x{i} = {dan*i}\") # 프린트문 출력\n",
    "        i+=1 # i가 1씩 증가"
   ]
  },
  {
   "cell_type": "code",
   "execution_count": null,
   "id": "2e23ec36-7a23-408e-b208-e315002fbb7c",
   "metadata": {},
   "outputs": [],
   "source": []
  }
 ],
 "metadata": {
  "kernelspec": {
   "display_name": "Python 3 (ipykernel)",
   "language": "python",
   "name": "python3"
  },
  "language_info": {
   "codemirror_mode": {
    "name": "ipython",
    "version": 3
   },
   "file_extension": ".py",
   "mimetype": "text/x-python",
   "name": "python",
   "nbconvert_exporter": "python",
   "pygments_lexer": "ipython3",
   "version": "3.11.7"
  }
 },
 "nbformat": 4,
 "nbformat_minor": 5
}
