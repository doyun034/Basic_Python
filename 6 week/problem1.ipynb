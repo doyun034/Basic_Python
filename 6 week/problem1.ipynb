{
 "cells": [
  {
   "cell_type": "code",
   "execution_count": 3,
   "id": "345edf5a-d846-4dbe-9118-38327c1c00d7",
   "metadata": {},
   "outputs": [
    {
     "name": "stdout",
     "output_type": "stream",
     "text": [
      "역순으로 된 문자열:nohtyP\n"
     ]
    }
   ],
   "source": [
    "word = \"Python\" # 변수 Word 선언\n",
    "reversed_word =\"\" # 변수 reversed_word 선언\n",
    "\n",
    "for char in word: # 반복문 설정\n",
    "    reversed_word = char + reversed_word # reversed_word 대입\n",
    "\n",
    "print(f\"역순으로 된 문자열:{reversed_word}\") # 프린트문 출력"
   ]
  },
  {
   "cell_type": "code",
   "execution_count": null,
   "id": "82551616-b35d-460c-a74a-2220fbee9df0",
   "metadata": {},
   "outputs": [],
   "source": []
  }
 ],
 "metadata": {
  "kernelspec": {
   "display_name": "Python 3 (ipykernel)",
   "language": "python",
   "name": "python3"
  },
  "language_info": {
   "codemirror_mode": {
    "name": "ipython",
    "version": 3
   },
   "file_extension": ".py",
   "mimetype": "text/x-python",
   "name": "python",
   "nbconvert_exporter": "python",
   "pygments_lexer": "ipython3",
   "version": "3.11.7"
  }
 },
 "nbformat": 4,
 "nbformat_minor": 5
}
