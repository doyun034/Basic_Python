{
 "cells": [
  {
   "cell_type": "code",
   "execution_count": 1,
   "id": "345edf5a-d846-4dbe-9118-38327c1c00d7",
   "metadata": {},
   "outputs": [
    {
     "name": "stdout",
     "output_type": "stream",
     "text": [
      "역순으로 된 문자열:nohtyP\n"
     ]
    }
   ],
   "source": [
    "# 문제 1\n",
    "word = \"Python\" # 변수 Word 선언\n",
    "reversed_word =\"\" # 변수 reversed_word 선언\n",
    "\n",
    "for char in word: # 반복문 설정\n",
    "    reversed_word = char + reversed_word # reversed_word 대입\n",
    "\n",
    "print(f\"역순으로 된 문자열:{reversed_word}\") # 프린트문 출력"
   ]
  },
  {
   "cell_type": "code",
   "execution_count": 2,
   "id": "82551616-b35d-460c-a74a-2220fbee9df0",
   "metadata": {},
   "outputs": [
    {
     "name": "stdin",
     "output_type": "stream",
     "text": [
      "단 입력: 3\n"
     ]
    },
    {
     "name": "stdout",
     "output_type": "stream",
     "text": [
      "3 x 1 = 3\n",
      "3 x 2 = 6\n",
      "3 x 3 = 9\n",
      "3 x 4 = 12\n",
      "3 x 5 = 15\n",
      "3 x 6 = 18\n",
      "3 x 7 = 21\n",
      "3 x 8 = 24\n",
      "3 x 9 = 27\n"
     ]
    }
   ],
   "source": [
    "# 문제 2\n",
    "dan = int(input('단 입력:')) # dan 변수 설정\n",
    "i=1 # i 변수 1로 초기화\n",
    "while i <= 9: # while 반복문 설정\n",
    "    print(f\"{dan} x {i} = {dan*i}\") # 프린트문 출력\n",
    "    i+=1 # i가 1씩 증가"
   ]
  },
  {
   "cell_type": "code",
   "execution_count": 3,
   "id": "aef836a3-3f50-4427-9124-9ce25bb0fe3a",
   "metadata": {},
   "outputs": [
    {
     "name": "stdin",
     "output_type": "stream",
     "text": [
      "시작단 입력: 3\n",
      "종료단 입력: 4\n"
     ]
    },
    {
     "name": "stdout",
     "output_type": "stream",
     "text": [
      "3x1 = 3\n",
      "3x2 = 6\n",
      "3x3 = 9\n",
      "3x4 = 12\n",
      "3x5 = 15\n",
      "3x6 = 18\n",
      "3x7 = 21\n",
      "3x8 = 24\n",
      "3x9 = 27\n",
      "4x1 = 4\n",
      "4x2 = 8\n",
      "4x3 = 12\n",
      "4x4 = 16\n",
      "4x5 = 20\n",
      "4x6 = 24\n",
      "4x7 = 28\n",
      "4x8 = 32\n",
      "4x9 = 36\n"
     ]
    }
   ],
   "source": [
    "# 문제 3\n",
    "start = int(input('시작단 입력:')) # start 변수 선언\n",
    "end = int(input('종료단 입력:')) # end 변수 선언\n",
    "\n",
    "for dan in range(start,end+1): # for문 설정\n",
    "    i=1 # 변수 i 1로 초기화\n",
    "    while i <= 9: # while문 9번 작동 설정\n",
    "        print(f\"{dan}x{i} = {dan*i}\") # 프린트문 출력\n",
    "        i+=1 # i가 1씩 증가"
   ]
  },
  {
   "cell_type": "code",
   "execution_count": 4,
   "id": "dde9ca45-6adc-40ea-973a-57b6b8a7b8c4",
   "metadata": {},
   "outputs": [
    {
     "name": "stdout",
     "output_type": "stream",
     "text": [
      "<1~30중에서 컴퓨터가 생각한 숫자 맞추기>\n"
     ]
    },
    {
     "name": "stdin",
     "output_type": "stream",
     "text": [
      "숫자 입력(종료 0): 15\n"
     ]
    },
    {
     "name": "stdout",
     "output_type": "stream",
     "text": [
      "더 낮은 숫자 입력\n"
     ]
    },
    {
     "name": "stdin",
     "output_type": "stream",
     "text": [
      "숫자 입력(종료 0): 10\n"
     ]
    },
    {
     "name": "stdout",
     "output_type": "stream",
     "text": [
      "더 큰 숫자 입력\n"
     ]
    },
    {
     "name": "stdin",
     "output_type": "stream",
     "text": [
      "숫자 입력(종료 0): 13\n"
     ]
    },
    {
     "name": "stdout",
     "output_type": "stream",
     "text": [
      "정답!\n"
     ]
    }
   ],
   "source": [
    "#문제 4\n",
    "import random # random 라이브러리 선언\n",
    "com = random.randint(1,30) # 변수 com 선언\n",
    "print('<1~30중에서 컴퓨터가 생각한 숫자 맞추기>') # 프린트문 선언\n",
    "\n",
    "while True: # while 반복문이 true일 때 작동\n",
    "    user = int(input('숫자 입력(종료 0):')) # user 변수 숫자 입력\n",
    "    if user == 0: # if문 설정 \n",
    "        break # break 선언\n",
    "    elif user == com: # elif문 설정\n",
    "        print('정답!') # 프린트문 출력\n",
    "        break # break 선언\n",
    "    elif user > com: # elif문 설정\n",
    "        print('더 낮은 숫자 입력') # 프린트문 출력\n",
    "    else: # else 선언\n",
    "        print('더 큰 숫자 입력') # 프린트문 출력"
   ]
  },
  {
   "cell_type": "code",
   "execution_count": 5,
   "id": "8f04509b-13c9-43ee-b3e4-c4b7792690b0",
   "metadata": {},
   "outputs": [
    {
     "name": "stdin",
     "output_type": "stream",
     "text": [
      "학생수 입력: 3\n"
     ]
    },
    {
     "name": "stdout",
     "output_type": "stream",
     "text": [
      "*1번째 학생 정보 입력**\n"
     ]
    },
    {
     "name": "stdin",
     "output_type": "stream",
     "text": [
      "학생 이름 입력: 홍길동\n",
      "홍길동점수 입력 90\n"
     ]
    },
    {
     "name": "stdout",
     "output_type": "stream",
     "text": [
      "*2번째 학생 정보 입력**\n"
     ]
    },
    {
     "name": "stdin",
     "output_type": "stream",
     "text": [
      "학생 이름 입력: 김길동\n",
      "김길동점수 입력 80\n"
     ]
    },
    {
     "name": "stdout",
     "output_type": "stream",
     "text": [
      "*3번째 학생 정보 입력**\n"
     ]
    },
    {
     "name": "stdin",
     "output_type": "stream",
     "text": [
      "학생 이름 입력: 이길동\n",
      "이길동점수 입력 75\n"
     ]
    },
    {
     "name": "stdout",
     "output_type": "stream",
     "text": [
      "[['홍길동', 90], ['김길동', 80], ['이길동', 75]]\n",
      "학생들 점수 평균:81.666667\n"
     ]
    }
   ],
   "source": [
    "# 문제 5\n",
    "students = [] # student 배열 선언\n",
    "hap = 0 # hap 변수 0으로 초기화\n",
    "\n",
    "n = int(input('학생수 입력:')) #n 변수 선언\n",
    "for i in range(1, n+1): # 학생 정보 저장\n",
    "    print(f'*{i}번째 학생 정보 입력**') # 프린트문 출력\n",
    "    name = input('학생 이름 입력:') # name 변수 선언\n",
    "    score = int(input(f'{name}점수 입력')) # score 변수 선언\n",
    "    students.append([name, score]) # name, score 변수값 출력\n",
    "    hap+=score # hap 서식 입력\n",
    "    avg=hap/n # avg 서식 입력\n",
    "\n",
    "print(students) # 프린트문 출력\n",
    "print(f'학생들 점수 평균:{avg:2f}') # 프린트문 출력"
   ]
  },
  {
   "cell_type": "code",
   "execution_count": null,
   "id": "1cce29a1-c0f6-482c-8944-891f31aebf8e",
   "metadata": {},
   "outputs": [],
   "source": []
  },
  {
   "cell_type": "code",
   "execution_count": null,
   "id": "8031367d-4e9f-4e7e-919f-f0ec7d49738c",
   "metadata": {},
   "outputs": [],
   "source": []
  }
 ],
 "metadata": {
  "kernelspec": {
   "display_name": "Python 3 (ipykernel)",
   "language": "python",
   "name": "python3"
  },
  "language_info": {
   "codemirror_mode": {
    "name": "ipython",
    "version": 3
   },
   "file_extension": ".py",
   "mimetype": "text/x-python",
   "name": "python",
   "nbconvert_exporter": "python",
   "pygments_lexer": "ipython3",
   "version": "3.11.7"
  }
 },
 "nbformat": 4,
 "nbformat_minor": 5
}
