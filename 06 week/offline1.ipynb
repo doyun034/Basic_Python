{
 "cells": [
  {
   "cell_type": "code",
   "execution_count": null,
   "id": "a44673db-849c-4cc9-a7aa-f27099b71eb5",
   "metadata": {},
   "outputs": [],
   "source": [
    "for i in range(1000):\n",
    "    print(\"Hello\")"
   ]
  },
  {
   "cell_type": "code",
   "execution_count": null,
   "id": "982251b9-737d-4ae9-a0dc-ca348c5ab0de",
   "metadata": {},
   "outputs": [],
   "source": [
    "count = 1\n",
    "while count <= 1000:\n",
    "    print(\"Hello\")\n",
    "    count += 1"
   ]
  },
  {
   "cell_type": "code",
   "execution_count": null,
   "id": "74adae97-607a-4d63-91aa-395bf0118b85",
   "metadata": {},
   "outputs": [],
   "source": [
    "total = 0\n",
    "num = 1\n",
    "while num <11:\n",
    "    total += num\n",
    "    num = num+1\n",
    "\n",
    "print(total)"
   ]
  },
  {
   "cell_type": "code",
   "execution_count": null,
   "id": "3fa9f285-908c-4533-92d8-227ffbb0739f",
   "metadata": {},
   "outputs": [],
   "source": [
    "for i in \"hello\":\n",
    "    print(i)\n",
    "\n",
    "for i in [1,2,3,]:\n",
    "    print(i)\n",
    "\n",
    "fruits = [\"apple\", 'banana']\n",
    "for i in fruits:\n",
    "    print(i)"
   ]
  },
  {
   "cell_type": "code",
   "execution_count": null,
   "id": "86cb8f79-9d30-4cfa-ac00-a1c14ecfcdc5",
   "metadata": {},
   "outputs": [],
   "source": [
    "student_grades={\"영수\":95, \"철수\":89,\"순희\":78}\n",
    "for i in student_grades:\n",
    "    print(i, student__grades[i])\n",
    "for i in student_grades.values():\n",
    "    print(i)\n",
    "for i,j in student_grades.items():\n",
    "    print(i,j)"
   ]
  },
  {
   "cell_type": "code",
   "execution_count": null,
   "id": "f289bada-09d0-447d-ba16-5f1e05bfe215",
   "metadata": {},
   "outputs": [],
   "source": [
    "for i in range(10):\n",
    "    print(i)\n",
    "for i in range(0,10):\n",
    "    print(i)\n",
    "for i in range(0,10,1):\n",
    "    print(i)"
   ]
  },
  {
   "cell_type": "code",
   "execution_count": 1,
   "id": "e2dd00df-f10a-431b-9668-31eb867a31a5",
   "metadata": {},
   "outputs": [
    {
     "name": "stdout",
     "output_type": "stream",
     "text": [
      "55\n"
     ]
    }
   ],
   "source": [
    "total = 0\n",
    "for i in range(1,11):\n",
    "    total += i\n",
    "print(total)"
   ]
  },
  {
   "cell_type": "code",
   "execution_count": 9,
   "id": "6d91af85-8325-4604-9540-1506cc1f7e56",
   "metadata": {},
   "outputs": [
    {
     "name": "stdout",
     "output_type": "stream",
     "text": [
      "0\n",
      "1\n",
      "2\n",
      "3\n",
      "4\n"
     ]
    }
   ],
   "source": [
    "for i in range(0, 10):\n",
    "    if i == 5:\n",
    "        break\n",
    "    print(i)"
   ]
  },
  {
   "cell_type": "code",
   "execution_count": null,
   "id": "536e3891-b4aa-4fd7-b171-2d298d1a1e9b",
   "metadata": {},
   "outputs": [],
   "source": [
    "for i in range(0, 10):\n",
    "    if i == 5:\n",
    "        continue\n",
    "    print(i)"
   ]
  },
  {
   "cell_type": "code",
   "execution_count": null,
   "id": "b68fd440-de80-4397-8722-99a3c1c2349d",
   "metadata": {},
   "outputs": [],
   "source": [
    "print(\"간단한 369게임 시작하기\")\n",
    "for i in range(1, 21):\n",
    "    if i % 3 == 0:\n",
    "        print(\"짝\", end=\" \")\n",
    "    else\n",
    "        print(i, end=\" \")"
   ]
  },
  {
   "cell_type": "code",
   "execution_count": null,
   "id": "b1863741-b241-4dd8-847b-724f785b8899",
   "metadata": {},
   "outputs": [],
   "source": [
    "while True:\n",
    "    n = int(input('정수를 입력하세요(0 입력 시 종료):'))\n",
    "    if n == 0:\n",
    "        print(\"프로그램을 종료합니다.\")\n",
    "        break\n",
    "\n",
    "    elif n % 2 == 0:\n",
    "        print(f\"{n}은(는)짝수입니다.\")\n",
    "    else:\n",
    "        print(f\"{n}운(는) 홀수 입니다.\")"
   ]
  }
 ],
 "metadata": {
  "kernelspec": {
   "display_name": "Python 3 (ipykernel)",
   "language": "python",
   "name": "python3"
  },
  "language_info": {
   "codemirror_mode": {
    "name": "ipython",
    "version": 3
   },
   "file_extension": ".py",
   "mimetype": "text/x-python",
   "name": "python",
   "nbconvert_exporter": "python",
   "pygments_lexer": "ipython3",
   "version": "3.11.7"
  }
 },
 "nbformat": 4,
 "nbformat_minor": 5
}
