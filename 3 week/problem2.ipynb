{
 "cells": [
  {
   "cell_type": "code",
   "execution_count": 3,
   "id": "248f5d28-0fc5-4553-ac4b-d9f88f2b61f1",
   "metadata": {},
   "outputs": [
    {
     "name": "stdout",
     "output_type": "stream",
     "text": [
      "==== 오늘의 명언 ====\n",
      "\n",
      "항상 맑으면 사막이 된다\n"
     ]
    }
   ],
   "source": [
    "import random # 랜덤 라이브러리 추가\n",
    "saying = ['시도하지 않으면 아무것도 달라지지 않는다',\n",
    "          '할 수 없을 것 같은 일을 해라',\n",
    "          '항상 맑으면 사막이 된다',\n",
    "          '언제까지 계속되는 불행이란 없다'] # saying 배열 추가\n",
    "\n",
    "print('==== 오늘의 명언 ====') # 지정한 문구 출력\n",
    "print() # 공백 추가\n",
    "print(f'{random.choice(saying)}') # 랜덤 출력 "
   ]
  },
  {
   "cell_type": "code",
   "execution_count": 4,
   "id": "d8852974-d1f8-4b7f-8f2c-95102c4cd2a2",
   "metadata": {},
   "outputs": [
    {
     "name": "stdout",
     "output_type": "stream",
     "text": [
      "시도하지 않으면 아무것도 달라지지 않는다\n",
      "할 수 없을 것 같은 일을 해라\n",
      "항상 맑으면 사막이 된다\n",
      "언제까지 계속되는 불행이란 없다\n",
      "별은 바라보는 자에게 빛을 준다\n",
      "행복은 우리 자신에게 달렸다\n"
     ]
    }
   ],
   "source": [
    "saying.append('별은 바라보는 자에게 빛을 준다') # 명언 추가\n",
    "saying.append('행복은 우리 자신에게 달렸다') # 명언 추가\n",
    "\n",
    "for s in range(len(saying)): # for문에 saying 배열 추가\n",
    "    print(saying[s]) # saying 출력"
   ]
  },
  {
   "cell_type": "code",
   "execution_count": null,
   "id": "3138fbec-4ed0-473a-afb6-ef538efb022e",
   "metadata": {},
   "outputs": [],
   "source": []
  }
 ],
 "metadata": {
  "kernelspec": {
   "display_name": "Python 3 (ipykernel)",
   "language": "python",
   "name": "python3"
  },
  "language_info": {
   "codemirror_mode": {
    "name": "ipython",
    "version": 3
   },
   "file_extension": ".py",
   "mimetype": "text/x-python",
   "name": "python",
   "nbconvert_exporter": "python",
   "pygments_lexer": "ipython3",
   "version": "3.11.7"
  }
 },
 "nbformat": 4,
 "nbformat_minor": 5
}
