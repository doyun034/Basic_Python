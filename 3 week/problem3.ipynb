{
 "cells": [
  {
   "cell_type": "code",
   "execution_count": 1,
   "id": "a5b4a36e-798f-4e67-a6fc-adb7df3c8f29",
   "metadata": {},
   "outputs": [
    {
     "name": "stdout",
     "output_type": "stream",
     "text": [
      "=== 오늘의 추천곡 리스트 ===\n",
      "가수명: 임영웅\n",
      "가수명: 사랑은 늘 도망가\n"
     ]
    }
   ],
   "source": [
    "import random # 랜덤 라이브러리 추가\n",
    "\n",
    "singer = ['박재정', '우디', '성시경', '임영웅', '범진'] # singer 배열 추가\n",
    "songs = ['헤어지자 말해요', '사막에서 꽃을 피우듯', '너의 모든 순간', '사랑은 늘 도망가', '인사'] # songs 배열 추가\n",
    "\n",
    "select = random.choice(singer) # select 변수에 랜덤 singer 변수 지정\n",
    "index_no = singer.index(select) # index_no에 값 설정\n",
    "\n",
    "print(f'=== 오늘의 추천곡 리스트 ===') # 프린트문 출력\n",
    "print(f'가수명: {singer[index_no]}') # 인덱스 값 출력\n",
    "print(f'가수명: {songs[index_no]}') # 인덱스 값 출력"
   ]
  },
  {
   "cell_type": "code",
   "execution_count": 3,
   "id": "0603cfe1-04d8-4f99-9c67-1d613ff6dd33",
   "metadata": {},
   "outputs": [
    {
     "name": "stdout",
     "output_type": "stream",
     "text": [
      "[가수명]\t\t[곡명]\n",
      "----------------------------------------\n",
      "박재정\t\t헤어지자 말해요\n",
      "우디\t\t사막에서 꽃을 피우듯\n",
      "성시경\t\t너의 모든 순간\n",
      "임영웅\t\t사랑은 늘 도망가\n",
      "범진\t\t인사\n"
     ]
    }
   ],
   "source": [
    "print(f'[가수명]\\t\\t[곡명]') # 프린트문 출력\n",
    "print('-'*40) # 프린트문 출력\n",
    "for no in range(len(singer)): # for 문 사용해서 singer변수 지정\n",
    "    print(f'{singer[no]}\\t\\t{songs[no]}') # singer, songs 인덱스 값 출력 "
   ]
  },
  {
   "cell_type": "code",
   "execution_count": null,
   "id": "0cd35936-ae81-4b9e-b9a5-bc724d181bf5",
   "metadata": {},
   "outputs": [],
   "source": []
  }
 ],
 "metadata": {
  "kernelspec": {
   "display_name": "Python 3 (ipykernel)",
   "language": "python",
   "name": "python3"
  },
  "language_info": {
   "codemirror_mode": {
    "name": "ipython",
    "version": 3
   },
   "file_extension": ".py",
   "mimetype": "text/x-python",
   "name": "python",
   "nbconvert_exporter": "python",
   "pygments_lexer": "ipython3",
   "version": "3.11.7"
  }
 },
 "nbformat": 4,
 "nbformat_minor": 5
}
