{
 "cells": [
  {
   "cell_type": "code",
   "execution_count": 1,
   "id": "4f773e20-e274-4cc3-af24-e76a55c0786f",
   "metadata": {},
   "outputs": [
    {
     "name": "stdin",
     "output_type": "stream",
     "text": [
      "문자열 입력:  hava a nice day\n"
     ]
    }
   ],
   "source": [
    "s1 = input('문자열 입력: ') # s1 변수 생성"
   ]
  },
  {
   "cell_type": "code",
   "execution_count": 2,
   "id": "735f0f3e-d843-4cd2-b995-dd29541f1141",
   "metadata": {},
   "outputs": [],
   "source": [
    " s2 = s1 [-1 :: -1] # 슬라이싱 개념 활용"
   ]
  },
  {
   "cell_type": "code",
   "execution_count": 3,
   "id": "ea3d0ad0-502f-482d-9157-4f7ceb8b0329",
   "metadata": {},
   "outputs": [
    {
     "name": "stdout",
     "output_type": "stream",
     "text": [
      "입력된 문자열: hava a nice day\n"
     ]
    }
   ],
   "source": [
    "print(f'입력된 문자열: {s1}') # 역순 전 문자열"
   ]
  },
  {
   "cell_type": "code",
   "execution_count": 4,
   "id": "d9620b0c-8d2a-48d5-9259-7919232a3766",
   "metadata": {},
   "outputs": [
    {
     "name": "stdout",
     "output_type": "stream",
     "text": [
      "암호화된 문자열: yad ecin a avah\n"
     ]
    }
   ],
   "source": [
    "print(f'암호화된 문자열: {s2}') # 역순 후 문자열"
   ]
  }
 ],
 "metadata": {
  "kernelspec": {
   "display_name": "Python 3 (ipykernel)",
   "language": "python",
   "name": "python3"
  },
  "language_info": {
   "codemirror_mode": {
    "name": "ipython",
    "version": 3
   },
   "file_extension": ".py",
   "mimetype": "text/x-python",
   "name": "python",
   "nbconvert_exporter": "python",
   "pygments_lexer": "ipython3",
   "version": "3.11.7"
  }
 },
 "nbformat": 4,
 "nbformat_minor": 5
}
