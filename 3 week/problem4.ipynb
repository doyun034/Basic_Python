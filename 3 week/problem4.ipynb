{
 "cells": [
  {
   "cell_type": "code",
   "execution_count": 1,
   "id": "01c1a148-8e99-4465-942f-9ccb03fa43dd",
   "metadata": {},
   "outputs": [
    {
     "name": "stdin",
     "output_type": "stream",
     "text": [
      "성적을 입력하세요:  76\n",
      "성적을 입력하세요:  83\n",
      "성적을 입력하세요:  89\n"
     ]
    }
   ],
   "source": [
    "score1 = float(input('성적을 입력하세요: ')) # score1 변수 설정\n",
    "score2 = float(input('성적을 입력하세요: ')) # score2 변수 설정\n",
    "score3 = float(input('성적을 입력하세요: ')) # score3 변수 설정"
   ]
  },
  {
   "cell_type": "code",
   "execution_count": 3,
   "id": "e4ff3038-effd-4b58-88ee-5a05296915a0",
   "metadata": {},
   "outputs": [],
   "source": [
    "total = score1 + score2 + score3 #total 변수 서식을 지정"
   ]
  },
  {
   "cell_type": "code",
   "execution_count": 4,
   "id": "1dd99455-fc8e-4b0e-949c-2b54773089a4",
   "metadata": {},
   "outputs": [],
   "source": [
    "avg = total/3 # avg 변수의 서식을 지정"
   ]
  },
  {
   "cell_type": "code",
   "execution_count": 5,
   "id": "a07ae3c0-17cb-44a3-b2c6-97cd1e7b4a39",
   "metadata": {},
   "outputs": [
    {
     "name": "stdout",
     "output_type": "stream",
     "text": [
      "=== 평균 이하 성적 출력 ===\n",
      "평균 성적:  82.666667\n",
      "score1=76.0\n"
     ]
    }
   ],
   "source": [
    "print('=== 평균 이하 성적 출력 ===') # 프린트문 출력\n",
    "print(f'평균 성적: {avg: 2f}') # 평균값 출력\n",
    "if score1<avg: #점수가 평균보다 낮다면이라는 조건문 지정\n",
    "    print(f'score1={score1}') #score1 점수 출력\n",
    "\n",
    "if score2<avg: #점수가 평균보다 낮다면이라는 조건문 지정\n",
    "    print(f'score2={score2}') # score2 점수 출력\n",
    "\n",
    "if score3<avg: #점수가 평균보다 낮다면이라는 조건문 지정\n",
    "    print(f'score3={score3}') # score3 점수 출력"
   ]
  },
  {
   "cell_type": "code",
   "execution_count": null,
   "id": "d5997b79-4eed-4248-bab3-da123ef3860c",
   "metadata": {},
   "outputs": [],
   "source": []
  }
 ],
 "metadata": {
  "kernelspec": {
   "display_name": "Python 3 (ipykernel)",
   "language": "python",
   "name": "python3"
  },
  "language_info": {
   "codemirror_mode": {
    "name": "ipython",
    "version": 3
   },
   "file_extension": ".py",
   "mimetype": "text/x-python",
   "name": "python",
   "nbconvert_exporter": "python",
   "pygments_lexer": "ipython3",
   "version": "3.11.7"
  }
 },
 "nbformat": 4,
 "nbformat_minor": 5
}
