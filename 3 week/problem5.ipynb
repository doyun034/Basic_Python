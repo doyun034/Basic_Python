{
 "cells": [
  {
   "cell_type": "code",
   "execution_count": 1,
   "id": "795d413f-826b-4cfe-9ee7-eab14f46e058",
   "metadata": {},
   "outputs": [],
   "source": [
    "scores = [] # scores 배열 선언"
   ]
  },
  {
   "cell_type": "code",
   "execution_count": 2,
   "id": "583aba18-8580-4edd-8187-00e2d0e9c25b",
   "metadata": {},
   "outputs": [
    {
     "name": "stdin",
     "output_type": "stream",
     "text": [
      "성적을 입력하세요:  76\n",
      "성적을 입력하세요:  83\n",
      "성적을 입력하세요:  89\n"
     ]
    }
   ],
   "source": [
    "for st in range(3): #for문 3번 작동 설정\n",
    "    scores.append(float(input('성적을 입력하세요: '))) # 성적 입력"
   ]
  },
  {
   "cell_type": "code",
   "execution_count": 3,
   "id": "6b8cba52-237e-472f-8bfb-ceeadeee28af",
   "metadata": {},
   "outputs": [],
   "source": [
    "total = 0 # total 변수 0으로 초기화\n",
    "for st in range(3): # for문 3번 작동 설정\n",
    "    total = total + scores[st] # 값 출력"
   ]
  },
  {
   "cell_type": "code",
   "execution_count": 4,
   "id": "c8e94379-a39c-4fa5-89ae-55e09fab4bb6",
   "metadata": {},
   "outputs": [],
   "source": [
    "avg = total / 3 # avg 변수의 내용 지정"
   ]
  },
  {
   "cell_type": "code",
   "execution_count": 5,
   "id": "86f9c4cb-5d56-42a7-839b-0378638d32ea",
   "metadata": {},
   "outputs": [
    {
     "name": "stdout",
     "output_type": "stream",
     "text": [
      "=== 평균 이하 성적 출력 ===\n",
      "평균 성적:  82.666667\n",
      "scores[0] = 76.0\n"
     ]
    }
   ],
   "source": [
    "print('=== 평균 이하 성적 출력 ===') # 프린트문 출력\n",
    "print(f'평균 성적: {avg: 2f}') # 프린트문으로 평균값 출력\n",
    "for st in range(3): # for문 3번 작동 설정\n",
    "    if scores[st]<=avg: # 점수가 평균보다 작거나 같다면이라는 조건문 선언\n",
    "        print(f'scores[{st}] = {scores[st]}') # 점수값 출력"
   ]
  },
  {
   "cell_type": "code",
   "execution_count": null,
   "id": "4581a51d-f3bf-442d-9eec-12a957a8c346",
   "metadata": {},
   "outputs": [],
   "source": []
  }
 ],
 "metadata": {
  "kernelspec": {
   "display_name": "Python 3 (ipykernel)",
   "language": "python",
   "name": "python3"
  },
  "language_info": {
   "codemirror_mode": {
    "name": "ipython",
    "version": 3
   },
   "file_extension": ".py",
   "mimetype": "text/x-python",
   "name": "python",
   "nbconvert_exporter": "python",
   "pygments_lexer": "ipython3",
   "version": "3.11.7"
  }
 },
 "nbformat": 4,
 "nbformat_minor": 5
}
