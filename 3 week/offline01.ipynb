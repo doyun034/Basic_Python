{
 "cells": [
  {
   "cell_type": "code",
   "execution_count": 2,
   "id": "a7c40407-f983-4347-97b8-92f97e57314a",
   "metadata": {},
   "outputs": [],
   "source": [
    "empty = []\n",
    "empty = [1,2,3,4,5]\n",
    "empty = [\"hello\"]\n",
    "empty = [1, \"hello\"]"
   ]
  },
  {
   "cell_type": "code",
   "execution_count": 3,
   "id": "62086e57-c07a-410a-9f84-585ee94bda5e",
   "metadata": {},
   "outputs": [
    {
     "name": "stdout",
     "output_type": "stream",
     "text": [
      "사과\n",
      "['딸기', '메론', '배']\n"
     ]
    }
   ],
   "source": [
    "fruits = [\"딸기\", \"사과\", \"배\"]\n",
    "print(fruits[1])\n",
    "fruits[1]=\"메론\"\n",
    "print(fruits)"
   ]
  },
  {
   "cell_type": "code",
   "execution_count": 6,
   "id": "0565c96f-eef0-40fe-8c67-e7a489416c8e",
   "metadata": {},
   "outputs": [
    {
     "name": "stdout",
     "output_type": "stream",
     "text": [
      "사과\n",
      "좋아하는 과일:메론\n",
      "좋아하는 과일:배\n",
      "좋아하는 과일:['메론', '배']\n"
     ]
    }
   ],
   "source": [
    "fruits = [\"딸기\", \"사과\", \"배\"]\n",
    "print(fruits[1])\n",
    "fruits[1]=\"메론\"\n",
    "print(f'좋아하는 과일:{fruits[1]}')\n",
    "print(f'좋아하는 과일:{fruits[2]}')\n",
    "print(f'좋아하는 과일:{fruits[1:3]}') # 슬라이싱 기법"
   ]
  },
  {
   "cell_type": "code",
   "execution_count": 10,
   "id": "0bd0403c-a2a1-47b7-be8c-f4ab69ceb346",
   "metadata": {},
   "outputs": [
    {
     "name": "stdout",
     "output_type": "stream",
     "text": [
      "['딸기', '사과', '배', '감']\n",
      "['딸기', '딸기', '사과', '배', '감']\n",
      "['딸기', '딸기', '사과', '배', '감', '수박', '메론']\n"
     ]
    }
   ],
   "source": [
    "fruits = [\"딸기\", \"사과\", \"배\"]\n",
    "fruits.append(\"감\") # 맨 뒤에 추가\n",
    "print(fruits)\n",
    "fruits.insert(1, \"딸기\") # 지정한 위치에 추가\n",
    "print(fruits)\n",
    "fruits.extend([\"수박\", \"메론\"]) # 선택한 리스트 뒤에 값을 붙힘\n",
    "print(fruits)"
   ]
  },
  {
   "cell_type": "code",
   "execution_count": 18,
   "id": "8f5daa20-f75c-4b21-bb87-f4f58aa8a056",
   "metadata": {},
   "outputs": [],
   "source": [
    "fruits=['사과', '배', '포도', '귤', '감', '복숭아', '딸기']"
   ]
  },
  {
   "cell_type": "code",
   "execution_count": 19,
   "id": "86b72b5d-0e82-4d4a-a780-669211f2e5e0",
   "metadata": {},
   "outputs": [
    {
     "name": "stdout",
     "output_type": "stream",
     "text": [
      "['사과', '배', '포도', '귤', '감', '복숭아']\n"
     ]
    }
   ],
   "source": [
    "fruits.pop()\n",
    "print(fruits)"
   ]
  },
  {
   "cell_type": "code",
   "execution_count": 20,
   "id": "2368ed08-50d2-4d81-be59-9b1785786f77",
   "metadata": {},
   "outputs": [
    {
     "name": "stdout",
     "output_type": "stream",
     "text": [
      "['사과', '배', '귤', '감', '복숭아']\n"
     ]
    }
   ],
   "source": [
    "fruits.pop(2)\n",
    "print(fruits)"
   ]
  },
  {
   "cell_type": "code",
   "execution_count": 21,
   "id": "02d8568c-07be-4e86-b109-b495de85a979",
   "metadata": {},
   "outputs": [
    {
     "name": "stdout",
     "output_type": "stream",
     "text": [
      "['사과', '귤', '감', '복숭아']\n"
     ]
    }
   ],
   "source": [
    "fruits.remove('배')\n",
    "print(fruits) "
   ]
  },
  {
   "cell_type": "code",
   "execution_count": 22,
   "id": "93e8e592-87a8-43ce-96b7-93c2cef9c51e",
   "metadata": {},
   "outputs": [
    {
     "name": "stdout",
     "output_type": "stream",
     "text": [
      "[]\n"
     ]
    }
   ],
   "source": [
    "fruits.clear()\n",
    "print(fruits)"
   ]
  },
  {
   "cell_type": "code",
   "execution_count": 1,
   "id": "e69453b8-db7b-4527-a5ac-fd1b1cec77fd",
   "metadata": {},
   "outputs": [],
   "source": [
    "key=['파이썬', '자바', '인공지능', 'AI', '데이터', 'AI']"
   ]
  },
  {
   "cell_type": "code",
   "execution_count": 2,
   "id": "ecce2a3a-f8ff-4337-ad28-336bbe8c5c07",
   "metadata": {},
   "outputs": [
    {
     "name": "stdout",
     "output_type": "stream",
     "text": [
      "3\n"
     ]
    }
   ],
   "source": [
    "print(key.index('AI'))"
   ]
  },
  {
   "cell_type": "code",
   "execution_count": 3,
   "id": "46629b1c-9599-4453-9035-25cc4797cc26",
   "metadata": {},
   "outputs": [
    {
     "name": "stdout",
     "output_type": "stream",
     "text": [
      "2\n"
     ]
    }
   ],
   "source": [
    "print(key.count('AI'))"
   ]
  },
  {
   "cell_type": "code",
   "execution_count": 28,
   "id": "5378a2f8-7c8e-4819-bdc8-f19143c105d8",
   "metadata": {},
   "outputs": [],
   "source": [
    "word='여러분은 현재 AI시대를 경험하고 있습니다!'"
   ]
  },
  {
   "cell_type": "code",
   "execution_count": 29,
   "id": "384c1fd7-ec3f-48ff-abd4-3561e595b9f4",
   "metadata": {},
   "outputs": [
    {
     "name": "stdout",
     "output_type": "stream",
     "text": [
      "AI시대\n"
     ]
    }
   ],
   "source": [
    "print(word[word.find('AI'):12])"
   ]
  },
  {
   "cell_type": "code",
   "execution_count": null,
   "id": "ba402bcf-e6a2-4361-ba36-000a6166bb1c",
   "metadata": {},
   "outputs": [],
   "source": []
  }
 ],
 "metadata": {
  "kernelspec": {
   "display_name": "Python 3 (ipykernel)",
   "language": "python",
   "name": "python3"
  },
  "language_info": {
   "codemirror_mode": {
    "name": "ipython",
    "version": 3
   },
   "file_extension": ".py",
   "mimetype": "text/x-python",
   "name": "python",
   "nbconvert_exporter": "python",
   "pygments_lexer": "ipython3",
   "version": "3.11.7"
  }
 },
 "nbformat": 4,
 "nbformat_minor": 5
}
