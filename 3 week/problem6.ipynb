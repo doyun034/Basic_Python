{
 "cells": [
  {
   "cell_type": "code",
   "execution_count": 1,
   "id": "cf4b5adf-099c-48c9-900a-a8e8f434c212",
   "metadata": {},
   "outputs": [
    {
     "name": "stdin",
     "output_type": "stream",
     "text": [
      "성적을 입력할 총 학생수:  5\n",
      "학생의 이름을 입력하세요 kim\n",
      "학생의 성적을 입력하세요:  92\n",
      "학생의 이름을 입력하세요 lee\n",
      "학생의 성적을 입력하세요:  85\n",
      "학생의 이름을 입력하세요 jung\n",
      "학생의 성적을 입력하세요:  100\n",
      "학생의 이름을 입력하세요 ku\n",
      "학생의 성적을 입력하세요:  75\n",
      "학생의 이름을 입력하세요 yoon\n",
      "학생의 성적을 입력하세요:  67\n"
     ]
    }
   ],
   "source": [
    "st = int(input('성적을 입력할 총 학생수: ')) #st 변수 설정\n",
    "\n",
    "names=[] # names 배열 설정\n",
    "scores=[] # scores 배열 설정\n",
    "\n",
    "for count in range(st): # for문 설정\n",
    "    names.append(input('학생의 이름을 입력하세요')) # names 변수 입력\n",
    "    scores.append(float(input('학생의 성적을 입력하세요: '))) # scores 변수 입력"
   ]
  },
  {
   "cell_type": "code",
   "execution_count": 2,
   "id": "85f0f5bc-a50e-4eaa-862a-872a963ef45b",
   "metadata": {},
   "outputs": [],
   "source": [
    "total = 0 # total 변수 0으로 초기화\n",
    "for count in range(st): # for문 걸정\n",
    "    total = total+scores[count] #total 변수에 저장"
   ]
  },
  {
   "cell_type": "code",
   "execution_count": 3,
   "id": "66d41675-6651-4376-94e7-d826778671c0",
   "metadata": {},
   "outputs": [],
   "source": [
    "avg = total/len(names) # avg 변수에 저장"
   ]
  },
  {
   "cell_type": "code",
   "execution_count": 4,
   "id": "80d74806-1765-4efd-bd1e-115e2e6af779",
   "metadata": {},
   "outputs": [
    {
     "name": "stdout",
     "output_type": "stream",
     "text": [
      "=== 모든 학생의 성적 출력하기 ===\n",
      "kim:\t92.0\n",
      "lee:\t85.0\n",
      "jung:\t100.0\n",
      "ku:\t75.0\n",
      "yoon:\t67.0\n"
     ]
    }
   ],
   "source": [
    "print('=== 모든 학생의 성적 출력하기 ===') # 프린트문 출력\n",
    "for count in range(st): # for문 설정\n",
    "    print(f'{names[count]}:\\t{scores[count]}') # 이름과 성적 출력"
   ]
  },
  {
   "cell_type": "code",
   "execution_count": 7,
   "id": "e5f9b44d-6412-4602-b2a5-8fa1fb262fa6",
   "metadata": {},
   "outputs": [
    {
     "name": "stdout",
     "output_type": "stream",
     "text": [
      "=== 평균 이상 성적 출력 ===\n",
      "평균 성적:  83.800000\n",
      "scores[0]=92.0\n",
      "scores[1]=85.0\n",
      "scores[2]=100.0\n"
     ]
    }
   ],
   "source": [
    "print('=== 평균 이상 성적 출력 ===') # 프린트문 출력\n",
    "print(f'평균 성적: {avg: 2f}') # 평균 성적 출력\n",
    "for count in range(st): # for문 설정\n",
    "    if scores[count]>=avg: # 점수가 평균보다 크거나 같으면이라는 조건문 설정\n",
    "      print(f'scores[{count}]={scores[count]}') # 성적 출력"
   ]
  },
  {
   "cell_type": "code",
   "execution_count": null,
   "id": "a54bbe1c-e7a9-4a51-9e39-620cef5b2485",
   "metadata": {},
   "outputs": [],
   "source": []
  }
 ],
 "metadata": {
  "kernelspec": {
   "display_name": "Python 3 (ipykernel)",
   "language": "python",
   "name": "python3"
  },
  "language_info": {
   "codemirror_mode": {
    "name": "ipython",
    "version": 3
   },
   "file_extension": ".py",
   "mimetype": "text/x-python",
   "name": "python",
   "nbconvert_exporter": "python",
   "pygments_lexer": "ipython3",
   "version": "3.11.7"
  }
 },
 "nbformat": 4,
 "nbformat_minor": 5
}
