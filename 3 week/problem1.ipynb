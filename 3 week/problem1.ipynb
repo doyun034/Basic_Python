{
 "cells": [
  {
   "cell_type": "code",
   "execution_count": 16,
   "id": "6d57fb5d-07db-412d-afb4-70a2f6b3244b",
   "metadata": {},
   "outputs": [
    {
     "name": "stdout",
     "output_type": "stream",
     "text": [
      "오늘 추천식: 중식\n"
     ]
    }
   ],
   "source": [
    "import random # 랜덤 라이브러리 추가\n",
    "f_kinds=['한식', '양식', '일식', '중식', '태국음식'] # f_kinds 배열 선언\n",
    "print(f'오늘 추천식: {random.choice(f_kinds)}') # 랜덤 출력"
   ]
  },
  {
   "cell_type": "code",
   "execution_count": 18,
   "id": "4b43b6af-47fc-4e1d-ac85-b7b83ad06435",
   "metadata": {},
   "outputs": [
    {
     "name": "stdout",
     "output_type": "stream",
     "text": [
      "오늘 점심 메뉴 추천: 쌀국수\n"
     ]
    }
   ],
   "source": [
    "foods=['스테이크', '돈가스', '갈비찜', '팔보채', '탕수역', '김치찜', '쌀국수', '회덮밥'] # foods 배열 선언\n",
    "print(f'오늘 점심 메뉴 추천: {random.choice(foods)}') # 랜덤 출력"
   ]
  },
  {
   "cell_type": "code",
   "execution_count": null,
   "id": "ad954b0f-5c51-4047-8bb1-ebaed9fa6b54",
   "metadata": {},
   "outputs": [],
   "source": []
  }
 ],
 "metadata": {
  "kernelspec": {
   "display_name": "Python 3 (ipykernel)",
   "language": "python",
   "name": "python3"
  },
  "language_info": {
   "codemirror_mode": {
    "name": "ipython",
    "version": 3
   },
   "file_extension": ".py",
   "mimetype": "text/x-python",
   "name": "python",
   "nbconvert_exporter": "python",
   "pygments_lexer": "ipython3",
   "version": "3.11.7"
  }
 },
 "nbformat": 4,
 "nbformat_minor": 5
}
