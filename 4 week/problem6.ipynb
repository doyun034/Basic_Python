{
 "cells": [
  {
   "cell_type": "code",
   "execution_count": 3,
   "id": "0d77c5e9-75a3-4bd1-8628-ccd8b2b41a53",
   "metadata": {},
   "outputs": [
    {
     "name": "stdin",
     "output_type": "stream",
     "text": [
      "성적을 입력할 총 학생수:  5\n",
      "학생명을 입력하세요:  kim\n",
      "성적을 입력하세요:  92\n",
      "학생명을 입력하세요:  lee\n",
      "성적을 입력하세요:  85\n",
      "학생명을 입력하세요:  jung\n",
      "성적을 입력하세요:  100\n",
      "학생명을 입력하세요:  ku\n",
      "성적을 입력하세요:  75\n",
      "학생명을 입력하세요:  toon\n",
      "성적을 입력하세요:  67\n"
     ]
    }
   ],
   "source": [
    "st= int(input('성적을 입력할 총 학생수: ')) # st 변수 선언\n",
    "students=dict() # 딕셔너리에 students 변수 대입\n",
    "\n",
    "for count in range(st): # for문 동작\n",
    "    st_name=input('학생명을 입력하세요: ') # st_name 변수 입력\n",
    "    score=int(input('성적을 입력하세요: ')) # score 변수 입력\n",
    "\n",
    "    students[st_name] = score # score 변수를 students 배열에 저장"
   ]
  },
  {
   "cell_type": "code",
   "execution_count": 4,
   "id": "61ddcdeb-6f5f-4975-9e81-9d8c28d02291",
   "metadata": {},
   "outputs": [
    {
     "name": "stdout",
     "output_type": "stream",
     "text": [
      "=== 모든 학생의 성적 출력하기 ===\n",
      "kim\t92\n",
      "lee\t85\n",
      "jung\t100\n",
      "ku\t75\n",
      "toon\t67\n"
     ]
    }
   ],
   "source": [
    "print('=== 모든 학생의 성적 출력하기 ===') # 프린트문 출력\n",
    "for name in list(students.keys()): # for문 동작\n",
    "    print(f'{name}\\t{students[name]}') # 학생 성적 출력"
   ]
  },
  {
   "cell_type": "code",
   "execution_count": 5,
   "id": "7a704b8d-dfe9-4993-9d99-7e130a6e153a",
   "metadata": {},
   "outputs": [],
   "source": [
    "avg=sum(list(students.values())) / st # avg 변수 계산값 지정"
   ]
  },
  {
   "cell_type": "code",
   "execution_count": 7,
   "id": "e9bd7901-52d0-4fd4-aea5-4ba2c05d0656",
   "metadata": {},
   "outputs": [
    {
     "name": "stdout",
     "output_type": "stream",
     "text": [
      "=== 평균 이상 성적 출력 ===\n",
      "평균 성적:  83.80\n",
      "kim\t92\n",
      "lee\t85\n",
      "jung\t100\n"
     ]
    }
   ],
   "source": [
    "print('=== 평균 이상 성적 출력 ===') # 프린트문 출력\n",
    "print(f'평균 성적: {avg: .2f}') # 프린트문 출력\n",
    "\n",
    "for name in list(students.keys()): # for 문 동작\n",
    "    if(students[name]>=avg): # 조건문 설정\n",
    "        print(f'{name}\\t{students[name]}') # 프린트문 동작\n"
   ]
  },
  {
   "cell_type": "code",
   "execution_count": null,
   "id": "aca0f426-f99d-428d-b5ea-ed58c5824689",
   "metadata": {},
   "outputs": [],
   "source": []
  },
  {
   "cell_type": "code",
   "execution_count": null,
   "id": "d6ab2f30-e056-4888-af12-bcbb87118a24",
   "metadata": {},
   "outputs": [],
   "source": []
  },
  {
   "cell_type": "code",
   "execution_count": null,
   "id": "937f9e96-7e71-4642-9080-4196e9078572",
   "metadata": {},
   "outputs": [],
   "source": []
  },
  {
   "cell_type": "code",
   "execution_count": null,
   "id": "d4315d4d-9c0d-4b1f-acc7-e83e315e97a5",
   "metadata": {},
   "outputs": [],
   "source": []
  },
  {
   "cell_type": "code",
   "execution_count": null,
   "id": "bcc3a3b3-fb23-4134-b988-7213fa893cbf",
   "metadata": {},
   "outputs": [],
   "source": []
  }
 ],
 "metadata": {
  "kernelspec": {
   "display_name": "Python 3 (ipykernel)",
   "language": "python",
   "name": "python3"
  },
  "language_info": {
   "codemirror_mode": {
    "name": "ipython",
    "version": 3
   },
   "file_extension": ".py",
   "mimetype": "text/x-python",
   "name": "python",
   "nbconvert_exporter": "python",
   "pygments_lexer": "ipython3",
   "version": "3.11.7"
  }
 },
 "nbformat": 4,
 "nbformat_minor": 5
}
