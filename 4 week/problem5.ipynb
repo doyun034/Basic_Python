{
 "cells": [
  {
   "cell_type": "code",
   "execution_count": 8,
   "id": "7e25b421-b74b-42ed-a265-53306c7bc4e2",
   "metadata": {},
   "outputs": [
    {
     "name": "stdout",
     "output_type": "stream",
     "text": [
      "Requirement already satisfied: pygame in c:\\users\\ehdbs\\anaconda3\\lib\\site-packages (2.6.0)\n",
      "Note: you may need to restart the kernel to use updated packages.\n"
     ]
    }
   ],
   "source": [
    "pip install pygame"
   ]
  },
  {
   "cell_type": "code",
   "execution_count": 9,
   "id": "b8189130-5465-4369-9052-4038bcfb46aa",
   "metadata": {},
   "outputs": [],
   "source": [
    "import pygame # random 라이브러리 주입"
   ]
  },
  {
   "cell_type": "code",
   "execution_count": 10,
   "id": "db439285-5241-4863-b4b9-fd7fd1e2c82d",
   "metadata": {},
   "outputs": [],
   "source": [
    "import random # random 라이브러리 주입"
   ]
  },
  {
   "cell_type": "code",
   "execution_count": 11,
   "id": "04d23c6e-da9e-4418-b543-2dcaa77025e7",
   "metadata": {},
   "outputs": [],
   "source": [
    "songs = {'박재정': '우리 헤어지자 말해요', \n",
    "         '우디' : '사막에서 꽃을 피우듯', \n",
    "         '성시경' : '너의 모든 순간', \n",
    "         '임영웅' : '사랑은 늘 도망가',\n",
    "         '범진' : '인사'} #songs 변수 선언"
   ]
  },
  {
   "cell_type": "code",
   "execution_count": 12,
   "id": "12d46d3f-8b0a-4535-9777-a86793953cea",
   "metadata": {},
   "outputs": [],
   "source": [
    "playlist = {'박재정' : 'Park.mp3',\n",
    "            '우디':'Woody.mp3',\n",
    "            '성시경':'Sung.mp3',\n",
    "            '임영웅':'IYW.mp3',\n",
    "            '범진':'BJ.mp3'} # playlist 배열 선언"
   ]
  },
  {
   "cell_type": "code",
   "execution_count": 13,
   "id": "532b4475-acea-49bf-9a20-91eb1eee5d79",
   "metadata": {},
   "outputs": [
    {
     "name": "stdout",
     "output_type": "stream",
     "text": [
      "=== 오늘의 추천곡 리스트 ==\n",
      "가수명 : 우리 헤어지자 말해요\n",
      "추천곡 : Park.mp3\n"
     ]
    }
   ],
   "source": [
    "select = random.choice(list(songs.keys()))\n",
    "\n",
    "print(f'=== 오늘의 추천곡 리스트 ==')\n",
    "print(f'가수명 : {songs[select]}')\n",
    "print(f'추천곡 : {playlist[select]}')"
   ]
  },
  {
   "cell_type": "code",
   "execution_count": 16,
   "id": "2834da48-0047-4793-a3ba-132cf09d33ba",
   "metadata": {},
   "outputs": [],
   "source": [
    "pygame.init() #pygame 실행 시작\n",
    "pygame.mixer.music.load(playlist[select]) # 추천곡 시작\n",
    "pygame.mixer.music.play(-1) # 무한 재생"
   ]
  },
  {
   "cell_type": "code",
   "execution_count": 17,
   "id": "0108c9b3-e439-45c2-bfc9-cfb03bea7554",
   "metadata": {},
   "outputs": [],
   "source": [
    "pygame.mixer.music.stop() # 실행 중지"
   ]
  },
  {
   "cell_type": "code",
   "execution_count": null,
   "id": "b5ea9222-b2b2-45bd-a278-177a3db823ba",
   "metadata": {},
   "outputs": [],
   "source": []
  },
  {
   "cell_type": "code",
   "execution_count": null,
   "id": "56c7c0b4-4e0b-4024-af39-3319217539bd",
   "metadata": {},
   "outputs": [],
   "source": []
  }
 ],
 "metadata": {
  "kernelspec": {
   "display_name": "Python 3 (ipykernel)",
   "language": "python",
   "name": "python3"
  },
  "language_info": {
   "codemirror_mode": {
    "name": "ipython",
    "version": 3
   },
   "file_extension": ".py",
   "mimetype": "text/x-python",
   "name": "python",
   "nbconvert_exporter": "python",
   "pygments_lexer": "ipython3",
   "version": "3.11.7"
  }
 },
 "nbformat": 4,
 "nbformat_minor": 5
}
