{
 "cells": [
  {
   "cell_type": "code",
   "execution_count": 13,
   "id": "b54ba00e-5e59-4528-a24d-313b8f83a23d",
   "metadata": {},
   "outputs": [],
   "source": [
    "# 주어진 문장\n",
    "sentence = \"An operation system is system software that manages computer hardware, software resources, and provides common service for computer programs.\""
   ]
  },
  {
   "cell_type": "code",
   "execution_count": 14,
   "id": "3d3e11f9-3868-44cd-98b7-6748ac7f4b76",
   "metadata": {},
   "outputs": [],
   "source": [
    "# 1. 입력된 문장을 모두 소문자로 변경\n",
    "sentence = sentence.lower()"
   ]
  },
  {
   "cell_type": "code",
   "execution_count": 15,
   "id": "251e363b-9004-4d9a-8cac-d177d7c06039",
   "metadata": {},
   "outputs": [
    {
     "name": "stdout",
     "output_type": "stream",
     "text": [
      "단어 리스트: ['an', 'operation', 'system', 'is', 'system', 'software', 'that', 'manages', 'computer', 'hardware,', 'software', 'resources,', 'and', 'provides', 'common', 'service', 'for', 'computer', 'programs.']\n"
     ]
    }
   ],
   "source": [
    "# 2. 문자열을 split() 메서드를 활용하여 단어 분리\n",
    "words = sentence.split()\n",
    "print(f'단어 리스트: {words}')"
   ]
  },
  {
   "cell_type": "code",
   "execution_count": 16,
   "id": "5ccaae93-75df-435e-a33a-3bcb4c3ae8b5",
   "metadata": {},
   "outputs": [],
   "source": [
    "# 3. 빈 딕셔너리 counts 생성\n",
    "counts = {}\n"
   ]
  },
  {
   "cell_type": "code",
   "execution_count": 17,
   "id": "af8c1f60-a920-490a-8da0-ccb7f3d0692f",
   "metadata": {},
   "outputs": [],
   "source": [
    "# 4. 각 단어가 딕셔너리에 이미 있는지 검사\n",
    "for w in words:\n",
    "    # 5. 단어가 존재한다면 그 단어의 빈도수를 1만큼 증가, 재저장\n",
    "    if w in counts:\n",
    "        counts[w] += 1\n",
    "    # 6. 단어가 존재하지 않는다면 딕셔너리에 새롭게 등록, 초기값으로 1 저장\n",
    "    else:\n",
    "        counts[w] = 1"
   ]
  },
  {
   "cell_type": "code",
   "execution_count": 18,
   "id": "6f00fca7-19c7-4b17-a7b1-cee861894d35",
   "metadata": {},
   "outputs": [
    {
     "name": "stdout",
     "output_type": "stream",
     "text": [
      "딕셔너리 저장 내용 : \n",
      "{'an': 1, 'operation': 1, 'system': 2, 'is': 1, 'software': 2, 'that': 1, 'manages': 1, 'computer': 2, 'hardware,': 1, 'resources,': 1, 'and': 1, 'provides': 1, 'common': 1, 'service': 1, 'for': 1, 'programs.': 1}\n"
     ]
    }
   ],
   "source": [
    "# 결과 출력\n",
    "print(f'딕셔너리 저장 내용 : \\n{counts}')"
   ]
  }
 ],
 "metadata": {
  "kernelspec": {
   "display_name": "Python 3 (ipykernel)",
   "language": "python",
   "name": "python3"
  },
  "language_info": {
   "codemirror_mode": {
    "name": "ipython",
    "version": 3
   },
   "file_extension": ".py",
   "mimetype": "text/x-python",
   "name": "python",
   "nbconvert_exporter": "python",
   "pygments_lexer": "ipython3",
   "version": "3.11.7"
  }
 },
 "nbformat": 4,
 "nbformat_minor": 5
}
