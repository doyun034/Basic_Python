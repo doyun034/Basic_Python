{
 "cells": [
  {
   "cell_type": "code",
   "execution_count": 1,
   "id": "28f13006-fee2-4a7b-b065-10ef9bacac37",
   "metadata": {},
   "outputs": [],
   "source": [
    "import random # 랜덤 라이브러리 추가"
   ]
  },
  {
   "cell_type": "code",
   "execution_count": 2,
   "id": "cc3d692b-030c-43d4-af9b-e07134aaa19d",
   "metadata": {},
   "outputs": [],
   "source": [
    "songs = {'박재정': '우리 헤어지자 말해요', \n",
    "         '우디' : '사막에서 꽃을 피우듯', \n",
    "         '성시경' : '너의 모든 순간', \n",
    "         '임영웅' : '사랑은 늘 도망가',\n",
    "         '범진' : '인사'} #songs 변수 선언"
   ]
  },
  {
   "cell_type": "code",
   "execution_count": 3,
   "id": "89e3ea6c-6d41-4635-8dd1-f7fd6edee7ed",
   "metadata": {},
   "outputs": [],
   "source": [
    "songs_key = list(songs.keys()) # key값 저장\n",
    "recommend = random.choice(songs_key) # 저장한 key값 출력"
   ]
  },
  {
   "cell_type": "code",
   "execution_count": 4,
   "id": "68ae24fb-245a-4677-9047-a1a471e7b6cf",
   "metadata": {},
   "outputs": [
    {
     "name": "stdout",
     "output_type": "stream",
     "text": [
      "=== 오늘의 추천곡 리스트 ===\n",
      "가수명: 범진\n",
      "추천곡: 인사\n"
     ]
    }
   ],
   "source": [
    "print(f'=== 오늘의 추천곡 리스트 ===') # 프린트문 작성\n",
    "print(f'가수명: {recommend}') # 가수 출력\n",
    "print(f'추천곡: {songs[recommend]}') # 노래 출력"
   ]
  },
  {
   "cell_type": "code",
   "execution_count": null,
   "id": "8d96aa6b-5773-4eb6-920b-47d58852c733",
   "metadata": {},
   "outputs": [],
   "source": []
  }
 ],
 "metadata": {
  "kernelspec": {
   "display_name": "Python 3 (ipykernel)",
   "language": "python",
   "name": "python3"
  },
  "language_info": {
   "codemirror_mode": {
    "name": "ipython",
    "version": 3
   },
   "file_extension": ".py",
   "mimetype": "text/x-python",
   "name": "python",
   "nbconvert_exporter": "python",
   "pygments_lexer": "ipython3",
   "version": "3.11.7"
  }
 },
 "nbformat": 4,
 "nbformat_minor": 5
}
