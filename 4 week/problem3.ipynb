{
 "cells": [
  {
   "cell_type": "code",
   "execution_count": 8,
   "id": "22af8d9f-24aa-4101-8f02-c1b535020373",
   "metadata": {},
   "outputs": [],
   "source": [
    "import random # 랜덤 라이브러리 추가"
   ]
  },
  {
   "cell_type": "code",
   "execution_count": 9,
   "id": "7b65c3f2-75b1-45c7-bdca-7f862f7a3acb",
   "metadata": {},
   "outputs": [],
   "source": [
    "songs = {'박재정': '우리 헤어지자 말해요', \n",
    "         '우디' : '사막에서 꽃을 피우듯', \n",
    "         '성시경' : '너의 모든 순간', \n",
    "         '임영웅' : '사랑은 늘 도망가',\n",
    "         '범진' : '인사'} #songs 변수 선언"
   ]
  },
  {
   "cell_type": "code",
   "execution_count": 10,
   "id": "14c9d062-fcde-40f6-880d-f263f99c7a5a",
   "metadata": {},
   "outputs": [],
   "source": [
    "songs_key = list(songs.keys()) # key값 저장\n",
    "recommend = random.choice(songs_key) # 저장한 key값 출력"
   ]
  },
  {
   "cell_type": "code",
   "execution_count": 11,
   "id": "fdae67bc-6cb6-4d4d-9e58-1da29e50e36b",
   "metadata": {},
   "outputs": [
    {
     "name": "stdin",
     "output_type": "stream",
     "text": [
      "가수명을 입력하세요:  멜로망스\n",
      "곡명을 입력하세요:  사랑인가봐\n",
      "가수명을 입력하세요:  EXO\n",
      "곡명을 입력하세요:  첫 눈\n"
     ]
    }
   ],
   "source": [
    "for a in range(2): # for문 2번 작동\n",
    "    singer=input('가수명을 입력하세요: ') # singer 입력\n",
    "    song=input('곡명을 입력하세요: ') # song 입력\n",
    "\n",
    "    songs[singer]=song # song 값을 songs에 대입"
   ]
  },
  {
   "cell_type": "code",
   "execution_count": 12,
   "id": "80758d3b-0dba-4633-b7c4-15e745416400",
   "metadata": {},
   "outputs": [
    {
     "name": "stdout",
     "output_type": "stream",
     "text": [
      "[가수명\t\t[곡명]\n",
      "------------------------------\n",
      "박재정\t\t우리 헤어지자 말해요\n",
      "우디\t\t사막에서 꽃을 피우듯\n",
      "성시경\t\t너의 모든 순간\n",
      "임영웅\t\t사랑은 늘 도망가\n",
      "범진\t\t인사\n",
      "멜로망스\t\t사랑인가봐\n",
      "EXO\t\t첫 눈\n"
     ]
    }
   ],
   "source": [
    "print(f'[가수명\\t\\t[곡명]') # 프린트문 출력\n",
    "print('-'*30) # 프린트문 출력\n",
    "for s in list(songs.keys()): # for문 작동\n",
    "    print(f'{s}\\t\\t{songs[s]}') # sing, songs 출력"
   ]
  },
  {
   "cell_type": "code",
   "execution_count": null,
   "id": "fbf3f536-98da-4bda-8120-0bbaec214b64",
   "metadata": {},
   "outputs": [],
   "source": []
  },
  {
   "cell_type": "code",
   "execution_count": 13,
   "id": "9a129f70-8f54-48d7-8836-8f85e9ff2677",
   "metadata": {},
   "outputs": [],
   "source": [
    "del songs['박재정'] # del 변수 설정\n",
    "del songs['우디'] # del 변수 설정"
   ]
  },
  {
   "cell_type": "code",
   "execution_count": 14,
   "id": "041888c0-920a-4ab4-aebe-19a45e55add9",
   "metadata": {},
   "outputs": [
    {
     "name": "stdout",
     "output_type": "stream",
     "text": [
      "[가수명]\t\t[곡명]\n",
      "------------------------------\n",
      "성시경\t\t너의 모든 순간\n",
      "임영웅\t\t사랑은 늘 도망가\n",
      "범진\t\t인사\n",
      "멜로망스\t\t사랑인가봐\n",
      "EXO\t\t첫 눈\n"
     ]
    }
   ],
   "source": [
    "print(f'[가수명]\\t\\t[곡명]') # 프린트문 출력\n",
    "print('-'*30) # 프린트문 출력\n",
    "for s in list(songs.keys()): # for문 작동\n",
    "    print(f'{s}\\t\\t{songs[s]}') # 가수, 곡 출력"
   ]
  },
  {
   "cell_type": "code",
   "execution_count": 15,
   "id": "33ee3c42-a20a-4aef-9fcb-ce56a2c6ab34",
   "metadata": {},
   "outputs": [],
   "source": [
    "songs.clear() # 모든 변수에 저장된 객체 삭제"
   ]
  },
  {
   "cell_type": "code",
   "execution_count": 16,
   "id": "5d1d5d9d-925a-4994-b78b-9eb1fef901ef",
   "metadata": {},
   "outputs": [
    {
     "name": "stdout",
     "output_type": "stream",
     "text": [
      "[가수명]\t\t[곡명]\n",
      "------------------------------\n"
     ]
    }
   ],
   "source": [
    "print(f'[가수명]\\t\\t[곡명]') # 프린트문 출력\n",
    "print('-'*30) # 프린트문 출력\n",
    "for s in list(songs.keys()): # for문 작동\n",
    "    print(f'{s}\\t\\t{songs[s]}') # 가수명, 곡명 출력"
   ]
  },
  {
   "cell_type": "code",
   "execution_count": null,
   "id": "a5eaaddc-06b9-4bac-a68e-5c0d8bc81781",
   "metadata": {},
   "outputs": [],
   "source": []
  }
 ],
 "metadata": {
  "kernelspec": {
   "display_name": "Python 3 (ipykernel)",
   "language": "python",
   "name": "python3"
  },
  "language_info": {
   "codemirror_mode": {
    "name": "ipython",
    "version": 3
   },
   "file_extension": ".py",
   "mimetype": "text/x-python",
   "name": "python",
   "nbconvert_exporter": "python",
   "pygments_lexer": "ipython3",
   "version": "3.11.7"
  }
 },
 "nbformat": 4,
 "nbformat_minor": 5
}
