{
 "cells": [
  {
   "cell_type": "code",
   "execution_count": 2,
   "id": "8ad317f5-5784-481a-8404-977a4bedd8cc",
   "metadata": {},
   "outputs": [
    {
     "name": "stdout",
     "output_type": "stream",
     "text": [
      "나의 키는 165.0cm입니다\n",
      "5*4=20\n",
      "나는 한성대학교의 학생입니다\n",
      "대한민국의 수도는 서울입니다\n"
     ]
    }
   ],
   "source": [
    "print('나의 키는 %.1fcm입니다' %165)\n",
    "print(\"5*4=%d\" %(5*4))\n",
    "print('나는 %s의 학생입니다' %('한성대학교'))\n",
    "print('%s의 수도는 %s입니다' %('대한민국','서울'))"
   ]
  },
  {
   "cell_type": "code",
   "execution_count": 3,
   "id": "c8b9f231-19c4-4f9d-bedc-7d97224cfe4b",
   "metadata": {},
   "outputs": [
    {
     "name": "stdout",
     "output_type": "stream",
     "text": [
      "x=20, y=10\n"
     ]
    }
   ],
   "source": [
    "x = 10\n",
    "y = 20\n",
    "\n",
    "(x,y)=(y,x)\n",
    "\n",
    "print(f'x={x}, y={y}')"
   ]
  },
  {
   "cell_type": "code",
   "execution_count": 5,
   "id": "a586f56d-6c9a-40d3-9f5d-c2268ebbddcf",
   "metadata": {},
   "outputs": [
    {
     "name": "stdout",
     "output_type": "stream",
     "text": [
      "123 abc 가나다\n"
     ]
    }
   ],
   "source": [
    "(digit, alphabet, hangle) = (123,'abc','가나다')\n",
    "print(digit, alphabet, hangle)"
   ]
  },
  {
   "cell_type": "code",
   "execution_count": 13,
   "id": "22b0c9f6-0152-4caa-bb2d-4a40aa367a93",
   "metadata": {},
   "outputs": [
    {
     "data": {
      "text/plain": [
       "(150, 50, 5000)"
      ]
     },
     "execution_count": 13,
     "metadata": {},
     "output_type": "execute_result"
    }
   ],
   "source": [
    "def calc(a,b):\n",
    "    add=a+b\n",
    "    sub=a-b\n",
    "    mul=a*b\n",
    "    return add, sub, mul\n",
    "\n",
    "calc(100, 50)"
   ]
  },
  {
   "cell_type": "code",
   "execution_count": 14,
   "id": "7f667df2-9dd2-4106-94cc-00cdca6f6555",
   "metadata": {},
   "outputs": [
    {
     "name": "stdout",
     "output_type": "stream",
     "text": [
      "연산결과: 덧셈=150, 뺼셈=50, 곱셈=5000\n"
     ]
    }
   ],
   "source": [
    "x,y,z=calc(100, 50)\n",
    "print(f'연산결과: 덧셈={x}, 뺼셈={y}, 곱셈={z}')"
   ]
  },
  {
   "cell_type": "code",
   "execution_count": 15,
   "id": "274b6c49-4a8f-4013-a12a-5bca617eeead",
   "metadata": {},
   "outputs": [
    {
     "name": "stdout",
     "output_type": "stream",
     "text": [
      "apple\n",
      "banana\n"
     ]
    }
   ],
   "source": [
    "empty = {}\n",
    "fruits={\"a\":\"apple\", \"b\":\"banana\"}\n",
    "print(fruits[\"a\"])\n",
    "print(fruits[\"b\"])"
   ]
  },
  {
   "cell_type": "code",
   "execution_count": 16,
   "id": "7dd1ed01-5c7c-4962-8cfb-31a74d228c9f",
   "metadata": {},
   "outputs": [
    {
     "name": "stdout",
     "output_type": "stream",
     "text": [
      "{'a': 'apple', 'b': 'banana', 'c': 'cherry', 'o': 'orange'}\n"
     ]
    }
   ],
   "source": [
    "fruits = {'a':'apple','b':'banana'}\n",
    "fruits['c']='cherry'\n",
    "fruits['o']='orange'\n",
    "print(fruits)"
   ]
  },
  {
   "cell_type": "code",
   "execution_count": 18,
   "id": "11eb36c7-1869-4191-a923-3826a5e2088c",
   "metadata": {},
   "outputs": [
    {
     "name": "stdout",
     "output_type": "stream",
     "text": [
      "좋아하는 과일:apple\n"
     ]
    }
   ],
   "source": [
    "fruits['b']\n",
    "print(f\"좋아하는 과일:{(fruits)['a']}\")"
   ]
  },
  {
   "cell_type": "code",
   "execution_count": 19,
   "id": "d0806caa-3d79-4654-bf7a-6c0b3a87a776",
   "metadata": {},
   "outputs": [
    {
     "data": {
      "text/plain": [
       "dict_items([('1반', 17), ('2반', 20), ('3반', 19)])"
      ]
     },
     "execution_count": 19,
     "metadata": {},
     "output_type": "execute_result"
    }
   ],
   "source": [
    "st_class = {\"1반\":17, \"2반\": 20, \"3반\": 19}\n",
    "st_class.keys()\n",
    "st_class.values()\n",
    "st_class.items()"
   ]
  },
  {
   "cell_type": "code",
   "execution_count": 20,
   "id": "c032a0b5-aef4-462b-8299-27c429e0a901",
   "metadata": {},
   "outputs": [
    {
     "data": {
      "text/plain": [
       "[('1반', 17), ('2반', 20), ('3반', 19)]"
      ]
     },
     "execution_count": 20,
     "metadata": {},
     "output_type": "execute_result"
    }
   ],
   "source": [
    "st_class = {\"1반\":17, \"2반\": 20, \"3반\": 19}\n",
    "list(st_class.keys())\n",
    "list(st_class.values())\n",
    "list(st_class.items())"
   ]
  },
  {
   "cell_type": "code",
   "execution_count": 21,
   "id": "472f1837-e1fe-48b4-bf50-7d49d5679d35",
   "metadata": {},
   "outputs": [
    {
     "name": "stdout",
     "output_type": "stream",
     "text": [
      "a\n",
      "apple\n",
      "b\n",
      "banana\n"
     ]
    }
   ],
   "source": [
    "fruits = {\"a\":\"apple\", \"b\":\"banana\"}\n",
    "for key in fruits:\n",
    "    print(key)\n",
    "    print(fruits[key])"
   ]
  },
  {
   "cell_type": "code",
   "execution_count": 24,
   "id": "e86c8f64-f045-4c10-97b1-cf2ba0a89d85",
   "metadata": {},
   "outputs": [
    {
     "name": "stdout",
     "output_type": "stream",
     "text": [
      "{'a': 'apple', 'b': 'banana', 'o': 'orange'}\n",
      "{'a': 'apple', 'b': 'banana', 'o': 'orange'}\n"
     ]
    }
   ],
   "source": [
    "fruits={\"a\":\"apple\", \"b\":\"banana\"}\n",
    "if \"o\" not in fruits:\n",
    "    fruits['o']='orange'\n",
    "print(fruits)\n",
    "\n",
    "if \"o\" in fruits:\n",
    "    fruits['o']='orange'\n",
    "print(fruits)"
   ]
  },
  {
   "cell_type": "code",
   "execution_count": null,
   "id": "e56524be-d270-47e9-b05a-0134e64ccbb4",
   "metadata": {},
   "outputs": [],
   "source": []
  }
 ],
 "metadata": {
  "kernelspec": {
   "display_name": "Python 3 (ipykernel)",
   "language": "python",
   "name": "python3"
  },
  "language_info": {
   "codemirror_mode": {
    "name": "ipython",
    "version": 3
   },
   "file_extension": ".py",
   "mimetype": "text/x-python",
   "name": "python",
   "nbconvert_exporter": "python",
   "pygments_lexer": "ipython3",
   "version": "3.11.7"
  }
 },
 "nbformat": 4,
 "nbformat_minor": 5
}
