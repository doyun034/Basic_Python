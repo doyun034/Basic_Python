{
 "cells": [
  {
   "cell_type": "code",
   "execution_count": 17,
   "id": "cbc8dee0-847a-4fa6-a9a5-de21ade16db6",
   "metadata": {},
   "outputs": [
    {
     "name": "stdout",
     "output_type": "stream",
     "text": [
      "Requirement already satisfied: pygame in c:\\users\\ehdbs\\anaconda3\\lib\\site-packages (2.6.0)\n",
      "Note: you may need to restart the kernel to use updated packages.\n"
     ]
    }
   ],
   "source": [
    "pip install pygame  #pygame 패키지 모듈 설치"
   ]
  },
  {
   "cell_type": "code",
   "execution_count": 18,
   "id": "a5064b20-88eb-4755-bdeb-db5c3fa953d7",
   "metadata": {},
   "outputs": [],
   "source": [
    "import pygame # pygame 라이브러리 주입"
   ]
  },
  {
   "cell_type": "code",
   "execution_count": 19,
   "id": "02abc812-c906-44a8-9e00-71789333f22b",
   "metadata": {},
   "outputs": [],
   "source": [
    "import random # random 라이브러리 주입"
   ]
  },
  {
   "cell_type": "code",
   "execution_count": 20,
   "id": "2bcb48fa-8360-4389-809d-96ae5719a49e",
   "metadata": {},
   "outputs": [],
   "source": [
    "songs = {'박재정': '우리 헤어지자 말해요', \n",
    "         '우디' : '사막에서 꽃을 피우듯', \n",
    "         '성시경' : '너의 모든 순간', \n",
    "         '임영웅' : '사랑은 늘 도망가',\n",
    "         '범진' : '인사'} #songs 변수 선언"
   ]
  },
  {
   "cell_type": "code",
   "execution_count": 21,
   "id": "361a3964-de3c-41c7-832a-707674f18e9d",
   "metadata": {},
   "outputs": [],
   "source": [
    "playlist = {'박재정' : 'mp3/Park.mp3',\n",
    "            '우디':'mp3/Woody.mp3',\n",
    "            '성시경':'mp3/Sung.mp3',\n",
    "            '임영웅':'mp3/IYW.mp3',\n",
    "            '범진':'mp3/BJ.mp3'} # playlist 배열 선언"
   ]
  },
  {
   "cell_type": "code",
   "execution_count": 22,
   "id": "9e6c92f7-76f2-4d64-995f-250a7522c3b3",
   "metadata": {},
   "outputs": [
    {
     "name": "stdout",
     "output_type": "stream",
     "text": [
      "[가수명]\t\t[곡명]\n",
      "------------------------------\n",
      "박재정\t\t우리 헤어지자 말해요\n",
      "우디\t\t사막에서 꽃을 피우듯\n",
      "성시경\t\t너의 모든 순간\n",
      "임영웅\t\t사랑은 늘 도망가\n",
      "범진\t\t인사\n"
     ]
    }
   ],
   "source": [
    "print(f'[가수명]\\t\\t[곡명]') # 프린트문 출력\n",
    "print('-' * 30) # 프린트문 출력\n",
    "for singer in list(songs.keys()): # for문 동작\n",
    "    print(f'{singer}\\t\\t{songs[singer]}') # 가수명, 곡명 출력"
   ]
  },
  {
   "cell_type": "code",
   "execution_count": null,
   "id": "88fe658a-5e57-4d9b-a5f5-61d441721e3d",
   "metadata": {},
   "outputs": [],
   "source": []
  }
 ],
 "metadata": {
  "kernelspec": {
   "display_name": "Python 3 (ipykernel)",
   "language": "python",
   "name": "python3"
  },
  "language_info": {
   "codemirror_mode": {
    "name": "ipython",
    "version": 3
   },
   "file_extension": ".py",
   "mimetype": "text/x-python",
   "name": "python",
   "nbconvert_exporter": "python",
   "pygments_lexer": "ipython3",
   "version": "3.11.7"
  }
 },
 "nbformat": 4,
 "nbformat_minor": 5
}
