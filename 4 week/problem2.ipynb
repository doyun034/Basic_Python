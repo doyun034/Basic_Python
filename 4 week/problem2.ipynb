{
 "cells": [
  {
   "cell_type": "code",
   "execution_count": 1,
   "id": "ebf9d47e-67a6-4b1f-9c98-45e72f5f0783",
   "metadata": {},
   "outputs": [],
   "source": [
    "import random # 랜덤 라이브러리 추가"
   ]
  },
  {
   "cell_type": "code",
   "execution_count": 2,
   "id": "a80d3e36-d3bb-4966-9035-0d9e43625de9",
   "metadata": {},
   "outputs": [],
   "source": [
    "songs = {'박재정': '우리 헤어지자 말해요', \n",
    "         '우디' : '사막에서 꽃을 피우듯', \n",
    "         '성시경' : '너의 모든 순간', \n",
    "         '임영웅' : '사랑은 늘 도망가',\n",
    "         '범진' : '인사'} #songs 변수 선언"
   ]
  },
  {
   "cell_type": "code",
   "execution_count": 3,
   "id": "e3f23649-b740-426a-95b1-998c4fdf972e",
   "metadata": {},
   "outputs": [],
   "source": [
    "songs_key = list(songs.keys()) # key값 저장\n",
    "recommend = random.choice(songs_key) # 저장한 key값 출력"
   ]
  },
  {
   "cell_type": "code",
   "execution_count": 4,
   "id": "6bed849f-78b5-4fa5-9da8-bf33c24a7056",
   "metadata": {},
   "outputs": [
    {
     "name": "stdin",
     "output_type": "stream",
     "text": [
      "가수명을 입력하세요:  멜로망스\n",
      "곡명을 입력하세요:  사랑인가봐\n",
      "가수명을 입력하세요:  EXO\n",
      "곡명을 입력하세요:  첫 눈\n"
     ]
    }
   ],
   "source": [
    "for a in range(2): # for문 2번 작동\n",
    "    singer=input('가수명을 입력하세요: ') # singer 입력\n",
    "    song=input('곡명을 입력하세요: ') # song 입력\n",
    "\n",
    "    songs[singer]=song # song 값을 songs에 대입"
   ]
  },
  {
   "cell_type": "code",
   "execution_count": 5,
   "id": "79db01c7-ec89-4a6e-b3d2-8d82e64132d6",
   "metadata": {},
   "outputs": [
    {
     "name": "stdout",
     "output_type": "stream",
     "text": [
      "[가수명\t\t[곡명]\n",
      "------------------------------\n",
      "박재정\t\t우리 헤어지자 말해요\n",
      "우디\t\t사막에서 꽃을 피우듯\n",
      "성시경\t\t너의 모든 순간\n",
      "임영웅\t\t사랑은 늘 도망가\n",
      "범진\t\t인사\n",
      "멜로망스\t\t사랑인가봐\n",
      "EXO\t\t첫 눈\n"
     ]
    }
   ],
   "source": [
    "print(f'[가수명\\t\\t[곡명]') # 프린트문 출력\n",
    "print('-'*30) # 프린트문 출력\n",
    "for s in list(songs.keys()): # for문 작동\n",
    "    print(f'{s}\\t\\t{songs[s]}') # sing, songs 출력"
   ]
  }
 ],
 "metadata": {
  "kernelspec": {
   "display_name": "Python 3 (ipykernel)",
   "language": "python",
   "name": "python3"
  },
  "language_info": {
   "codemirror_mode": {
    "name": "ipython",
    "version": 3
   },
   "file_extension": ".py",
   "mimetype": "text/x-python",
   "name": "python",
   "nbconvert_exporter": "python",
   "pygments_lexer": "ipython3",
   "version": "3.11.7"
  }
 },
 "nbformat": 4,
 "nbformat_minor": 5
}
