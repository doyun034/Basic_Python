{
 "cells": [
  {
   "cell_type": "code",
   "execution_count": 1,
   "id": "28f13006-fee2-4a7b-b065-10ef9bacac37",
   "metadata": {},
   "outputs": [],
   "source": [
    "# 문제 1\n",
    "import random # 랜덤 라이브러리 추가"
   ]
  },
  {
   "cell_type": "code",
   "execution_count": 2,
   "id": "cc3d692b-030c-43d4-af9b-e07134aaa19d",
   "metadata": {},
   "outputs": [],
   "source": [
    "songs = {'박재정': '우리 헤어지자 말해요', \n",
    "         '우디' : '사막에서 꽃을 피우듯', \n",
    "         '성시경' : '너의 모든 순간', \n",
    "         '임영웅' : '사랑은 늘 도망가',\n",
    "         '범진' : '인사'} #songs 변수 선언"
   ]
  },
  {
   "cell_type": "code",
   "execution_count": 3,
   "id": "89e3ea6c-6d41-4635-8dd1-f7fd6edee7ed",
   "metadata": {},
   "outputs": [],
   "source": [
    "songs_key = list(songs.keys()) # key값 저장\n",
    "recommend = random.choice(songs_key) # 저장한 key값 출력"
   ]
  },
  {
   "cell_type": "code",
   "execution_count": 4,
   "id": "68ae24fb-245a-4677-9047-a1a471e7b6cf",
   "metadata": {},
   "outputs": [
    {
     "name": "stdout",
     "output_type": "stream",
     "text": [
      "=== 오늘의 추천곡 리스트 ===\n",
      "가수명: 범진\n",
      "추천곡: 인사\n"
     ]
    }
   ],
   "source": [
    "print(f'=== 오늘의 추천곡 리스트 ===') # 프린트문 작성\n",
    "print(f'가수명: {recommend}') # 가수 출력\n",
    "print(f'추천곡: {songs[recommend]}') # 노래 출력"
   ]
  },
  {
   "cell_type": "code",
   "execution_count": null,
   "id": "8d96aa6b-5773-4eb6-920b-47d58852c733",
   "metadata": {},
   "outputs": [],
   "source": [
    "# 문제 2\n",
    "import random # 랜덤 라이브러리 추가"
   ]
  },
  {
   "cell_type": "code",
   "execution_count": null,
   "id": "c0c7c789-373e-46cf-a642-f7f02f7b3989",
   "metadata": {},
   "outputs": [],
   "source": [
    "songs = {'박재정': '우리 헤어지자 말해요', \n",
    "         '우디' : '사막에서 꽃을 피우듯', \n",
    "         '성시경' : '너의 모든 순간', \n",
    "         '임영웅' : '사랑은 늘 도망가',\n",
    "         '범진' : '인사'} #songs 변수 선언"
   ]
  },
  {
   "cell_type": "code",
   "execution_count": null,
   "id": "77d32f77-d5e0-43c6-a104-02afe93bdad2",
   "metadata": {},
   "outputs": [],
   "source": [
    "songs_key = list(songs.keys()) # key값 저장\n",
    "recommend = random.choice(songs_key) # 저장한 key값 출력"
   ]
  },
  {
   "cell_type": "code",
   "execution_count": null,
   "id": "c083dcc7-208a-4a19-a27e-9693c2c6931b",
   "metadata": {},
   "outputs": [],
   "source": [
    "for a in range(2): # for문 2번 작동\n",
    "    singer=input('가수명을 입력하세요: ') # singer 입력\n",
    "    song=input('곡명을 입력하세요: ') # song 입력\n",
    "\n",
    "    songs[singer]=song # song 값을 songs에 대입"
   ]
  },
  {
   "cell_type": "code",
   "execution_count": null,
   "id": "74151fac-920d-4d2d-aa13-743b23eee87c",
   "metadata": {},
   "outputs": [],
   "source": [
    "print(f'[가수명\\t\\t[곡명]') # 프린트문 출력\n",
    "print('-'*30) # 프린트문 출력\n",
    "for s in list(songs.keys()): # for문 작동\n",
    "    print(f'{s}\\t\\t{songs[s]}') # sing, songs 출력"
   ]
  },
  {
   "cell_type": "code",
   "execution_count": null,
   "id": "e7b84952-87bb-497c-81f4-836c6d6fb17f",
   "metadata": {},
   "outputs": [],
   "source": [
    "# 문제 3\n",
    "import random # 랜덤 라이브러리 추가"
   ]
  },
  {
   "cell_type": "code",
   "execution_count": null,
   "id": "60d4bd7f-a32b-485d-b401-ed80e22f9f21",
   "metadata": {},
   "outputs": [],
   "source": [
    "songs = {'박재정': '우리 헤어지자 말해요', \n",
    "         '우디' : '사막에서 꽃을 피우듯', \n",
    "         '성시경' : '너의 모든 순간', \n",
    "         '임영웅' : '사랑은 늘 도망가',\n",
    "         '범진' : '인사'} #songs 변수 선언"
   ]
  },
  {
   "cell_type": "code",
   "execution_count": null,
   "id": "ead3d55d-9d77-4062-953f-93064880a2a0",
   "metadata": {},
   "outputs": [],
   "source": [
    "songs_key = list(songs.keys()) # key값 저장\n",
    "recommend = random.choice(songs_key) # 저장한 key값 출력"
   ]
  },
  {
   "cell_type": "code",
   "execution_count": null,
   "id": "cee6391b-975a-4bae-b1aa-e71f0b3e80dc",
   "metadata": {},
   "outputs": [],
   "source": [
    "for a in range(2): # for문 2번 작동\n",
    "    singer=input('가수명을 입력하세요: ') # singer 입력\n",
    "    song=input('곡명을 입력하세요: ') # song 입력\n",
    "\n",
    "    songs[singer]=song # song 값을 songs에 대입"
   ]
  },
  {
   "cell_type": "code",
   "execution_count": null,
   "id": "9be369cd-d70d-4838-a811-61113479d4f8",
   "metadata": {},
   "outputs": [],
   "source": [
    "print(f'[가수명\\t\\t[곡명]') # 프린트문 출력\n",
    "print('-'*30) # 프린트문 출력\n",
    "for s in list(songs.keys()): # for문 작동\n",
    "    print(f'{s}\\t\\t{songs[s]}') # sing, songs 출력"
   ]
  },
  {
   "cell_type": "code",
   "execution_count": null,
   "id": "defcb79d-a8ec-46de-8729-8a6f1aad7a93",
   "metadata": {},
   "outputs": [],
   "source": [
    "del songs['박재정'] # del 변수 설정\n",
    "del songs['우디'] # del 변수 설정"
   ]
  },
  {
   "cell_type": "code",
   "execution_count": null,
   "id": "5e33f69f-c041-43b9-b3ed-f43ebd0664a1",
   "metadata": {},
   "outputs": [],
   "source": [
    "print(f'[가수명]\\t\\t[곡명]') # 프린트문 출력\n",
    "print('-'*30) # 프린트문 출력\n",
    "for s in list(songs.keys()): # for문 작동\n",
    "    print(f'{s}\\t\\t{songs[s]}') # 가수, 곡 출력"
   ]
  },
  {
   "cell_type": "code",
   "execution_count": null,
   "id": "9b13a3af-33ac-4856-98e0-f9dbf85b7ade",
   "metadata": {},
   "outputs": [],
   "source": [
    "songs.clear() # 모든 변수에 저장된 객체 삭제"
   ]
  },
  {
   "cell_type": "code",
   "execution_count": null,
   "id": "f214cdfd-e1ea-4791-bc4e-46a5885d973a",
   "metadata": {},
   "outputs": [],
   "source": [
    "print(f'[가수명]\\t\\t[곡명]') # 프린트문 출력\n",
    "print('-'*30) # 프린트문 출력\n",
    "for s in list(songs.keys()): # for문 작동\n",
    "    print(f'{s}\\t\\t{songs[s]}') # 가수명, 곡명 출력"
   ]
  },
  {
   "cell_type": "code",
   "execution_count": null,
   "id": "51e08abc-b031-4d9b-8e1f-2809945e5c0d",
   "metadata": {},
   "outputs": [],
   "source": [
    "# 문제 4\n",
    "pip install pygame  #pygame 패키지 모듈 설치"
   ]
  },
  {
   "cell_type": "code",
   "execution_count": null,
   "id": "9a2ef168-e40e-493f-af77-32c312964505",
   "metadata": {},
   "outputs": [],
   "source": [
    "import pygame # pygame 라이브러리 주입"
   ]
  },
  {
   "cell_type": "code",
   "execution_count": null,
   "id": "ba5ab793-dbe1-4f97-b6a4-6db0e4640324",
   "metadata": {},
   "outputs": [],
   "source": [
    "import random # random 라이브러리 주입"
   ]
  },
  {
   "cell_type": "code",
   "execution_count": null,
   "id": "49f4558d-71a3-4df6-adb9-c137cf9fcb19",
   "metadata": {},
   "outputs": [],
   "source": [
    "songs = {'박재정': '우리 헤어지자 말해요', \n",
    "         '우디' : '사막에서 꽃을 피우듯', \n",
    "         '성시경' : '너의 모든 순간', \n",
    "         '임영웅' : '사랑은 늘 도망가',\n",
    "         '범진' : '인사'} #songs 변수 선언"
   ]
  },
  {
   "cell_type": "code",
   "execution_count": null,
   "id": "d400b2b1-fcdf-4073-97e5-77c158e399a9",
   "metadata": {},
   "outputs": [],
   "source": [
    "playlist = {'박재정' : 'mp3/Park.mp3',\n",
    "            '우디':'mp3/Woody.mp3',\n",
    "            '성시경':'mp3/Sung.mp3',\n",
    "            '임영웅':'mp3/IYW.mp3',\n",
    "            '범진':'mp3/BJ.mp3'} # playlist 배열 선언"
   ]
  },
  {
   "cell_type": "code",
   "execution_count": null,
   "id": "379ebc8e-0281-4e12-aee1-c3f162eb8b43",
   "metadata": {},
   "outputs": [],
   "source": [
    "print(f'[가수명]\\t\\t[곡명]') # 프린트문 출력\n",
    "print('-' * 30) # 프린트문 출력\n",
    "for singer in list(songs.keys()): # for문 동작\n",
    "    print(f'{singer}\\t\\t{songs[singer]}') # 가수명, 곡명 출력"
   ]
  },
  {
   "cell_type": "code",
   "execution_count": null,
   "id": "fbf66e97-493f-47cf-8e68-6e2895434fdc",
   "metadata": {},
   "outputs": [],
   "source": [
    "# 문제 5\n",
    "pip install pygame"
   ]
  },
  {
   "cell_type": "code",
   "execution_count": null,
   "id": "1a280c55-b35e-4841-8e8b-e3bdbd9f8e26",
   "metadata": {},
   "outputs": [],
   "source": [
    "import pygame # random 라이브러리 주입"
   ]
  },
  {
   "cell_type": "code",
   "execution_count": null,
   "id": "262af473-cba4-4077-af75-aa0acc0921db",
   "metadata": {},
   "outputs": [],
   "source": [
    "import random # random 라이브러리 주입"
   ]
  },
  {
   "cell_type": "code",
   "execution_count": null,
   "id": "c4d7d47a-dceb-4a05-8880-c9798e5fbc49",
   "metadata": {},
   "outputs": [],
   "source": [
    "songs = {'박재정': '우리 헤어지자 말해요', \n",
    "         '우디' : '사막에서 꽃을 피우듯', \n",
    "         '성시경' : '너의 모든 순간', \n",
    "         '임영웅' : '사랑은 늘 도망가',\n",
    "         '범진' : '인사'} #songs 변수 선언"
   ]
  },
  {
   "cell_type": "code",
   "execution_count": null,
   "id": "63ae356a-ef33-4f54-8cdf-88e80efa8990",
   "metadata": {},
   "outputs": [],
   "source": [
    "playlist = {'박재정' : 'Park.mp3',\n",
    "            '우디':'Woody.mp3',\n",
    "            '성시경':'Sung.mp3',\n",
    "            '임영웅':'IYW.mp3',\n",
    "            '범진':'BJ.mp3'} # playlist 배열 선언"
   ]
  },
  {
   "cell_type": "code",
   "execution_count": null,
   "id": "73233999-c404-46eb-a1d3-e8afd745a692",
   "metadata": {},
   "outputs": [],
   "source": [
    "select = random.choice(list(songs.keys()))\n",
    "\n",
    "print(f'=== 오늘의 추천곡 리스트 ==')\n",
    "print(f'가수명 : {songs[select]}')\n",
    "print(f'추천곡 : {playlist[select]}')"
   ]
  },
  {
   "cell_type": "code",
   "execution_count": null,
   "id": "51bc380e-82a0-41e7-9ecc-a0a3ffa5244c",
   "metadata": {},
   "outputs": [],
   "source": [
    "pygame.init() #pygame 실행 시작\n",
    "pygame.mixer.music.load(playlist[select]) # 추천곡 시작\n",
    "pygame.mixer.music.play(-1) # 무한 재생"
   ]
  },
  {
   "cell_type": "code",
   "execution_count": null,
   "id": "e6fca5eb-afa3-4b8a-9824-6a23edfa0926",
   "metadata": {},
   "outputs": [],
   "source": [
    "pygame.mixer.music.stop() # 실행 중지"
   ]
  },
  {
   "cell_type": "code",
   "execution_count": null,
   "id": "60bebbda-d56f-4fa5-9a9d-3b9e94e0e421",
   "metadata": {},
   "outputs": [],
   "source": [
    "# 문제 6\n",
    "st= int(input('성적을 입력할 총 학생수: ')) # st 변수 선언\n",
    "students=dict() # 딕셔너리에 students 변수 대입\n",
    "\n",
    "for count in range(st): # for문 동작\n",
    "    st_name=input('학생명을 입력하세요: ') # st_name 변수 입력\n",
    "    score=int(input('성적을 입력하세요: ')) # score 변수 입력\n",
    "\n",
    "    students[st_name] = score # score 변수를 students 배열에 저장"
   ]
  },
  {
   "cell_type": "code",
   "execution_count": null,
   "id": "a224c59f-a9c4-4f97-a5ca-6e22cbc79816",
   "metadata": {},
   "outputs": [],
   "source": [
    "print('=== 모든 학생의 성적 출력하기 ===') # 프린트문 출력\n",
    "for name in list(students.keys()): # for문 동작\n",
    "    print(f'{name}\\t{students[name]}') # 학생 성적 출력"
   ]
  },
  {
   "cell_type": "code",
   "execution_count": null,
   "id": "964890d2-c742-4050-97dd-1b29c9f0a70d",
   "metadata": {},
   "outputs": [],
   "source": [
    "avg=sum(list(students.values())) / st # avg 변수 계산값 지정"
   ]
  },
  {
   "cell_type": "code",
   "execution_count": null,
   "id": "c5ed1706-4dde-4a91-9f6a-86f55c7fc658",
   "metadata": {},
   "outputs": [],
   "source": [
    "print('=== 평균 이상 성적 출력 ===') # 프린트문 출력\n",
    "print(f'평균 성적: {avg: .2f}') # 프린트문 출력\n",
    "\n",
    "for name in list(students.keys()): # for 문 동작\n",
    "    if(students[name]>=avg): # 조건문 설정\n",
    "        print(f'{name}\\t{students[name]}') # 프린트문 동작\n"
   ]
  },
  {
   "cell_type": "code",
   "execution_count": null,
   "id": "b3ea73e0-2872-43e4-b168-5a73dd78c36c",
   "metadata": {},
   "outputs": [],
   "source": [
    "# 문제 7번\n",
    "# 주어진 문장\n",
    "sentence = \"An operation system is system software that manages computer hardware, software resources, and provides common service for computer programs.\""
   ]
  },
  {
   "cell_type": "code",
   "execution_count": null,
   "id": "7b1b4d47-57a7-415c-b559-076f746136a6",
   "metadata": {},
   "outputs": [],
   "source": [
    "# 1. 입력된 문장을 모두 소문자로 변경\n",
    "sentence = sentence.lower()"
   ]
  },
  {
   "cell_type": "code",
   "execution_count": null,
   "id": "db128b64-ee6c-45af-94fe-8315d9d77484",
   "metadata": {},
   "outputs": [],
   "source": [
    "# 2. 문자열을 split() 메서드를 활용하여 단어 분리\n",
    "words = sentence.split()\n",
    "print(f'단어 리스트: {words}')"
   ]
  },
  {
   "cell_type": "code",
   "execution_count": null,
   "id": "b3ff4d73-629f-4eb1-a602-afc68fce2e88",
   "metadata": {},
   "outputs": [],
   "source": [
    "# 3. 빈 딕셔너리 counts 생성\n",
    "counts = {}\n"
   ]
  },
  {
   "cell_type": "code",
   "execution_count": null,
   "id": "ac6e5af5-939e-4c92-a8aa-8bbffa16f154",
   "metadata": {},
   "outputs": [],
   "source": [
    "# 4. 각 단어가 딕셔너리에 이미 있는지 검사\n",
    "for w in words:\n",
    "    # 5. 단어가 존재한다면 그 단어의 빈도수를 1만큼 증가, 재저장\n",
    "    if w in counts:\n",
    "        counts[w] += 1\n",
    "    # 6. 단어가 존재하지 않는다면 딕셔너리에 새롭게 등록, 초기값으로 1 저장\n",
    "    else:\n",
    "        counts[w] = 1"
   ]
  },
  {
   "cell_type": "code",
   "execution_count": null,
   "id": "c4d06b30-a514-44b2-8907-33eb1f376990",
   "metadata": {},
   "outputs": [],
   "source": [
    "# 결과 출력\n",
    "print(f'딕셔너리 저장 내용 : \\n{counts}')"
   ]
  }
 ],
 "metadata": {
  "kernelspec": {
   "display_name": "Python 3 (ipykernel)",
   "language": "python",
   "name": "python3"
  },
  "language_info": {
   "codemirror_mode": {
    "name": "ipython",
    "version": 3
   },
   "file_extension": ".py",
   "mimetype": "text/x-python",
   "name": "python",
   "nbconvert_exporter": "python",
   "pygments_lexer": "ipython3",
   "version": "3.11.7"
  }
 },
 "nbformat": 4,
 "nbformat_minor": 5
}
