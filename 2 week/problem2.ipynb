{
 "cells": [
  {
   "cell_type": "code",
   "execution_count": 1,
   "id": "4928a717-105a-4b0b-b4b4-5dad09e2bfd5",
   "metadata": {},
   "outputs": [
    {
     "name": "stdin",
     "output_type": "stream",
     "text": [
      "반지름을 입력핫오: 7\n"
     ]
    },
    {
     "name": "stdout",
     "output_type": "stream",
     "text": [
      "원의 넓이는 153.86입니다.\n"
     ]
    }
   ],
   "source": [
    "r = int(input(\"반지름을 입력핫오:\"))\n",
    "area = 3.14 * r * r\n",
    "\n",
    "print('원의 넓이는 %.2f입니다.' %area) "
   ]
  },
  {
   "cell_type": "code",
   "execution_count": null,
   "id": "a8b893d3-cd50-4d31-8f8c-4be5c9c4c6c7",
   "metadata": {},
   "outputs": [],
   "source": []
  }
 ],
 "metadata": {
  "kernelspec": {
   "display_name": "Python 3 (ipykernel)",
   "language": "python",
   "name": "python3"
  },
  "language_info": {
   "codemirror_mode": {
    "name": "ipython",
    "version": 3
   },
   "file_extension": ".py",
   "mimetype": "text/x-python",
   "name": "python",
   "nbconvert_exporter": "python",
   "pygments_lexer": "ipython3",
   "version": "3.11.7"
  }
 },
 "nbformat": 4,
 "nbformat_minor": 5
}
