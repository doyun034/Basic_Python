{
 "cells": [
  {
   "cell_type": "code",
   "execution_count": 2,
   "id": "7c963b62-6169-401f-8599-e5746cb230ad",
   "metadata": {},
   "outputs": [
    {
     "name": "stdout",
     "output_type": "stream",
     "text": [
      "16 40\n"
     ]
    }
   ],
   "source": [
    "sec=1000\n",
    "min = sec//60\n",
    "remainder=sec%60\n",
    "print(min, remainder)"
   ]
  },
  {
   "cell_type": "code",
   "execution_count": null,
   "id": "4350b629-4f16-49bd-9964-f260096863f7",
   "metadata": {},
   "outputs": [],
   "source": []
  }
 ],
 "metadata": {
  "kernelspec": {
   "display_name": "Python 3 (ipykernel)",
   "language": "python",
   "name": "python3"
  },
  "language_info": {
   "codemirror_mode": {
    "name": "ipython",
    "version": 3
   },
   "file_extension": ".py",
   "mimetype": "text/x-python",
   "name": "python",
   "nbconvert_exporter": "python",
   "pygments_lexer": "ipython3",
   "version": "3.11.7"
  }
 },
 "nbformat": 4,
 "nbformat_minor": 5
}
