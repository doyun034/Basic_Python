{
 "cells": [
  {
   "cell_type": "code",
   "execution_count": null,
   "id": "51e62b8d-9015-4482-bc18-10ed530ac056",
   "metadata": {},
   "outputs": [],
   "source": [
    "''' 작성자: 홍길동 \n",
    "    ㅁㄴ엄ㄴ라ㅓㄻㅈ\n",
    "    ㅁㄴ아럼재ㅑ런ㅇㄹ\n",
    "'''\n",
    "# ㅁㄴㅇㅁㄴㅇㅁㄴㅇㅁㄴㅇ"
   ]
  }
 ],
 "metadata": {
  "kernelspec": {
   "display_name": "Python 3 (ipykernel)",
   "language": "python",
   "name": "python3"
  },
  "language_info": {
   "codemirror_mode": {
    "name": "ipython",
    "version": 3
   },
   "file_extension": ".py",
   "mimetype": "text/x-python",
   "name": "python",
   "nbconvert_exporter": "python",
   "pygments_lexer": "ipython3",
   "version": "3.11.7"
  }
 },
 "nbformat": 4,
 "nbformat_minor": 5
}
