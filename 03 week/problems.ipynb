{
 "cells": [
  {
   "cell_type": "code",
   "execution_count": 16,
   "id": "6d57fb5d-07db-412d-afb4-70a2f6b3244b",
   "metadata": {},
   "outputs": [
    {
     "name": "stdout",
     "output_type": "stream",
     "text": [
      "오늘 추천식: 중식\n"
     ]
    }
   ],
   "source": [
    "# 문제 1\n",
    "import random # 랜덤 라이브러리 추가\n",
    "f_kinds=['한식', '양식', '일식', '중식', '태국음식'] # f_kinds 배열 선언\n",
    "print(f'오늘 추천식: {random.choice(f_kinds)}') # 랜덤 출력"
   ]
  },
  {
   "cell_type": "code",
   "execution_count": 18,
   "id": "4b43b6af-47fc-4e1d-ac85-b7b83ad06435",
   "metadata": {},
   "outputs": [
    {
     "name": "stdout",
     "output_type": "stream",
     "text": [
      "오늘 점심 메뉴 추천: 쌀국수\n"
     ]
    }
   ],
   "source": [
    "foods=['스테이크', '돈가스', '갈비찜', '팔보채', '탕수역', '김치찜', '쌀국수', '회덮밥'] # foods 배열 선언\n",
    "print(f'오늘 점심 메뉴 추천: {random.choice(foods)}') # 랜덤 출력"
   ]
  },
  {
   "cell_type": "code",
   "execution_count": null,
   "id": "ad954b0f-5c51-4047-8bb1-ebaed9fa6b54",
   "metadata": {},
   "outputs": [],
   "source": [
    "# 문제 2\n",
    "import random # 랜덤 라이브러리 추가\n",
    "saying = ['시도하지 않으면 아무것도 달라지지 않는다',\n",
    "          '할 수 없을 것 같은 일을 해라',\n",
    "          '항상 맑으면 사막이 된다',\n",
    "          '언제까지 계속되는 불행이란 없다'] # saying 배열 추가\n",
    "\n",
    "print('==== 오늘의 명언 ====') # 지정한 문구 출력\n",
    "print() # 공백 추가\n",
    "print(f'{random.choice(saying)}') # 랜덤 출력 "
   ]
  },
  {
   "cell_type": "code",
   "execution_count": null,
   "id": "9a6034e7-e69f-421b-9c0e-bc1aef989279",
   "metadata": {},
   "outputs": [],
   "source": [
    "saying.append('별은 바라보는 자에게 빛을 준다') # 명언 추가\n",
    "saying.append('행복은 우리 자신에게 달렸다') # 명언 추가\n",
    "\n",
    "for s in range(len(saying)): # for문에 saying 배열 추가\n",
    "    print(saying[s]) # saying 출력"
   ]
  },
  {
   "cell_type": "code",
   "execution_count": null,
   "id": "5d9f1b7a-f16f-484e-bbc0-078cdfcfdbb1",
   "metadata": {},
   "outputs": [],
   "source": [
    "# 문제 3\n",
    "import random # 랜덤 라이브러리 추가\n",
    "\n",
    "singer = ['박재정', '우디', '성시경', '임영웅', '범진'] # singer 배열 추가\n",
    "songs = ['헤어지자 말해요', '사막에서 꽃을 피우듯', '너의 모든 순간', '사랑은 늘 도망가', '인사'] # songs 배열 추가\n",
    "\n",
    "select = random.choice(singer) # select 변수에 랜덤 singer 변수 지정\n",
    "index_no = singer.index(select) # index_no에 값 설정\n",
    "\n",
    "print(f'=== 오늘의 추천곡 리스트 ===') # 프린트문 출력\n",
    "print(f'가수명: {singer[index_no]}') # 인덱스 값 출력\n",
    "print(f'가수명: {songs[index_no]}') # 인덱스 값 출력"
   ]
  },
  {
   "cell_type": "code",
   "execution_count": null,
   "id": "c7ccddb0-dd1b-426e-b973-8564983776b4",
   "metadata": {},
   "outputs": [],
   "source": [
    "print(f'[가수명]\\t\\t[곡명]') # 프린트문 출력\n",
    "print('-'*40) # 프린트문 출력\n",
    "for no in range(len(singer)): # for 문 사용해서 singer변수 지정\n",
    "    print(f'{singer[no]}\\t\\t{songs[no]}') # singer, songs 인덱스 값 출력 "
   ]
  },
  {
   "cell_type": "code",
   "execution_count": null,
   "id": "d1d6c772-341f-4ab0-9b6f-711610a0ec58",
   "metadata": {},
   "outputs": [],
   "source": [
    "# 문제 4\n",
    "score1 = float(input('성적을 입력하세요: ')) # score1 변수 설정\n",
    "score2 = float(input('성적을 입력하세요: ')) # score2 변수 설정\n",
    "score3 = float(input('성적을 입력하세요: ')) # score3 변수 설정"
   ]
  },
  {
   "cell_type": "code",
   "execution_count": null,
   "id": "7642f7ac-78e0-4b89-95d6-1b20c4a714e1",
   "metadata": {},
   "outputs": [],
   "source": [
    "total = score1 + score2 + score3 #total 변수 서식을 지정\n",
    "avg = total/3 # avg 변수의 서식을 지정"
   ]
  },
  {
   "cell_type": "code",
   "execution_count": null,
   "id": "0e63c507-e49f-48a1-b827-7d0a31536a27",
   "metadata": {},
   "outputs": [],
   "source": [
    "print('=== 평균 이하 성적 출력 ===') # 프린트문 출력\n",
    "print(f'평균 성적: {avg: 2f}') # 평균값 출력\n",
    "if score1<avg: #점수가 평균보다 낮다면이라는 조건문 지정\n",
    "    print(f'score1={score1}') #score1 점수 출력\n",
    "\n",
    "if score2<avg: #점수가 평균보다 낮다면이라는 조건문 지정\n",
    "    print(f'score2={score2}') # score2 점수 출력\n",
    "\n",
    "if score3<avg: #점수가 평균보다 낮다면이라는 조건문 지정\n",
    "    print(f'score3={score3}') # score3 점수 출력"
   ]
  },
  {
   "cell_type": "code",
   "execution_count": null,
   "id": "23e8768f-606e-47da-8577-77c86ea7e3e1",
   "metadata": {},
   "outputs": [],
   "source": [
    "# 문제 5\n",
    "scores = [] # scores 배열 선언\n",
    "for st in range(3): #for문 3번 작동 설정\n",
    "    scores.append(float(input('성적을 입력하세요: '))) # 성적 입력"
   ]
  },
  {
   "cell_type": "code",
   "execution_count": null,
   "id": "a4579369-0dc6-4e21-9988-85c803406e91",
   "metadata": {},
   "outputs": [],
   "source": [
    "total = 0 # total 변수 0으로 초기화\n",
    "for st in range(3): # for문 3번 작동 설정\n",
    "    total = total + scores[st] # 값 출력"
   ]
  },
  {
   "cell_type": "code",
   "execution_count": null,
   "id": "c14dc11b-0718-4b01-acd4-007937eb4937",
   "metadata": {},
   "outputs": [],
   "source": [
    "avg = total / 3 # avg 변수의 내용 지정"
   ]
  },
  {
   "cell_type": "code",
   "execution_count": null,
   "id": "f10b6e11-9c1b-4aae-8185-37969b50f93c",
   "metadata": {},
   "outputs": [],
   "source": [
    "print('=== 평균 이하 성적 출력 ===') # 프린트문 출력\n",
    "print(f'평균 성적: {avg: 2f}') # 프린트문으로 평균값 출력\n",
    "for st in range(3): # for문 3번 작동 설정\n",
    "    if scores[st]<=avg: # 점수가 평균보다 작거나 같다면이라는 조건문 선언\n",
    "        print(f'scores[{st}] = {scores[st]}') # 점수값 출력"
   ]
  },
  {
   "cell_type": "code",
   "execution_count": null,
   "id": "ba3f57dc-6b2f-45b7-90bd-de363fe9a3f7",
   "metadata": {},
   "outputs": [],
   "source": [
    "# 문제 6\n",
    "st = int(input('성적을 입력할 총 학생수: ')) #st 변수 설정\n",
    "\n",
    "names=[] # names 배열 설정\n",
    "scores=[] # scores 배열 설정\n",
    "\n",
    "for count in range(st): # for문 설정\n",
    "    names.append(input('학생의 이름을 입력하세요')) # names 변수 입력\n",
    "    scores.append(float(input('학생의 성적을 입력하세요: '))) # scores 변수 입력"
   ]
  },
  {
   "cell_type": "code",
   "execution_count": null,
   "id": "13685889-c1e7-4442-9e03-4ca450b7bee1",
   "metadata": {},
   "outputs": [],
   "source": [
    "total = 0 # total 변수 0으로 초기화\n",
    "for count in range(st): # for문 걸정\n",
    "    total = total+scores[count] #total 변수에 저장"
   ]
  },
  {
   "cell_type": "code",
   "execution_count": null,
   "id": "dc7d3080-9d49-48a7-9d60-ade9b55a8094",
   "metadata": {},
   "outputs": [],
   "source": [
    "avg = total/len(names) # avg 변수에 저장\n",
    "print('=== 모든 학생의 성적 출력하기 ===') # 프린트문 출력\n",
    "for count in range(st): # for문 설정\n",
    "    print(f'{names[count]}:\\t{scores[count]}') # 이름과 성적 출력"
   ]
  },
  {
   "cell_type": "code",
   "execution_count": null,
   "id": "6e1484c5-2f17-4b4c-8b8d-709b9a041eda",
   "metadata": {},
   "outputs": [],
   "source": [
    "print('=== 평균 이상 성적 출력 ===') # 프린트문 출력\n",
    "print(f'평균 성적: {avg: 2f}') # 평균 성적 출력\n",
    "for count in range(st): # for문 설정\n",
    "    if scores[count]>=avg: # 점수가 평균보다 크거나 같으면이라는 조건문 설정\n",
    "      print(f'scores[{count}]={scores[count]}') # 성적 출력"
   ]
  },
  {
   "cell_type": "code",
   "execution_count": null,
   "id": "bcccf8b2-55a3-4e70-9757-1403ff984877",
   "metadata": {},
   "outputs": [],
   "source": [
    "# 문제 7\n",
    "s1 = input('문자열 입력: ') # s1 변수 생성"
   ]
  },
  {
   "cell_type": "code",
   "execution_count": null,
   "id": "c15f7d0d-cc28-40da-89d1-a4bffc8802ee",
   "metadata": {},
   "outputs": [],
   "source": [
    " s2 = s1 [-1 :: -1] # 슬라이싱 개념 활용"
   ]
  },
  {
   "cell_type": "code",
   "execution_count": null,
   "id": "64f7cde2-e606-4ee3-af8d-e16e5fbcf9fd",
   "metadata": {},
   "outputs": [],
   "source": [
    "print(f'입력된 문자열: {s1}') # 역순 전 문자열"
   ]
  },
  {
   "cell_type": "code",
   "execution_count": null,
   "id": "20a0ee09-268b-423a-b3ee-d07032e58018",
   "metadata": {},
   "outputs": [],
   "source": [
    "print(f'암호화된 문자열: {s2}') # 역순 후 문자열"
   ]
  }
 ],
 "metadata": {
  "kernelspec": {
   "display_name": "Python 3 (ipykernel)",
   "language": "python",
   "name": "python3"
  },
  "language_info": {
   "codemirror_mode": {
    "name": "ipython",
    "version": 3
   },
   "file_extension": ".py",
   "mimetype": "text/x-python",
   "name": "python",
   "nbconvert_exporter": "python",
   "pygments_lexer": "ipython3",
   "version": "3.11.7"
  }
 },
 "nbformat": 4,
 "nbformat_minor": 5
}
