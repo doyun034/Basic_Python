{
 "cells": [
  {
   "cell_type": "code",
   "execution_count": 1,
   "id": "07cbbebf-5a01-4e1d-a982-33d3a1e9182c",
   "metadata": {},
   "outputs": [],
   "source": [
    "import csv # csv 라이브러리 추가\n",
    "f = open ('AISW_최승호.csv', 'w', encoding='utf-8', newline='') # csv 파일, 쓰기 모드, utf-8 인코딩\n",
    "wr = csv.writer(f) # csv.writer 객체 생성\n",
    "wr.writerow([1293072, \"Pizza\"]) # 파일에 문자열 작성\n",
    "f.close() # 파일 종료"
   ]
  },
  {
   "cell_type": "code",
   "execution_count": 2,
   "id": "4361a8dd-c23a-4914-86ae-094d00e74453",
   "metadata": {},
   "outputs": [
    {
     "name": "stdout",
     "output_type": "stream",
     "text": [
      "['1293072', 'Pizza']\n"
     ]
    }
   ],
   "source": [
    "f = open('AISW_최승호.csv', 'r') #csv 파일, 읽기 모드\n",
    "rdr = csv.reader(f) # csv.reader 객체 생성\n",
    "for line in rdr: # rdr 객체를 사용해서 읽음\n",
    "    print(line) # 파일 문자열 출력"
   ]
  },
  {
   "cell_type": "code",
   "execution_count": null,
   "id": "24292fa0-84ab-49db-943e-5b46f48e75aa",
   "metadata": {},
   "outputs": [],
   "source": [
    "import csv  # csv 모듈을 임포트\n",
    "\n",
    "f = open('AISW_최승호.csv', 'w', encoding='utf-8', newline='')  # 'AISW_최승호.csv' 파일을 쓰기 모드('w')로 열고, UTF-8 인코딩을 사용, 줄 바꿈을 방지하기 위해 newline='' 사용\n",
    "wr = csv.writer(f)  # csv.writer 객체를 생성하여 파일 객체 f에 연결\n",
    "wr.writerow([1293072, \"Pizza\"])  # csv 파일에 한 행을 작성, 리스트 [1293072, \"Pizza\"]를 한 행으로 씀\n",
    "f.close()  # 파일을 닫음\n",
    "\n",
    "f = open('AISW_최승호.csv', 'r')  # 'AISW_최승호.csv' 파일을 읽기 모드('r')로 염\n",
    "rdr = csv.reader(f)  # csv.reader 객체를 생성하여 파일 객체 f에 연결\n",
    "for line in rdr:  # rdr 객체를 반복하여 각 행을 읽음\n",
    "    print(line)  # 각 행을 출력\n"
   ]
  }
 ],
 "metadata": {
  "kernelspec": {
   "display_name": "Python 3 (ipykernel)",
   "language": "python",
   "name": "python3"
  },
  "language_info": {
   "codemirror_mode": {
    "name": "ipython",
    "version": 3
   },
   "file_extension": ".py",
   "mimetype": "text/x-python",
   "name": "python",
   "nbconvert_exporter": "python",
   "pygments_lexer": "ipython3",
   "version": "3.11.7"
  }
 },
 "nbformat": 4,
 "nbformat_minor": 5
}
