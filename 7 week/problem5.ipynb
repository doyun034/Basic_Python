{
 "cells": [
  {
   "cell_type": "code",
   "execution_count": 12,
   "id": "d2421f16-2065-4c2f-b912-9bf7113d605d",
   "metadata": {},
   "outputs": [],
   "source": [
    "f = open('AISW_최승호.txt', mode='wt', encoding='utf-8') # txt 파일 생성, 쓰기 모드, utf-8로 인코딩\n",
    "f.write('1298073 최승호 A+') # 문자열 작성\n",
    "f.close() # 파일 종료"
   ]
  },
  {
   "cell_type": "code",
   "execution_count": 13,
   "id": "3cba9243-b321-4ece-8ed2-e5962562b423",
   "metadata": {},
   "outputs": [
    {
     "data": {
      "text/plain": [
       "'1298073 최승호 A+'"
      ]
     },
     "execution_count": 13,
     "metadata": {},
     "output_type": "execute_result"
    }
   ],
   "source": [
    "r = open('AISW_최승호.txt', mode='rt', encoding='utf-8') # txt 파일 읽기, 읽기 모드, utf-8로 인코딩\n",
    "r.readline() # 파일 내용 읽음"
   ]
  },
  {
   "cell_type": "code",
   "execution_count": null,
   "id": "1b0f046e-3702-45bd-8835-2e89ceb40dde",
   "metadata": {},
   "outputs": [],
   "source": []
  },
  {
   "cell_type": "code",
   "execution_count": null,
   "id": "440b9ca0-bde0-4ef1-8b9c-a5a820cd92e4",
   "metadata": {},
   "outputs": [],
   "source": []
  }
 ],
 "metadata": {
  "kernelspec": {
   "display_name": "Python 3 (ipykernel)",
   "language": "python",
   "name": "python3"
  },
  "language_info": {
   "codemirror_mode": {
    "name": "ipython",
    "version": 3
   },
   "file_extension": ".py",
   "mimetype": "text/x-python",
   "name": "python",
   "nbconvert_exporter": "python",
   "pygments_lexer": "ipython3",
   "version": "3.11.7"
  }
 },
 "nbformat": 4,
 "nbformat_minor": 5
}
