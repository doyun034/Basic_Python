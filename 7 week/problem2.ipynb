{
 "cells": [
  {
   "cell_type": "code",
   "execution_count": 1,
   "id": "7e9ba8c7-83f4-43e8-998c-204f8c5acc8d",
   "metadata": {},
   "outputs": [],
   "source": [
    "def take_order(burger_type, extra_toppings):# take_order 함수 선언\n",
    "    order = f\"{burger_type} 버거 주문\" # order 함수 선언\n",
    "    if extra_toppings: # 조건문 설정\n",
    "        order += \"(추가\" + str(extra_toppings)+\"토핑 포함)\"# order 서식 설정\n",
    "        return order # order 반환"
   ]
  },
  {
   "cell_type": "code",
   "execution_count": 3,
   "id": "17407120-05cd-4f02-97e9-47f42e9b71e3",
   "metadata": {},
   "outputs": [
    {
     "name": "stdout",
     "output_type": "stream",
     "text": [
      "불고기 버거 주문(추가치즈토핑 포함)\n",
      "불고기 버거 주문(추가고기토핑 포함)\n"
     ]
    }
   ],
   "source": [
    "burger_type=\"불고기\" # 변수 선언, 초기화\n",
    "extra_toppings=\"치즈\" # 변수 선언, 초기화\n",
    "order=take_order(burger_type, extra_toppings) # 변수 서식 설정\n",
    "print(order) # 프린트문 입력\n",
    "order=take_order(burger_type,'고기') # 변수 서식 설정\n",
    "print(order) # 프린트문 입력"
   ]
  },
  {
   "cell_type": "code",
   "execution_count": null,
   "id": "dec13a20-47b8-4de1-8fdb-98ce927947ca",
   "metadata": {},
   "outputs": [],
   "source": []
  }
 ],
 "metadata": {
  "kernelspec": {
   "display_name": "Python 3 (ipykernel)",
   "language": "python",
   "name": "python3"
  },
  "language_info": {
   "codemirror_mode": {
    "name": "ipython",
    "version": 3
   },
   "file_extension": ".py",
   "mimetype": "text/x-python",
   "name": "python",
   "nbconvert_exporter": "python",
   "pygments_lexer": "ipython3",
   "version": "3.11.7"
  }
 },
 "nbformat": 4,
 "nbformat_minor": 5
}
