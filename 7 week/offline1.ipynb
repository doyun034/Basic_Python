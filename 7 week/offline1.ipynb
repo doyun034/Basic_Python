{
 "cells": [
  {
   "cell_type": "code",
   "execution_count": 2,
   "id": "3692a3a8-6ef6-433d-92f0-68cad7867b11",
   "metadata": {},
   "outputs": [
    {
     "name": "stdin",
     "output_type": "stream",
     "text": [
      "학생 이름 입력 ㅁㄴㅇ\n"
     ]
    },
    {
     "name": "stdout",
     "output_type": "stream",
     "text": [
      "ㅁㄴㅇ학생\n",
      "안녕\n"
     ]
    }
   ],
   "source": [
    "def hello_student(): # 함수 작성, 매개변수 공백\n",
    "    print(\"안녕\")\n",
    "cp1 = input(\"학생 이름 입력\")\n",
    "print(f\"{cp1}학생\")\n",
    "\n",
    "hello_student()"
   ]
  },
  {
   "cell_type": "code",
   "execution_count": 3,
   "id": "b079741b-23bd-4e5a-bc16-ece921ac8239",
   "metadata": {},
   "outputs": [
    {
     "name": "stdin",
     "output_type": "stream",
     "text": [
      "학생 이름 입력 asd\n"
     ]
    },
    {
     "name": "stdout",
     "output_type": "stream",
     "text": [
      "asd안녕\n"
     ]
    }
   ],
   "source": [
    "def hello_student(person): # 함수 작성, 매개변수 선언\n",
    "    print(str(person)+\"안녕\")\n",
    "cp1 = input(\"학생 이름 입력\")\n",
    "hello_student(cp1)"
   ]
  },
  {
   "cell_type": "code",
   "execution_count": 4,
   "id": "05becb86-1906-4a71-84c5-465c35e300e5",
   "metadata": {},
   "outputs": [
    {
     "name": "stdin",
     "output_type": "stream",
     "text": [
      "학생 이름 입력 asd\n",
      "학생 이름 입력 qwe\n"
     ]
    },
    {
     "name": "stdout",
     "output_type": "stream",
     "text": [
      "asd안녕\n",
      "qwe안녕\n"
     ]
    }
   ],
   "source": [
    "def hello_student(person1, person2): # 함수 작성, 다수 매개변수 선언\n",
    "    print(str(person1)+\"안녕\")\n",
    "    print(str(person2)+\"안녕\")\n",
    "    \n",
    "cp1 = input(\"학생 이름 입력\")\n",
    "cp2 = input(\"학생 이름 입력\")\n",
    "\n",
    "hello_student(cp1, cp2)"
   ]
  },
  {
   "cell_type": "code",
   "execution_count": 5,
   "id": "1bf14f2e-e7dd-427d-b314-a0cc82273e58",
   "metadata": {},
   "outputs": [
    {
     "name": "stdin",
     "output_type": "stream",
     "text": [
      "학생 이름 입력 ㅁㄴㅇ\n"
     ]
    },
    {
     "name": "stdout",
     "output_type": "stream",
     "text": [
      "ㅁㄴㅇ안녕\n",
      "이민경안녕\n"
     ]
    }
   ],
   "source": [
    "def hello_student(person1, person2=\"이민경\"): # 함수 작성, 다수 매개변수 선언, 매개변수 초기화 가능\n",
    "    print(str(person1)+\"안녕\")\n",
    "    print(str(person2)+\"안녕\")\n",
    "    \n",
    "cp1 = input(\"학생 이름 입력\")\n",
    "hello_student(cp1)"
   ]
  },
  {
   "cell_type": "code",
   "execution_count": 6,
   "id": "33695982-f900-4f19-b4ba-1e6a4c1edc83",
   "metadata": {},
   "outputs": [
    {
     "name": "stdin",
     "output_type": "stream",
     "text": [
      "학생 이름 입력 ㅁㄴㅇ\n"
     ]
    },
    {
     "name": "stdout",
     "output_type": "stream",
     "text": [
      "ㅁㄴㅇ안녕\n",
      "이수안녕\n"
     ]
    }
   ],
   "source": [
    "def hello_student(person1, person2=\"이민경\"): # 함수 작성, 다수 매개변수 선언, 매개변수 초기화 가능\n",
    "    print(str(person1)+\"안녕\")\n",
    "    print(str(person2)+\"안녕\")\n",
    "    \n",
    "cp1 = input(\"학생 이름 입력\")\n",
    "hello_student(cp1, \"이수\") # 매개변수가 초기화 되어도, 호출 함수에 직접 설정한 값이 더 우선순위"
   ]
  },
  {
   "cell_type": "code",
   "execution_count": 9,
   "id": "5af53841-9700-40f3-829e-cbe1c7400b9f",
   "metadata": {},
   "outputs": [
    {
     "name": "stdin",
     "output_type": "stream",
     "text": [
      "몸무게 입력 81\n",
      "키 입력 180\n"
     ]
    },
    {
     "name": "stdout",
     "output_type": "stream",
     "text": [
      "BMI25\n"
     ]
    }
   ],
   "source": [
    "def bmi_calc(a,b):\n",
    "    return int(a/(b**2))\n",
    "\n",
    "weight = int(input('몸무게 입력'))\n",
    "height = int(input('키 입력'))\n",
    "\n",
    "height_m = height/100\n",
    "bmi = bmi_calc(weight, height_m)\n",
    "print(f\"BMI {bmi}\")"
   ]
  },
  {
   "cell_type": "code",
   "execution_count": 20,
   "id": "caa95ed4-b732-4bb1-91bb-6bd79e9755d6",
   "metadata": {},
   "outputs": [],
   "source": [
    "def twoMultiple(number):\n",
    "    if(number%2==0):\n",
    "        return True\n",
    "    else:\n",
    "        return False"
   ]
  },
  {
   "cell_type": "code",
   "execution_count": 21,
   "id": "8ee7813f-7f4e-4f92-8fb9-3e3bcf392072",
   "metadata": {},
   "outputs": [
    {
     "name": "stdout",
     "output_type": "stream",
     "text": [
      "False\n"
     ]
    }
   ],
   "source": [
    "twos=twoMultiple(5)\n",
    "print(twos)"
   ]
  },
  {
   "cell_type": "code",
   "execution_count": 22,
   "id": "38337c54-ea5e-4c6c-ad95-ada122f19bb4",
   "metadata": {},
   "outputs": [],
   "source": [
    "def twoMultiple(number):\n",
    "    if(number%2==0):\n",
    "        return True\n",
    "    else:\n",
    "        return False"
   ]
  },
  {
   "cell_type": "code",
   "execution_count": 23,
   "id": "4ceef7e9-913b-479b-9c42-50d7456ae633",
   "metadata": {},
   "outputs": [],
   "source": [
    "def twoMultiple2(num):\n",
    "    for i in range(20, num):\n",
    "        if twoMultiple(i):\n",
    "            print(i, end ='')\n",
    "        print()"
   ]
  },
  {
   "cell_type": "code",
   "execution_count": 24,
   "id": "bc334036-2b70-4f1d-a20f-9097a0072f9b",
   "metadata": {},
   "outputs": [
    {
     "name": "stdout",
     "output_type": "stream",
     "text": [
      "20\n",
      "\n",
      "22\n",
      "\n",
      "24\n",
      "\n",
      "26\n",
      "\n",
      "28\n",
      "\n"
     ]
    }
   ],
   "source": [
    "twoMultiple2(30)"
   ]
  },
  {
   "cell_type": "code",
   "execution_count": 33,
   "id": "13ac1b64-fe0d-4c51-b243-71d276766a58",
   "metadata": {},
   "outputs": [
    {
     "data": {
      "text/plain": [
       "'파이썬으로 파일을 '"
      ]
     },
     "execution_count": 33,
     "metadata": {},
     "output_type": "execute_result"
    }
   ],
   "source": [
    "r=open('test.txt', mode='rt',encoding='utf-8')\n",
    "r.read(10)"
   ]
  },
  {
   "cell_type": "code",
   "execution_count": null,
   "id": "570a5720-7e90-4b82-a9ba-ec601a179966",
   "metadata": {},
   "outputs": [],
   "source": []
  }
 ],
 "metadata": {
  "kernelspec": {
   "display_name": "Python 3 (ipykernel)",
   "language": "python",
   "name": "python3"
  },
  "language_info": {
   "codemirror_mode": {
    "name": "ipython",
    "version": 3
   },
   "file_extension": ".py",
   "mimetype": "text/x-python",
   "name": "python",
   "nbconvert_exporter": "python",
   "pygments_lexer": "ipython3",
   "version": "3.11.7"
  }
 },
 "nbformat": 4,
 "nbformat_minor": 5
}
