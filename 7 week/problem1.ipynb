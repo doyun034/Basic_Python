{
 "cells": [
  {
   "cell_type": "code",
   "execution_count": 14,
   "id": "4909d210-b45b-4236-9549-652f490d2e01",
   "metadata": {},
   "outputs": [
    {
     "name": "stdout",
     "output_type": "stream",
     "text": [
      "20 22 24 26 28 \n",
      "2의 배수들의 합= 120\n",
      "2의 배수들의 개수= 5\n"
     ]
    }
   ],
   "source": [
    "def twoMultiple(number): # 두 배수를 확인하는 함수 정의\n",
    "    if (number%2 ==0): # number가 2로 나누어지는지 조건문 설정\n",
    "        return True # 참일시 True 반환\n",
    "    else: # 거짓일시 \n",
    "        return False # False 반환\n",
    "\n",
    "def twoMultiple3(num): # num보다 작은 수들 중 두 배수를 찾는 함수 정의\n",
    "    sum = cnt = 0 # sum, cnt 초기화\n",
    "    for i in range(20,num): #반복문 설정\n",
    "        if twoMultiple(i): # i가 2의 배수인지 확인\n",
    "            print(i,end=' ') # 프린트문 추력\n",
    "            cnt +=1 # cnt 증가\n",
    "            sum +=i # sum에 cnt 추가\n",
    "    return sum, cnt # sum, cnt 반환\n",
    "\n",
    "sum, count = twoMultiple3(30) # 30보다 작은 두 배수의 합과 개수 계산\n",
    "print() # 프린트문 출력\n",
    "print('2의 배수들의 합=', sum) # 두 배수 합 출력\n",
    "print('2의 배수들의 개수=', count) # 두 배수 갯수 출력"
   ]
  }
 ],
 "metadata": {
  "kernelspec": {
   "display_name": "Python 3 (ipykernel)",
   "language": "python",
   "name": "python3"
  },
  "language_info": {
   "codemirror_mode": {
    "name": "ipython",
    "version": 3
   },
   "file_extension": ".py",
   "mimetype": "text/x-python",
   "name": "python",
   "nbconvert_exporter": "python",
   "pygments_lexer": "ipython3",
   "version": "3.11.7"
  }
 },
 "nbformat": 4,
 "nbformat_minor": 5
}
