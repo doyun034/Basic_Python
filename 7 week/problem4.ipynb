{
 "cells": [
  {
   "cell_type": "code",
   "execution_count": 7,
   "id": "2d534e28-cbef-4783-a089-73ef147cbf4f",
   "metadata": {},
   "outputs": [],
   "source": [
    "def calculate_shopping_cost(shopping_list, price_list): # calculate_shopping_cost 함수 선언\n",
    "    total_cost = 0 # total_cost 변수 초기화\n",
    "    for item in shopping_list: # 반복문 작동 설정\n",
    "        if item in price_list: # 조건문 설정\n",
    "            total_cost += price_list[item] # total_cost 초기화\n",
    "        else: # 조건문 설정\n",
    "            print(f\"{item}은(는) 가격표에 없습니다. 무시합니다\") # 출력문 선언\n",
    "            return total_cost #total_cost 반환"
   ]
  },
  {
   "cell_type": "code",
   "execution_count": 8,
   "id": "c115610b-257f-4227-ad40-35c5201adea6",
   "metadata": {},
   "outputs": [
    {
     "name": "stdout",
     "output_type": "stream",
     "text": [
      "토마토은(는) 가격표에 없습니다. 무시합니다\n",
      "총 비용: 2300 원\n"
     ]
    }
   ],
   "source": [
    "price_list = {'사과':1000 , '바나나':800, '오이': 500, '당근': 700} # price_list 배열 초기화\n",
    "\n",
    "shopping_list = ['사과', '바나나', '오이', '토마토'] # shopping_list 배열 초기화\n",
    "\n",
    "total_cost = calculate_shopping_cost(shopping_list, price_list) # total_cost 변수 초기화\n",
    "\n",
    "print(f\"총 비용: {total_cost} 원\") # 프린트문 출력"
   ]
  },
  {
   "cell_type": "code",
   "execution_count": null,
   "id": "76a957df-821e-4744-a378-ff1a4bb84384",
   "metadata": {},
   "outputs": [],
   "source": []
  }
 ],
 "metadata": {
  "kernelspec": {
   "display_name": "Python 3 (ipykernel)",
   "language": "python",
   "name": "python3"
  },
  "language_info": {
   "codemirror_mode": {
    "name": "ipython",
    "version": 3
   },
   "file_extension": ".py",
   "mimetype": "text/x-python",
   "name": "python",
   "nbconvert_exporter": "python",
   "pygments_lexer": "ipython3",
   "version": "3.11.7"
  }
 },
 "nbformat": 4,
 "nbformat_minor": 5
}
