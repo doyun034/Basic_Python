{
 "cells": [
  {
   "cell_type": "code",
   "execution_count": 1,
   "id": "6130621d-648a-4c8e-9f25-2c36bc780f06",
   "metadata": {},
   "outputs": [
    {
     "data": {
      "text/plain": [
       "'최승호(작가:최승호) 도서를 찾았다.'"
      ]
     },
     "execution_count": 1,
     "metadata": {},
     "output_type": "execute_result"
    }
   ],
   "source": [
    "def search_book(title, author): # search_book 함수 선언\n",
    "    if title and author: # 조건문 설정\n",
    "        return f\"{title}(작가:{author}) 도서를 찾았다.\" # 출력문 반환\n",
    "    elif title: # 조건문 설정\n",
    "        return f\"{title} 도서를 찾았다.\" # 출력문 반환\n",
    "    else: # 조건문 설정\n",
    "        return \"검색어 입력\" # 출력문 반환\n",
    "\n",
    "search_book(\"최승호\", \"최승호\") # search_book 초기화"
   ]
  },
  {
   "cell_type": "code",
   "execution_count": 2,
   "id": "576749bb-c204-4206-ae05-0947592a8b10",
   "metadata": {},
   "outputs": [
    {
     "data": {
      "text/plain": [
       "'최승호 도서를 찾았다.'"
      ]
     },
     "execution_count": 2,
     "metadata": {},
     "output_type": "execute_result"
    }
   ],
   "source": [
    "search_book(\"최승호\",\"\") # serach_book 초기화"
   ]
  },
  {
   "cell_type": "code",
   "execution_count": 3,
   "id": "53da9506-bd37-4b02-9083-a7a80090c283",
   "metadata": {},
   "outputs": [
    {
     "data": {
      "text/plain": [
       "'검색어 입력'"
      ]
     },
     "execution_count": 3,
     "metadata": {},
     "output_type": "execute_result"
    }
   ],
   "source": [
    "title=0 # title 변수 초기화\n",
    "author=0 # author 변수 초기화\n",
    "search_book(title,author) # search_book에 title, author 변수값 설정"
   ]
  },
  {
   "cell_type": "code",
   "execution_count": null,
   "id": "4e04b0ff-630c-4d4c-a96d-d2c40925bad1",
   "metadata": {},
   "outputs": [],
   "source": []
  }
 ],
 "metadata": {
  "kernelspec": {
   "display_name": "Python 3 (ipykernel)",
   "language": "python",
   "name": "python3"
  },
  "language_info": {
   "codemirror_mode": {
    "name": "ipython",
    "version": 3
   },
   "file_extension": ".py",
   "mimetype": "text/x-python",
   "name": "python",
   "nbconvert_exporter": "python",
   "pygments_lexer": "ipython3",
   "version": "3.11.7"
  }
 },
 "nbformat": 4,
 "nbformat_minor": 5
}
