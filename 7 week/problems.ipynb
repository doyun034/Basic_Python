{
 "cells": [
  {
   "cell_type": "code",
   "execution_count": 14,
   "id": "4909d210-b45b-4236-9549-652f490d2e01",
   "metadata": {},
   "outputs": [
    {
     "name": "stdout",
     "output_type": "stream",
     "text": [
      "20 22 24 26 28 \n",
      "2의 배수들의 합= 120\n",
      "2의 배수들의 개수= 5\n"
     ]
    }
   ],
   "source": [
    "# 문제 1\n",
    "def twoMultiple(number): # 두 배수를 확인하는 함수 정의\n",
    "    if (number%2 ==0): # number가 2로 나누어지는지 조건문 설정\n",
    "        return True # 참일시 True 반환\n",
    "    else: # 거짓일시 \n",
    "        return False # False 반환\n",
    "\n",
    "def twoMultiple3(num): # num보다 작은 수들 중 두 배수를 찾는 함수 정의\n",
    "    sum = cnt = 0 # sum, cnt 초기화\n",
    "    for i in range(20,num): #반복문 설정\n",
    "        if twoMultiple(i): # i가 2의 배수인지 확인\n",
    "            print(i,end=' ') # 프린트문 추력\n",
    "            cnt +=1 # cnt 증가\n",
    "            sum +=i # sum에 cnt 추가\n",
    "    return sum, cnt # sum, cnt 반환\n",
    "\n",
    "sum, count = twoMultiple3(30) # 30보다 작은 두 배수의 합과 개수 계산\n",
    "print() # 프린트문 출력\n",
    "print('2의 배수들의 합=', sum) # 두 배수 합 출력\n",
    "print('2의 배수들의 개수=', count) # 두 배수 갯수 출력"
   ]
  },
  {
   "cell_type": "code",
   "execution_count": null,
   "id": "9b037eba-99ad-41e1-8959-53e5db21b780",
   "metadata": {},
   "outputs": [],
   "source": [
    "# 문제 2\n",
    "def take_order(burger_type, extra_toppings):# take_order 함수 선언\n",
    "    order = f\"{burger_type} 버거 주문\" # order 함수 선언\n",
    "    if extra_toppings: # 조건문 설정\n",
    "        order += \"(추가\" + str(extra_toppings)+\"토핑 포함)\"# order 서식 설정\n",
    "        return order # order 반환"
   ]
  },
  {
   "cell_type": "code",
   "execution_count": null,
   "id": "f7ea87ef-e9a8-421d-ba41-1a1a0df3deda",
   "metadata": {},
   "outputs": [],
   "source": [
    "burger_type=\"불고기\" # 변수 선언, 초기화\n",
    "extra_toppings=\"치즈\" # 변수 선언, 초기화\n",
    "order=take_order(burger_type, extra_toppings) # 변수 서식 설정\n",
    "print(order) # 프린트문 입력\n",
    "order=take_order(burger_type,'고기') # 변수 서식 설정\n",
    "print(order) # 프린트문 입력"
   ]
  },
  {
   "cell_type": "code",
   "execution_count": null,
   "id": "dc944add-fb52-4d18-866b-43e8d2e9b1ae",
   "metadata": {},
   "outputs": [],
   "source": [
    "# 문제 3\n",
    "def search_book(title, author): # search_book 함수 선언\n",
    "    if title and author: # 조건문 설정\n",
    "        return f\"{title}(작가:{author}) 도서를 찾았다.\" # 출력문 반환\n",
    "    elif title: # 조건문 설정\n",
    "        return f\"{title} 도서를 찾았다.\" # 출력문 반환\n",
    "    else: # 조건문 설정\n",
    "        return \"검색어 입력\" # 출력문 반환\n",
    "\n",
    "search_book(\"최승호\", \"최승호\") # search_book 초기화"
   ]
  },
  {
   "cell_type": "code",
   "execution_count": null,
   "id": "325f2f22-66bc-4169-bca3-aa08764c7378",
   "metadata": {},
   "outputs": [],
   "source": [
    "search_book(\"최승호\",\"\") # serach_book 초기화"
   ]
  },
  {
   "cell_type": "code",
   "execution_count": null,
   "id": "4abd8efa-3966-4d31-acd6-1c035875982b",
   "metadata": {},
   "outputs": [],
   "source": [
    "title=0 # title 변수 초기화\n",
    "author=0 # author 변수 초기화\n",
    "search_book(title,author) # search_book에 title, author 변수값 설정"
   ]
  },
  {
   "cell_type": "code",
   "execution_count": null,
   "id": "c53d5cd5-67cc-4313-abef-232a68ef6862",
   "metadata": {},
   "outputs": [],
   "source": [
    "# 문제 4\n",
    "def calculate_shopping_cost(shopping_list, price_list): # calculate_shopping_cost 함수 선언\n",
    "    total_cost = 0 # total_cost 변수 초기화\n",
    "    for item in shopping_list: # 반복문 작동 설정\n",
    "        if item in price_list: # 조건문 설정\n",
    "            total_cost += price_list[item] # total_cost 초기화\n",
    "        else: # 조건문 설정\n",
    "            print(f\"{item}은(는) 가격표에 없습니다. 무시합니다\") # 출력문 선언\n",
    "            return total_cost #total_cost 반환"
   ]
  },
  {
   "cell_type": "code",
   "execution_count": null,
   "id": "2a28f531-dd6e-4dc7-b8b4-2f12fdc6c2bb",
   "metadata": {},
   "outputs": [],
   "source": [
    "price_list = {'사과':1000 , '바나나':800, '오이': 500, '당근': 700} # price_list 배열 초기화\n",
    "\n",
    "shopping_list = ['사과', '바나나', '오이', '토마토'] # shopping_list 배열 초기화\n",
    "\n",
    "total_cost = calculate_shopping_cost(shopping_list, price_list) # total_cost 변수 초기화\n",
    "\n",
    "print(f\"총 비용: {total_cost} 원\") # 프린트문 출력"
   ]
  },
  {
   "cell_type": "code",
   "execution_count": null,
   "id": "ca61603f-5209-4199-be91-16268820a4dd",
   "metadata": {},
   "outputs": [],
   "source": [
    "# 문제 5\n",
    "f = open('AISW_최승호.txt', mode='wt', encoding='utf-8') # txt 파일 생성, 쓰기 모드, utf-8로 인코딩\n",
    "f.write('1298073 최승호 A+') # 문자열 작성\n",
    "f.close() # 파일 종료"
   ]
  },
  {
   "cell_type": "code",
   "execution_count": null,
   "id": "089c4b15-7e1b-4aed-8c35-657ddb95489e",
   "metadata": {},
   "outputs": [],
   "source": [
    "r = open('AISW_최승호.txt', mode='rt', encoding='utf-8') # txt 파일 읽기, 읽기 모드, utf-8로 인코딩\n",
    "r.readline() # 파일 내용 읽음"
   ]
  },
  {
   "cell_type": "code",
   "execution_count": null,
   "id": "18f29e3c-443f-4205-b9d2-75ba226f8638",
   "metadata": {},
   "outputs": [],
   "source": [
    "# 문제 6\n",
    "import csv # csv 라이브러리 추가\n",
    "f = open ('AISW_최승호.csv', 'w', encoding='utf-8', newline='') # csv 파일, 쓰기 모드, utf-8 인코딩\n",
    "wr = csv.writer(f) # csv.writer 객체 생성\n",
    "wr.writerow([1293072, \"Pizza\"]) # 파일에 문자열 작성\n",
    "f.close() # 파일 종료"
   ]
  },
  {
   "cell_type": "code",
   "execution_count": null,
   "id": "ddb1bc26-b117-44f4-8071-b8fa38962bf9",
   "metadata": {},
   "outputs": [],
   "source": [
    "f = open('AISW_최승호.csv', 'r') #csv 파일, 읽기 모드\n",
    "rdr = csv.reader(f) # csv.reader 객체 생성\n",
    "for line in rdr: # rdr 객체를 사용해서 읽음\n",
    "    print(line) # 파일 문자열 출력"
   ]
  },
  {
   "cell_type": "code",
   "execution_count": null,
   "id": "eb36ec94-dddc-4025-bd04-72a187fc3d94",
   "metadata": {},
   "outputs": [],
   "source": [
    "import csv  # csv 모듈을 임포트\n",
    "\n",
    "f = open('AISW_최승호.csv', 'w', encoding='utf-8', newline='')  # 'AISW_최승호.csv' 파일을 쓰기 모드('w')로 열고, UTF-8 인코딩을 사용, 줄 바꿈을 방지하기 위해 newline='' 사용\n",
    "wr = csv.writer(f)  # csv.writer 객체를 생성하여 파일 객체 f에 연결\n",
    "wr.writerow([1293072, \"Pizza\"])  # csv 파일에 한 행을 작성, 리스트 [1293072, \"Pizza\"]를 한 행으로 씀\n",
    "f.close()  # 파일을 닫음\n",
    "\n",
    "f = open('AISW_최승호.csv', 'r')  # 'AISW_최승호.csv' 파일을 읽기 모드('r')로 염\n",
    "rdr = csv.reader(f)  # csv.reader 객체를 생성하여 파일 객체 f에 연결\n",
    "for line in rdr:  # rdr 객체를 반복하여 각 행을 읽음\n",
    "    print(line)  # 각 행을 출력\n"
   ]
  }
 ],
 "metadata": {
  "kernelspec": {
   "display_name": "Python 3 (ipykernel)",
   "language": "python",
   "name": "python3"
  },
  "language_info": {
   "codemirror_mode": {
    "name": "ipython",
    "version": 3
   },
   "file_extension": ".py",
   "mimetype": "text/x-python",
   "name": "python",
   "nbconvert_exporter": "python",
   "pygments_lexer": "ipython3",
   "version": "3.11.7"
  }
 },
 "nbformat": 4,
 "nbformat_minor": 5
}
